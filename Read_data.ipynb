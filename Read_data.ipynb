{
 "cells": [
  {
   "cell_type": "code",
   "execution_count": 3,
   "metadata": {},
   "outputs": [
    {
     "data": {
      "text/plain": [
       "'Connected: None@None'"
      ]
     },
     "execution_count": 3,
     "metadata": {},
     "output_type": "execute_result"
    }
   ],
   "source": [
    "%load_ext sql\n",
    "%sql sqlite://"
   ]
  },
  {
   "cell_type": "code",
   "execution_count": 1,
   "metadata": {
    "collapsed": true
   },
   "outputs": [],
   "source": [
    "import csv, sqlite3\n",
    "import os.path"
   ]
  },
  {
   "cell_type": "code",
   "execution_count": 5,
   "metadata": {},
   "outputs": [
    {
     "data": {
      "text/plain": [
       "u'Connected: None@cems.db'"
      ]
     },
     "execution_count": 5,
     "metadata": {},
     "output_type": "execute_result"
    }
   ],
   "source": [
    "%sql sqlite:///cems.db\n"
   ]
  },
  {
   "cell_type": "code",
   "execution_count": 15,
   "metadata": {},
   "outputs": [
    {
     "name": "stdout",
     "output_type": "stream",
     "text": [
      "Done.\n"
     ]
    },
    {
     "data": {
      "text/html": [
       "<table>\n",
       "    <tr>\n",
       "        <th>state</th>\n",
       "        <th>facility_name</th>\n",
       "        <th>orispl_code</th>\n",
       "        <th>unitid</th>\n",
       "        <th>op_date</th>\n",
       "        <th>op_hour</th>\n",
       "        <th>op_time</th>\n",
       "        <th>gload</th>\n",
       "        <th>SO2_MASS</th>\n",
       "        <th>NOX_MASS</th>\n",
       "        <th>CO2_MASS</th>\n",
       "        <th>HEAT_INPUT</th>\n",
       "    </tr>\n",
       "    <tr>\n",
       "        <td>WA</td>\n",
       "        <td>Centralia</td>\n",
       "        <td>3845</td>\n",
       "        <td>BW21</td>\n",
       "        <td>01-01-2001</td>\n",
       "        <td>0</td>\n",
       "        <td>1.0</td>\n",
       "        <td>704.0</td>\n",
       "        <td>11493.6</td>\n",
       "        <td>2506.854</td>\n",
       "        <td>720.5</td>\n",
       "        <td>7022.0</td>\n",
       "    </tr>\n",
       "    <tr>\n",
       "        <td>WA</td>\n",
       "        <td>Centralia</td>\n",
       "        <td>3845</td>\n",
       "        <td>BW21</td>\n",
       "        <td>01-01-2001</td>\n",
       "        <td>1</td>\n",
       "        <td>1.0</td>\n",
       "        <td>706.0</td>\n",
       "        <td>11774.7</td>\n",
       "        <td>2577.369</td>\n",
       "        <td>736.6</td>\n",
       "        <td>7179.3</td>\n",
       "    </tr>\n",
       "    <tr>\n",
       "        <td>WA</td>\n",
       "        <td>Centralia</td>\n",
       "        <td>3845</td>\n",
       "        <td>BW21</td>\n",
       "        <td>01-01-2001</td>\n",
       "        <td>2</td>\n",
       "        <td>1.0</td>\n",
       "        <td>704.0</td>\n",
       "        <td>11156.9</td>\n",
       "        <td>2606.306</td>\n",
       "        <td>718.8</td>\n",
       "        <td>7006.2</td>\n",
       "    </tr>\n",
       "    <tr>\n",
       "        <td>WA</td>\n",
       "        <td>Centralia</td>\n",
       "        <td>3845</td>\n",
       "        <td>BW21</td>\n",
       "        <td>01-01-2001</td>\n",
       "        <td>3</td>\n",
       "        <td>1.0</td>\n",
       "        <td>702.0</td>\n",
       "        <td>10990.0</td>\n",
       "        <td>2561.697</td>\n",
       "        <td>716.2</td>\n",
       "        <td>6980.1</td>\n",
       "    </tr>\n",
       "    <tr>\n",
       "        <td>WA</td>\n",
       "        <td>Centralia</td>\n",
       "        <td>3845</td>\n",
       "        <td>BW21</td>\n",
       "        <td>01-01-2001</td>\n",
       "        <td>4</td>\n",
       "        <td>1.0</td>\n",
       "        <td>702.0</td>\n",
       "        <td>11027.6</td>\n",
       "        <td>2631.762</td>\n",
       "        <td>716.2</td>\n",
       "        <td>6980.8</td>\n",
       "    </tr>\n",
       "</table>"
      ],
      "text/plain": [
       "[(u'WA', u'Centralia', 3845, u'BW21', u'01-01-2001', 0, 1.0, 704.0, 11493.6, 2506.854, 720.5, 7022.0),\n",
       " (u'WA', u'Centralia', 3845, u'BW21', u'01-01-2001', 1, 1.0, 706.0, 11774.7, 2577.369, 736.6, 7179.3),\n",
       " (u'WA', u'Centralia', 3845, u'BW21', u'01-01-2001', 2, 1.0, 704.0, 11156.9, 2606.306, 718.8, 7006.2),\n",
       " (u'WA', u'Centralia', 3845, u'BW21', u'01-01-2001', 3, 1.0, 702.0, 10990.0, 2561.697, 716.2, 6980.1),\n",
       " (u'WA', u'Centralia', 3845, u'BW21', u'01-01-2001', 4, 1.0, 702.0, 11027.6, 2631.762, 716.2, 6980.8)]"
      ]
     },
     "execution_count": 15,
     "metadata": {},
     "output_type": "execute_result"
    }
   ],
   "source": [
    "%sql select * from test limit 5"
   ]
  },
  {
   "cell_type": "code",
   "execution_count": null,
   "metadata": {
    "collapsed": true
   },
   "outputs": [],
   "source": []
  },
  {
   "cell_type": "code",
   "execution_count": 7,
   "metadata": {
    "collapsed": true
   },
   "outputs": [],
   "source": [
    "con = sqlite3.connect(\"cems.db\")\n",
    "cur = con.cursor()\n"
   ]
  },
  {
   "cell_type": "code",
   "execution_count": 8,
   "metadata": {},
   "outputs": [
    {
     "data": {
      "text/plain": [
       "<sqlite3.Cursor at 0x9d47d20>"
      ]
     },
     "execution_count": 8,
     "metadata": {},
     "output_type": "execute_result"
    }
   ],
   "source": [
    "cur.execute('drop table if exists test;')\n",
    "cur.execute(\n",
    "\"create table test( \\\n",
    "    state varchar, \\\n",
    "    facility_name varchar, \\\n",
    "    orispl_code int, \\\n",
    "    unitid varchar, \\\n",
    "    op_date date, \\\n",
    "    op_hour int, \\\n",
    "    op_time float, \\\n",
    "    gload float, \\\n",
    "    SO2_MASS float, \\\n",
    "    NOX_MASS float, \\\n",
    "    CO2_MASS float, \\\n",
    "    HEAT_INPUT float \\\n",
    ");\")"
   ]
  },
  {
   "cell_type": "code",
   "execution_count": 14,
   "metadata": {},
   "outputs": [
    {
     "name": "stdout",
     "output_type": "stream",
     "text": [
      "2001\n",
      "2002\n",
      "2003\n",
      "2004\n",
      "2005\n",
      "2006\n",
      "2007\n",
      "2008\n",
      "2009\n",
      "2010\n",
      "2011\n",
      "2012\n",
      "2013\n",
      "2014\n",
      "2015\n",
      "2016\n",
      "2017\n"
     ]
    }
   ],
   "source": [
    "for year in range(2001, 2018):\n",
    "    print(year)\n",
    "    for n_month in range(1, 13):\n",
    "        for state in ['wa', 'or', 'ca', 'id', 'nv', 'ut', 'az', 'nm', 'co', 'wy', 'mt', 'tx']:\n",
    "            month = str(n_month) if n_month > 9 else \"0\" + str(n_month)\n",
    "            name = \"unzipped/\" + str(year) + state + month + \".csv\"\n",
    "            if os.path.isfile(name):\n",
    "                with open(name, 'rb') as fin:\n",
    "                    dr = csv.DictReader(fin)\n",
    "                    try:\n",
    "                        to_db = [(i['STATE'], i['FACILITY_NAME'], i['ORISPL_CODE'], i['UNITID'], i['OP_DATE'], i['OP_HOUR'], i['OP_TIME'], i['GLOAD (MW)'], \n",
    "                                  i['SO2_MASS (lbs)'], i['NOX_MASS (lbs)'], i['CO2_MASS (tons)'], i['HEAT_INPUT (mmBtu)']) for i in dr]\n",
    "                    except:\n",
    "                        try:\n",
    "                            to_db = [(i['STATE'], i['FACILITY_NAME'], i['ORISPL_CODE'], i['UNITID'], i['OP_DATE'], i['OP_HOUR'], i['OP_TIME'], i['GLOAD'], \n",
    "                                  i['SO2_MASS'], i['NOX_MASS'], i['CO2_MASS'], i['HEAT_INPUT']) for i in dr]\n",
    "                        except:\n",
    "                            print(name)\n",
    "#                     print to_db\n",
    "                    cur.executemany(\"insert into test (STATE, FACILITY_NAME, ORISPL_CODE, UNITID, OP_DATE, \\\n",
    "OP_HOUR, OP_TIME, GLOAD, SO2_MASS, NOX_MASS, CO2_MASS, HEAT_INPUT ) VALUES (?, ?, ?, ?, ?, ?, ?, ?, ?, ?, ?, ?);\", to_db)\n",
    "\n",
    "con.commit()"
   ]
  },
  {
   "cell_type": "code",
   "execution_count": 52,
   "metadata": {
    "collapsed": true
   },
   "outputs": [],
   "source": [
    "con.commit()"
   ]
  },
  {
   "cell_type": "code",
   "execution_count": 41,
   "metadata": {},
   "outputs": [
    {
     "name": "stdout",
     "output_type": "stream",
     "text": [
      "[(u'WY', u'Dave Johnston', 4158, u'BW41', u'03-01-2017', 0, 1.0, 68.0, u'', 609.4, u'Measured', 0.791, u'Calculated', 0.242, u'Measured', 186.534, u'Calculated', 80.8, u'Measured', 0.105, u'Calculated', 770.8, 764, 2633), (u'WY', u'Dave Johnston', 4158, u'BW41', u'03-01-2017', 1, 1.0, 69.0, u'', 611.4, u'Measured', 0.788, u'Calculated', 0.237, u'Measured', 183.983, u'Calculated', 81.4, u'Measured', 0.105, u'Calculated', 776.3, 764, 2633), (u'WY', u'Dave Johnston', 4158, u'BW41', u'03-01-2017', 2, 1.0, 69.0, u'', 608.1, u'Measured', 0.789, u'Calculated', 0.234, u'Measured', 180.367, u'Calculated', 80.8, u'Measured', 0.105, u'Calculated', 770.8, 764, 2633), (u'WY', u'Dave Johnston', 4158, u'BW41', u'03-01-2017', 3, 1.0, 69.0, u'', 622.8, u'Measured', 0.812, u'Calculated', 0.231, u'Measured', 177.246, u'Calculated', 80.5, u'Measured', 0.105, u'Calculated', 767.3, 764, 2633), (u'WY', u'Dave Johnston', 4158, u'BW41', u'03-01-2017', 4, 1.0, 67.0, u'', 636.5, u'Measured', 0.875, u'Calculated', 0.293, u'Measured', 213.245, u'Calculated', 76.3, u'Measured', 0.105, u'Calculated', 727.8, 764, 2633)]\n"
     ]
    }
   ],
   "source": [
    "print(cur.fetchall())"
   ]
  },
  {
   "cell_type": "code",
   "execution_count": null,
   "metadata": {
    "collapsed": true
   },
   "outputs": [],
   "source": []
  }
 ],
 "metadata": {
  "kernelspec": {
   "display_name": "Python 2",
   "language": "python",
   "name": "python2"
  },
  "language_info": {
   "codemirror_mode": {
    "name": "ipython",
    "version": 2
   },
   "file_extension": ".py",
   "mimetype": "text/x-python",
   "name": "python",
   "nbconvert_exporter": "python",
   "pygments_lexer": "ipython2",
   "version": "2.7.13"
  }
 },
 "nbformat": 4,
 "nbformat_minor": 2
}
