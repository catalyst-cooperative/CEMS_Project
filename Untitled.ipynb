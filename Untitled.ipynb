{
 "cells": [
  {
   "cell_type": "code",
   "execution_count": 34,
   "metadata": {
    "scrolled": true
   },
   "outputs": [],
   "source": [
    "import sqlite3\n",
    "import pandas\n",
    "con = sqlite3.connect('2016.db')\n",
    "table = pandas.read_sql(\"select avg(heat_input), avg(gload), op_hour from data where fuel_actual is 'NG' and state is 'CA' and substr(op_date, 1, 2) is '06' group by op_hour\", con)\n",
    "table.to_csv('ca_ng_june.csv')"
   ]
  },
  {
   "cell_type": "code",
   "execution_count": 35,
   "metadata": {
    "collapsed": true
   },
   "outputs": [],
   "source": [
    "import sqlite3\n",
    "import pandas\n",
    "con = sqlite3.connect('2016.db')\n",
    "table = pandas.read_sql(\"select substr(op_date, 1, 2) as month, name, orispl_code, unitid, avg(heat_input) as avg_heat, avg(gload) as avg_gen, op_hour from data where fuel_actual is 'NG' and state is 'CA'  group by op_hour, substr(op_date, 1, 2), orispl_code, unitid order by orispl_code, unitid, substr(op_date, 1, 2), op_hour\", con)\n",
    "table.to_csv('ca_ng_avg.csv')"
   ]
  },
  {
   "cell_type": "code",
   "execution_count": 11,
   "metadata": {},
   "outputs": [],
   "source": [
    "import sqlite3\n",
    "import pandas\n",
    "con = sqlite3.connect('2016.db')\n",
    "table = pandas.read_sql(\"select * from ( \\\n",
    "                        select avg(gload), op_hour from data where fuel_actual is 'NG' and state is 'CA' and substr(op_date, 1, 2) is '06' group by op_hour ) as a \\\n",
    "                        , data as \", con)\n",
    "table.to_csv('ca_ng_june.csv')"
   ]
  },
  {
   "cell_type": "code",
   "execution_count": 12,
   "metadata": {},
   "outputs": [
    {
     "data": {
      "text/plain": [
       "u'Connected: None@2016.db'"
      ]
     },
     "execution_count": 12,
     "metadata": {},
     "output_type": "execute_result"
    }
   ],
   "source": [
    "%sql sqlite:///2016.db"
   ]
  },
  {
   "cell_type": "code",
   "execution_count": 20,
   "metadata": {},
   "outputs": [
    {
     "name": "stdout",
     "output_type": "stream",
     "text": [
      "Done.\n"
     ]
    },
    {
     "data": {
      "text/html": [
       "<table>\n",
       "    <tr>\n",
       "        <th>gload</th>\n",
       "        <th>heat_input</th>\n",
       "        <th>unitid</th>\n",
       "        <th>op_date</th>\n",
       "        <th>op_hour</th>\n",
       "    </tr>\n",
       "    <tr>\n",
       "        <td>175.0</td>\n",
       "        <td>1910.5</td>\n",
       "        <td>1</td>\n",
       "        <td>06-01-2016</td>\n",
       "        <td>0</td>\n",
       "    </tr>\n",
       "    <tr>\n",
       "        <td>161.0</td>\n",
       "        <td>1831.7</td>\n",
       "        <td>1</td>\n",
       "        <td>06-01-2016</td>\n",
       "        <td>1</td>\n",
       "    </tr>\n",
       "    <tr>\n",
       "        <td>162.0</td>\n",
       "        <td>1849.3</td>\n",
       "        <td>1</td>\n",
       "        <td>06-01-2016</td>\n",
       "        <td>2</td>\n",
       "    </tr>\n",
       "    <tr>\n",
       "        <td>162.0</td>\n",
       "        <td>1859.0</td>\n",
       "        <td>1</td>\n",
       "        <td>06-01-2016</td>\n",
       "        <td>3</td>\n",
       "    </tr>\n",
       "    <tr>\n",
       "        <td>162.0</td>\n",
       "        <td>1843.4</td>\n",
       "        <td>1</td>\n",
       "        <td>06-01-2016</td>\n",
       "        <td>4</td>\n",
       "    </tr>\n",
       "</table>"
      ],
      "text/plain": [
       "[(175.0, 1910.5, u'1', u'06-01-2016', 0),\n",
       " (161.0, 1831.7, u'1', u'06-01-2016', 1),\n",
       " (162.0, 1849.3, u'1', u'06-01-2016', 2),\n",
       " (162.0, 1859.0, u'1', u'06-01-2016', 3),\n",
       " (162.0, 1843.4, u'1', u'06-01-2016', 4)]"
      ]
     },
     "execution_count": 20,
     "metadata": {},
     "output_type": "execute_result"
    }
   ],
   "source": [
    "%sql select gload, heat_input, unitid, op_date, op_hour from data where name is 'Colstrip' and substr(op_date, 1, 2) is '06' order by unitid limit 5"
   ]
  },
  {
   "cell_type": "code",
   "execution_count": null,
   "metadata": {
    "collapsed": true
   },
   "outputs": [],
   "source": []
  }
 ],
 "metadata": {
  "kernelspec": {
   "display_name": "Python 2",
   "language": "python",
   "name": "python2"
  },
  "language_info": {
   "codemirror_mode": {
    "name": "ipython",
    "version": 2
   },
   "file_extension": ".py",
   "mimetype": "text/x-python",
   "name": "python",
   "nbconvert_exporter": "python",
   "pygments_lexer": "ipython2",
   "version": "2.7.13"
  }
 },
 "nbformat": 4,
 "nbformat_minor": 2
}
