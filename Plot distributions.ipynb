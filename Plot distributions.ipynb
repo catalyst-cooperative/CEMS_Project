{
 "cells": [
  {
   "cell_type": "code",
   "execution_count": 1,
   "metadata": {
    "collapsed": true
   },
   "outputs": [],
   "source": [
    "import sqlite3\n",
    "import pandas\n",
    "con = sqlite3.connect('coal.db')\n",
    "labels = pandas.read_sql(\"select orispl_code, unitid from data group by orispl_code, unitid\", con)"
   ]
  },
  {
   "cell_type": "code",
   "execution_count": 3,
   "metadata": {},
   "outputs": [],
   "source": [
    "import matplotlib.pyplot as plt\n",
    "import numpy as np\n",
    "names = {}\n",
    "for i, row in labels.iterrows():\n",
    "    key = (row['orispl_code'], row['unitid'])\n",
    "    for year in range(2001, 2017):\n",
    "        plt.gcf().clear()\n",
    "        frame = pandas.read_csv('cf/' + str(row['orispl_code']) + '_' + row['unitid'] + '_' + str(year) + '.csv')\n",
    "        if len(frame.name) is 0: continue\n",
    "        name = frame.name[0]\n",
    "        names[key] = name\n",
    "        data = frame.capacity_factor\n",
    "        plt.hist(data, bins=np.linspace(0, 1, 10))\n",
    "        plt.xlabel('Capacity factor - hourly generation / max hourly generation')\n",
    "        plt.ylabel('Frequency')\n",
    "        plt.title('Capacity Factors at ' + name + ', unit ' + row['unitid'] + ' in ' + str(year))\n",
    "        plt.savefig('cf/' + str(row['orispl_code']) + '_' + row['unitid'] + '_' + str(year) + '.png')"
   ]
  },
  {
   "cell_type": "code",
   "execution_count": 18,
   "metadata": {},
   "outputs": [],
   "source": [
    "data = {}\n",
    "for i, row in labels.iterrows():\n",
    "    key = (names[(row['orispl_code'], row['unitid'])], row['unitid'])\n",
    "    data[key] = {}\n",
    "    for year in range(2001, 2017):\n",
    "        frame = pandas.read_csv('cf/' + str(row['orispl_code']) + '_' + row['unitid'] + '_' + str(year) + '.csv')\n",
    "        col = frame.capacity_factor\n",
    "        if len(col) is 0: continue\n",
    "        data[key][year] = (np.average(col), np.std(col), np.std(col/np.average(col)))"
   ]
  },
  {
   "cell_type": "code",
   "execution_count": 35,
   "metadata": {},
   "outputs": [
    {
     "name": "stdout",
     "output_type": "stream",
     "text": [
      "Average capacity factor decreased in this many units: 66\n",
      "Average capacity factor increased in this many units: 7\n",
      "Std of capacity factor decreased in this many units: 35\n",
      "Std of capacity factor increased in this many units: 38\n",
      "This many went offline: 18\n",
      "And this many came on: 11\n"
     ]
    }
   ],
   "source": [
    "avg_decreased = 0\n",
    "avg_increased = 0\n",
    "var_decreased = 0\n",
    "var_increased = 0\n",
    "went_online = 0\n",
    "went_offline = 0\n",
    "stds = []\n",
    "avgs = []\n",
    "for unit in data:\n",
    "    disregard = False\n",
    "    if 2001 not in data[unit]:\n",
    "        disregard = True\n",
    "        went_online += 1\n",
    "    if 2016 not in data[unit]:\n",
    "        disregard = True\n",
    "        went_offline += 1\n",
    "    if disregard: continue\n",
    "    min_year =  data[unit][2001]\n",
    "    max_year = data[unit][2016]\n",
    "    stds.append(max_year[1] - min_year[1])\n",
    "    avgs.append(max_year[0] - min_year[0])\n",
    "    if max_year[0] < min_year[0]:\n",
    "        avg_decreased += 1\n",
    "    else:\n",
    "        avg_increased += 1\n",
    "    if max_year[1] > min_year[1]:\n",
    "        var_increased += 1\n",
    "    else:\n",
    "        var_decreased += 1\n",
    "print \"Average capacity factor decreased in this many units: \" + str(avg_decreased)\n",
    "print \"Average capacity factor increased in this many units: \" + str(avg_increased)\n",
    "print \"Std of capacity factor decreased in this many units: \" + str(var_decreased)\n",
    "print \"Std of capacity factor increased in this many units: \" + str(var_increased)\n",
    "print \"This many went offline: \" + str(went_offline)\n",
    "print \"And this many came on: \" + str(went_online)\n"
   ]
  },
  {
   "cell_type": "code",
   "execution_count": 28,
   "metadata": {},
   "outputs": [
    {
     "data": {
      "image/png": "[encoded data removed]",
      "text/plain": [
       "<matplotlib.figure.Figure at 0x9116230>"
      ]
     },
     "metadata": {},
     "output_type": "display_data"
    }
   ],
   "source": [
    "plt.gcf().clear()\n",
    "plt.hist(avgs)\n",
    "plt.show()"
   ]
  },
  {
   "cell_type": "code",
   "execution_count": 36,
   "metadata": {},
   "outputs": [
    {
     "data": {
      "image/png": "[encoded data removed]",
      "text/plain": [
       "<matplotlib.figure.Figure at 0x8d4ce70>"
      ]
     },
     "metadata": {},
     "output_type": "display_data"
    }
   ],
   "source": [
    "plt.gcf().clear()\n",
    "plt.hist(stds)\n",
    "plt.show()"
   ]
  },
  {
   "cell_type": "code",
   "execution_count": null,
   "metadata": {
    "collapsed": true
   },
   "outputs": [],
   "source": []
  }
 ],
 "metadata": {
  "kernelspec": {
   "display_name": "Python 2",
   "language": "python",
   "name": "python2"
  },
  "language_info": {
   "codemirror_mode": {
    "name": "ipython",
    "version": 2
   },
   "file_extension": ".py",
   "mimetype": "text/x-python",
   "name": "python",
   "nbconvert_exporter": "python",
   "pygments_lexer": "ipython2",
   "version": "2.7.13"
  }
 },
 "nbformat": 4,
 "nbformat_minor": 2
}
