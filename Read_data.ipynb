{
 "cells": [
  {
   "cell_type": "code",
   "execution_count": 1,
   "metadata": {},
   "outputs": [
    {
     "data": {
      "text/plain": [
       "'Connected: None@None'"
      ]
     },
     "execution_count": 1,
     "metadata": {},
     "output_type": "execute_result"
    }
   ],
   "source": [
    "%load_ext sql\n",
    "%sql sqlite://"
   ]
  },
  {
   "cell_type": "code",
   "execution_count": 1,
   "metadata": {
    "collapsed": true
   },
   "outputs": [],
   "source": [
    "import csv, sqlite3\n",
    "import os.path"
   ]
  },
  {
   "cell_type": "code",
   "execution_count": 2,
   "metadata": {},
   "outputs": [],
   "source": [
    "con = sqlite3.connect(\"cems.db\")\n",
    "cur = con.cursor()\n"
   ]
  },
  {
   "cell_type": "code",
   "execution_count": 3,
   "metadata": {},
   "outputs": [
    {
     "data": {
      "text/plain": [
       "<sqlite3.Cursor at 0x30c6460>"
      ]
     },
     "execution_count": 3,
     "metadata": {},
     "output_type": "execute_result"
    }
   ],
   "source": [
    "cur.execute('drop table if exists test;')\n",
    "cur.execute(\n",
    "\"create table test( \\\n",
    "    state varchar, \\\n",
    "    facility_name varchar, \\\n",
    "    orispl_code int, \\\n",
    "    unitid varchar, \\\n",
    "    op_date date, \\\n",
    "    op_hour int, \\\n",
    "    op_time float, \\\n",
    "    gload float, \\\n",
    "    sload float, \\\n",
    "    SO2_MASS float, \\\n",
    "    SO2_MASS_MEASURE_FLG varhcar, \\\n",
    "    SO2_RATE float, \\\n",
    "    SO2_RATE_MEASURE_FLG varchar, \\\n",
    "    NOX_RATE float, \\\n",
    "    NOX_RATE_MEASURE_FLG varchar, \\\n",
    "    NOX_MASS float, \\\n",
    "    NOX_MASS_MEASURE_FLG varchar, \\\n",
    "    CO2_MASS float, \\\n",
    "    CO2_MASS_MEASURE_FLG varchar, \\\n",
    "    CO2_RATE float, \\\n",
    "    CO2_RATE_MEASURE_FLG varchar, \\\n",
    "    HEAT_INPUT float, \\\n",
    "    PRIMARY KEY(orispl_code, unitid, op_date, op_hour) \\\n",
    ");\")"
   ]
  },
  {
   "cell_type": "code",
   "execution_count": 4,
   "metadata": {},
   "outputs": [
    {
     "name": "stdout",
     "output_type": "stream",
     "text": [
      "2001\n",
      "2002\n",
      "2003\n",
      "2004\n",
      "2005\n",
      "2006\n",
      "2007\n",
      "2008\n",
      "2009\n",
      "2010\n",
      "2011\n",
      "2012\n",
      "2013\n",
      "2014\n",
      "2015\n",
      "2016\n",
      "2017\n"
     ]
    }
   ],
   "source": [
    "for year in range(2001, 2018):\n",
    "    print(year)\n",
    "    for n_month in range(1, 13):\n",
    "        for state in ['wa', 'or', 'ca', 'id', 'nv', 'ut', 'az', 'nm', 'co', 'wy', 'mt', 'tx']:\n",
    "            month = str(n_month) if n_month > 9 else \"0\" + str(n_month)\n",
    "            name = \"unzipped/\" + str(year) + state + month + \".csv\"\n",
    "            if os.path.isfile(name):\n",
    "                with open(name, 'rb') as fin:\n",
    "                    dr = csv.DictReader(fin)\n",
    "                    try:\n",
    "                        to_db = [(i['STATE'], i['FACILITY_NAME'], i['ORISPL_CODE'], i['UNITID'], i['OP_DATE'], i['OP_HOUR'], i['OP_TIME'], i['GLOAD (MW)'], \n",
    "                                  i['SLOAD (1000lb/hr)'], i['SO2_MASS (lbs)'], i['SO2_MASS_MEASURE_FLG'], i['SO2_RATE (lbs/mmBtu)'], i['SO2_RATE_MEASURE_FLG'],\n",
    "                                  i['NOX_RATE (lbs/mmBtu)'], i['NOX_RATE_MEASURE_FLG'], i['NOX_MASS (lbs)'], i['NOX_MASS_MEASURE_FLG'], i['CO2_MASS (tons)'],\n",
    "                                  i['CO2_MASS_MEASURE_FLG'], i['CO2_RATE (tons/mmBtu)'], i['CO2_RATE_MEASURE_FLG'], i['HEAT_INPUT (mmBtu)']) for i in dr]\n",
    "                    except:\n",
    "                        try:\n",
    "                            to_db = [(i['STATE'], i['FACILITY_NAME'], i['ORISPL_CODE'], i['UNITID'], i['OP_DATE'], i['OP_HOUR'], i['OP_TIME'], i['GLOAD (MW)'], \n",
    "                                  i['SLOAD (1000 lbs)'], i['SO2_MASS (lbs)'], i['SO2_MASS_MEASURE_FLG'], i['SO2_RATE (lbs/mmBtu)'], i['SO2_RATE_MEASURE_FLG'],\n",
    "                                  i['NOX_RATE (lbs/mmBtu)'], i['NOX_RATE_MEASURE_FLG'], i['NOX_MASS (lbs)'], i['NOX_MASS_MEASURE_FLG'], i['CO2_MASS (tons)'],\n",
    "                                  i['CO2_MASS_MEASURE_FLG'], i['CO2_RATE (tons/mmBtu)'], i['CO2_RATE_MEASURE_FLG'], i['HEAT_INPUT (mmBtu)']) for i in dr]\n",
    "                        except:\n",
    "                            try:\n",
    "                                to_db = [(i['STATE'], i['FACILITY_NAME'], i['ORISPL_CODE'], i['UNITID'], i['OP_DATE'], i['OP_HOUR'], i['OP_TIME'], i['GLOAD'], \n",
    "                                      i['SLOAD'], i['SO2_MASS'], i['SO2_MASS_MEASURE_FLG'], i['SO2_RATE'], i['SO2_RATE_MEASURE_FLG'],\n",
    "                                      i['NOX_RATE'], i['NOX_RATE_MEASURE_FLG'], i['NOX_MASS'], i['NOX_MASS_MEASURE_FLG'], i['CO2_MASS'],\n",
    "                                      i['CO2_MASS_MEASURE_FLG'], i['CO2_RATE'], i['CO2_RATE_MEASURE_FLG'], i['HEAT_INPUT']) for i in dr]\n",
    "                            except:\n",
    "                                print(name)\n",
    "                    cur.executemany(\"insert into test (STATE, FACILITY_NAME, ORISPL_CODE, UNITID, OP_DATE, \\\n",
    "OP_HOUR, OP_TIME, GLOAD, SLOAD, SO2_MASS, SO2_MASS_MEASURE_FLG, SO2_RATE, SO2_RATE_MEASURE_FLG, NOX_RATE, NOX_RATE_MEASURE_FLG, \\\n",
    "NOX_MASS, NOX_MASS_MEASURE_FLG, CO2_MASS, CO2_MASS_MEASURE_FLG, CO2_RATE , CO2_RATE_MEASURE_FLG, HEAT_INPUT \\\n",
    ") VALUES (?, ?, ?, ?, ?, ?, ?, ?, ?, ?, ?, ?, ?, ?, ?, ?, ?, ?, ?, ?, ?, ?);\", to_db)\n",
    "con.commit()"
   ]
  },
  {
   "cell_type": "code",
   "execution_count": 52,
   "metadata": {},
   "outputs": [],
   "source": [
    "con.commit()"
   ]
  },
  {
   "cell_type": "code",
   "execution_count": 41,
   "metadata": {},
   "outputs": [
    {
     "name": "stdout",
     "output_type": "stream",
     "text": [
      "[(u'WY', u'Dave Johnston', 4158, u'BW41', u'03-01-2017', 0, 1.0, 68.0, u'', 609.4, u'Measured', 0.791, u'Calculated', 0.242, u'Measured', 186.534, u'Calculated', 80.8, u'Measured', 0.105, u'Calculated', 770.8, 764, 2633), (u'WY', u'Dave Johnston', 4158, u'BW41', u'03-01-2017', 1, 1.0, 69.0, u'', 611.4, u'Measured', 0.788, u'Calculated', 0.237, u'Measured', 183.983, u'Calculated', 81.4, u'Measured', 0.105, u'Calculated', 776.3, 764, 2633), (u'WY', u'Dave Johnston', 4158, u'BW41', u'03-01-2017', 2, 1.0, 69.0, u'', 608.1, u'Measured', 0.789, u'Calculated', 0.234, u'Measured', 180.367, u'Calculated', 80.8, u'Measured', 0.105, u'Calculated', 770.8, 764, 2633), (u'WY', u'Dave Johnston', 4158, u'BW41', u'03-01-2017', 3, 1.0, 69.0, u'', 622.8, u'Measured', 0.812, u'Calculated', 0.231, u'Measured', 177.246, u'Calculated', 80.5, u'Measured', 0.105, u'Calculated', 767.3, 764, 2633), (u'WY', u'Dave Johnston', 4158, u'BW41', u'03-01-2017', 4, 1.0, 67.0, u'', 636.5, u'Measured', 0.875, u'Calculated', 0.293, u'Measured', 213.245, u'Calculated', 76.3, u'Measured', 0.105, u'Calculated', 727.8, 764, 2633)]\n"
     ]
    }
   ],
   "source": [
    "print(cur.fetchall())"
   ]
  },
  {
   "cell_type": "code",
   "execution_count": null,
   "metadata": {
    "collapsed": true
   },
   "outputs": [],
   "source": []
  }
 ],
 "metadata": {
  "kernelspec": {
   "display_name": "Python 2",
   "language": "python",
   "name": "python2"
  },
  "language_info": {
   "codemirror_mode": {
    "name": "ipython",
    "version": 2
   },
   "file_extension": ".py",
   "mimetype": "text/x-python",
   "name": "python",
   "nbconvert_exporter": "python",
   "pygments_lexer": "ipython2",
   "version": "2.7.13"
  }
 },
 "nbformat": 4,
 "nbformat_minor": 2
}
