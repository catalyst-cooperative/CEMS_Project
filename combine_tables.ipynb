{
 "cells": [
  {
   "cell_type": "code",
   "execution_count": 1,
   "metadata": {
    "collapsed": true
   },
   "outputs": [],
   "source": [
    "import sqlite3"
   ]
  },
  {
   "cell_type": "code",
   "execution_count": 2,
   "metadata": {
    "collapsed": true
   },
   "outputs": [],
   "source": [
    "con = sqlite3.connect(\"cems.db\")\n",
    "cur = con.cursor()"
   ]
  },
  {
   "cell_type": "code",
   "execution_count": 20,
   "metadata": {},
   "outputs": [
    {
     "name": "stdout",
     "output_type": "stream",
     "text": [
      "[(u'WA', u'Centralia', 3845, u'BW21', u'01-01-2001', 1, 1.0, 706.0, u'', 11774.7, u'Measured', 1.64, u'Calculated', 0.359, u'Measured', 2577.369, u'Calculated', 736.6, u'Measured', 0.103, u'Calculated', 7179.3), (u'WA', u'Centralia', 3845, u'BW21', u'01-01-2001', 2, 1.0, 704.0, u'', 11156.9, u'Measured', 1.592, u'Calculated', 0.372, u'Measured', 2606.306, u'Calculated', 718.8, u'Measured', 0.103, u'Calculated', 7006.2), (u'WA', u'Centralia', 3845, u'BW21', u'01-01-2001', 3, 1.0, 702.0, u'', 10990.0, u'Measured', 1.574, u'Calculated', 0.367, u'Measured', 2561.697, u'Calculated', 716.2, u'Measured', 0.103, u'Calculated', 6980.1), (u'WA', u'Centralia', 3845, u'BW21', u'01-01-2001', 4, 1.0, 702.0, u'', 11027.6, u'Measured', 1.58, u'Calculated', 0.377, u'Measured', 2631.762, u'Calculated', 716.2, u'Measured', 0.103, u'Calculated', 6980.8), (u'WA', u'Centralia', 3845, u'BW21', u'01-01-2001', 5, 1.0, 699.0, u'', 11258.5, u'Measured', 1.601, u'Calculated', 0.381, u'Measured', 2678.697, u'Calculated', 721.4, u'Measured', 0.103, u'Calculated', 7030.7)]\n"
     ]
    }
   ],
   "source": [
    "cur.execute(\"select * from test where substr(test.op_date, -4) is cast(2001 as varchar) LIMIT 5\" )\n",
    "print(cur.fetchall())"
   ]
  },
  {
   "cell_type": "code",
   "execution_count": 7,
   "metadata": {},
   "outputs": [
    {
     "data": {
      "text/plain": [
       "<sqlite3.Cursor at 0x3716c20>"
      ]
     },
     "execution_count": 7,
     "metadata": {},
     "output_type": "execute_result"
    }
   ],
   "source": [
    "cur.execute(\"select * from test where strftime('%Y', test.op_date) = 2001 LIMIT 5\" )"
   ]
  },
  {
   "cell_type": "code",
   "execution_count": 12,
   "metadata": {},
   "outputs": [
    {
     "name": "stdout",
     "output_type": "stream",
     "text": [
      "[(u'01-01-2008',), (u'01-01-2008',), (u'01-01-2008',), (u'01-01-2008',), (u'01-01-2008',)]\n"
     ]
    }
   ],
   "source": [
    "print(cur.fetchall())"
   ]
  },
  {
   "cell_type": "code",
   "execution_count": 22,
   "metadata": {},
   "outputs": [
    {
     "name": "stdout",
     "output_type": "stream",
     "text": [
      "[(u'WA', u'Centralia', 3845, u'BW21', u'01-01-2001', 1, 1.0, 706.0, u'', 11774.7, u'Measured', 1.64, u'Calculated', 0.359, u'Measured', 2577.369, u'Calculated', 736.6, u'Measured', 0.103, u'Calculated', 7179.3, u'WA', u'Centralia', 3845, u'BW21', 2001, u'Lewis', u'WA041', 46.7559, -122.8578, u'', u'TransAlta', u'ARP : Woolley, Richard C (350) (Ended Sep 20, 2001)<br>Chambers, Linda  (2423) (Started Sep 21, 2001)', u'ARP : Enns, Lonnie S (1870)', u'Tangentially-fired', u'Coal', u'', u'')]\n"
     ]
    }
   ],
   "source": [
    "cur.execute(\"select * from test, labels where substr(test.op_date, -4) is cast(labels.year as varchar) \\\n",
    "AND labels.orispl_code is test.orispl_code AND test.unitid is labels.unitid\")"
   ]
  },
  {
   "cell_type": "code",
   "execution_count": 2,
   "metadata": {},
   "outputs": [],
   "source": [
    "%load_ext sql"
   ]
  },
  {
   "cell_type": "code",
   "execution_count": 28,
   "metadata": {},
   "outputs": [
    {
     "name": "stdout",
     "output_type": "stream",
     "text": [
      "Done.\n"
     ]
    },
    {
     "data": {
      "text/plain": [
       "[]"
      ]
     },
     "execution_count": 28,
     "metadata": {},
     "output_type": "execute_result"
    }
   ],
   "source": [
    "%sql sqlite:///cems.db\n",
    "%%sql\n",
    "create table data as\n",
    "select * from test, labels where substr(test.op_date, -4) is cast(labels.year as varchar) \n",
    "AND labels.orispl_code is test.orispl_code AND test.unitid is labels.unitid"
   ]
  },
  {
   "cell_type": "code",
   "execution_count": 29,
   "metadata": {},
   "outputs": [
    {
     "name": "stdout",
     "output_type": "stream",
     "text": [
      "Done.\n"
     ]
    },
    {
     "data": {
      "text/html": [
       "<table>\n",
       "    <tr>\n",
       "        <th>state</th>\n",
       "        <th>facility_name</th>\n",
       "        <th>orispl_code</th>\n",
       "        <th>unitid</th>\n",
       "        <th>op_date</th>\n",
       "        <th>op_hour</th>\n",
       "        <th>op_time</th>\n",
       "        <th>gload</th>\n",
       "        <th>sload</th>\n",
       "        <th>SO2_MASS</th>\n",
       "        <th>SO2_MASS_MEASURE_FLG</th>\n",
       "        <th>SO2_RATE</th>\n",
       "        <th>SO2_RATE_MEASURE_FLG</th>\n",
       "        <th>NOX_RATE</th>\n",
       "        <th>NOX_RATE_MEASURE_FLG</th>\n",
       "        <th>NOX_MASS</th>\n",
       "        <th>NOX_MASS_MEASURE_FLG</th>\n",
       "        <th>CO2_MASS</th>\n",
       "        <th>CO2_MASS_MEASURE_FLG</th>\n",
       "        <th>CO2_RATE</th>\n",
       "        <th>CO2_RATE_MEASURE_FLG</th>\n",
       "        <th>HEAT_INPUT</th>\n",
       "        <th>state:1</th>\n",
       "        <th>facility_name:1</th>\n",
       "        <th>orispl_code:1</th>\n",
       "        <th>unitid:1</th>\n",
       "        <th>year</th>\n",
       "        <th>county</th>\n",
       "        <th>county_code</th>\n",
       "        <th>latitude</th>\n",
       "        <th>longitude</th>\n",
       "        <th>owner</th>\n",
       "        <th>operator</th>\n",
       "        <th>representative_primary</th>\n",
       "        <th>representative_second</th>\n",
       "        <th>unit_type</th>\n",
       "        <th>fuel_type</th>\n",
       "        <th>fule_type_secondary</th>\n",
       "        <th>max_hourly_rate</th>\n",
       "    </tr>\n",
       "    <tr>\n",
       "        <td>WA</td>\n",
       "        <td>Centralia</td>\n",
       "        <td>3845</td>\n",
       "        <td>BW21</td>\n",
       "        <td>01-01-2001</td>\n",
       "        <td>1</td>\n",
       "        <td>1.0</td>\n",
       "        <td>706.0</td>\n",
       "        <td></td>\n",
       "        <td>11774.7</td>\n",
       "        <td>Measured</td>\n",
       "        <td>1.64</td>\n",
       "        <td>Calculated</td>\n",
       "        <td>0.359</td>\n",
       "        <td>Measured</td>\n",
       "        <td>2577.369</td>\n",
       "        <td>Calculated</td>\n",
       "        <td>736.6</td>\n",
       "        <td>Measured</td>\n",
       "        <td>0.103</td>\n",
       "        <td>Calculated</td>\n",
       "        <td>7179.3</td>\n",
       "        <td>WA</td>\n",
       "        <td>Centralia</td>\n",
       "        <td>3845</td>\n",
       "        <td>BW21</td>\n",
       "        <td>2001</td>\n",
       "        <td>Lewis</td>\n",
       "        <td>WA041</td>\n",
       "        <td>46.7559</td>\n",
       "        <td>-122.8578</td>\n",
       "        <td></td>\n",
       "        <td>TransAlta</td>\n",
       "        <td>ARP : Woolley, Richard C (350) (Ended Sep 20, 2001)&lt;br&gt;Chambers, Linda  (2423) (Started Sep 21, 2001)</td>\n",
       "        <td>ARP : Enns, Lonnie S (1870)</td>\n",
       "        <td>Tangentially-fired</td>\n",
       "        <td>Coal</td>\n",
       "        <td></td>\n",
       "        <td></td>\n",
       "    </tr>\n",
       "    <tr>\n",
       "        <td>WA</td>\n",
       "        <td>Centralia</td>\n",
       "        <td>3845</td>\n",
       "        <td>BW21</td>\n",
       "        <td>01-01-2001</td>\n",
       "        <td>2</td>\n",
       "        <td>1.0</td>\n",
       "        <td>704.0</td>\n",
       "        <td></td>\n",
       "        <td>11156.9</td>\n",
       "        <td>Measured</td>\n",
       "        <td>1.592</td>\n",
       "        <td>Calculated</td>\n",
       "        <td>0.372</td>\n",
       "        <td>Measured</td>\n",
       "        <td>2606.306</td>\n",
       "        <td>Calculated</td>\n",
       "        <td>718.8</td>\n",
       "        <td>Measured</td>\n",
       "        <td>0.103</td>\n",
       "        <td>Calculated</td>\n",
       "        <td>7006.2</td>\n",
       "        <td>WA</td>\n",
       "        <td>Centralia</td>\n",
       "        <td>3845</td>\n",
       "        <td>BW21</td>\n",
       "        <td>2001</td>\n",
       "        <td>Lewis</td>\n",
       "        <td>WA041</td>\n",
       "        <td>46.7559</td>\n",
       "        <td>-122.8578</td>\n",
       "        <td></td>\n",
       "        <td>TransAlta</td>\n",
       "        <td>ARP : Woolley, Richard C (350) (Ended Sep 20, 2001)&lt;br&gt;Chambers, Linda  (2423) (Started Sep 21, 2001)</td>\n",
       "        <td>ARP : Enns, Lonnie S (1870)</td>\n",
       "        <td>Tangentially-fired</td>\n",
       "        <td>Coal</td>\n",
       "        <td></td>\n",
       "        <td></td>\n",
       "    </tr>\n",
       "    <tr>\n",
       "        <td>WA</td>\n",
       "        <td>Centralia</td>\n",
       "        <td>3845</td>\n",
       "        <td>BW21</td>\n",
       "        <td>01-01-2001</td>\n",
       "        <td>3</td>\n",
       "        <td>1.0</td>\n",
       "        <td>702.0</td>\n",
       "        <td></td>\n",
       "        <td>10990.0</td>\n",
       "        <td>Measured</td>\n",
       "        <td>1.574</td>\n",
       "        <td>Calculated</td>\n",
       "        <td>0.367</td>\n",
       "        <td>Measured</td>\n",
       "        <td>2561.697</td>\n",
       "        <td>Calculated</td>\n",
       "        <td>716.2</td>\n",
       "        <td>Measured</td>\n",
       "        <td>0.103</td>\n",
       "        <td>Calculated</td>\n",
       "        <td>6980.1</td>\n",
       "        <td>WA</td>\n",
       "        <td>Centralia</td>\n",
       "        <td>3845</td>\n",
       "        <td>BW21</td>\n",
       "        <td>2001</td>\n",
       "        <td>Lewis</td>\n",
       "        <td>WA041</td>\n",
       "        <td>46.7559</td>\n",
       "        <td>-122.8578</td>\n",
       "        <td></td>\n",
       "        <td>TransAlta</td>\n",
       "        <td>ARP : Woolley, Richard C (350) (Ended Sep 20, 2001)&lt;br&gt;Chambers, Linda  (2423) (Started Sep 21, 2001)</td>\n",
       "        <td>ARP : Enns, Lonnie S (1870)</td>\n",
       "        <td>Tangentially-fired</td>\n",
       "        <td>Coal</td>\n",
       "        <td></td>\n",
       "        <td></td>\n",
       "    </tr>\n",
       "    <tr>\n",
       "        <td>WA</td>\n",
       "        <td>Centralia</td>\n",
       "        <td>3845</td>\n",
       "        <td>BW21</td>\n",
       "        <td>01-01-2001</td>\n",
       "        <td>4</td>\n",
       "        <td>1.0</td>\n",
       "        <td>702.0</td>\n",
       "        <td></td>\n",
       "        <td>11027.6</td>\n",
       "        <td>Measured</td>\n",
       "        <td>1.58</td>\n",
       "        <td>Calculated</td>\n",
       "        <td>0.377</td>\n",
       "        <td>Measured</td>\n",
       "        <td>2631.762</td>\n",
       "        <td>Calculated</td>\n",
       "        <td>716.2</td>\n",
       "        <td>Measured</td>\n",
       "        <td>0.103</td>\n",
       "        <td>Calculated</td>\n",
       "        <td>6980.8</td>\n",
       "        <td>WA</td>\n",
       "        <td>Centralia</td>\n",
       "        <td>3845</td>\n",
       "        <td>BW21</td>\n",
       "        <td>2001</td>\n",
       "        <td>Lewis</td>\n",
       "        <td>WA041</td>\n",
       "        <td>46.7559</td>\n",
       "        <td>-122.8578</td>\n",
       "        <td></td>\n",
       "        <td>TransAlta</td>\n",
       "        <td>ARP : Woolley, Richard C (350) (Ended Sep 20, 2001)&lt;br&gt;Chambers, Linda  (2423) (Started Sep 21, 2001)</td>\n",
       "        <td>ARP : Enns, Lonnie S (1870)</td>\n",
       "        <td>Tangentially-fired</td>\n",
       "        <td>Coal</td>\n",
       "        <td></td>\n",
       "        <td></td>\n",
       "    </tr>\n",
       "    <tr>\n",
       "        <td>WA</td>\n",
       "        <td>Centralia</td>\n",
       "        <td>3845</td>\n",
       "        <td>BW21</td>\n",
       "        <td>01-01-2001</td>\n",
       "        <td>5</td>\n",
       "        <td>1.0</td>\n",
       "        <td>699.0</td>\n",
       "        <td></td>\n",
       "        <td>11258.5</td>\n",
       "        <td>Measured</td>\n",
       "        <td>1.601</td>\n",
       "        <td>Calculated</td>\n",
       "        <td>0.381</td>\n",
       "        <td>Measured</td>\n",
       "        <td>2678.697</td>\n",
       "        <td>Calculated</td>\n",
       "        <td>721.4</td>\n",
       "        <td>Measured</td>\n",
       "        <td>0.103</td>\n",
       "        <td>Calculated</td>\n",
       "        <td>7030.7</td>\n",
       "        <td>WA</td>\n",
       "        <td>Centralia</td>\n",
       "        <td>3845</td>\n",
       "        <td>BW21</td>\n",
       "        <td>2001</td>\n",
       "        <td>Lewis</td>\n",
       "        <td>WA041</td>\n",
       "        <td>46.7559</td>\n",
       "        <td>-122.8578</td>\n",
       "        <td></td>\n",
       "        <td>TransAlta</td>\n",
       "        <td>ARP : Woolley, Richard C (350) (Ended Sep 20, 2001)&lt;br&gt;Chambers, Linda  (2423) (Started Sep 21, 2001)</td>\n",
       "        <td>ARP : Enns, Lonnie S (1870)</td>\n",
       "        <td>Tangentially-fired</td>\n",
       "        <td>Coal</td>\n",
       "        <td></td>\n",
       "        <td></td>\n",
       "    </tr>\n",
       "</table>"
      ],
      "text/plain": [
       "[(u'WA', u'Centralia', 3845, u'BW21', u'01-01-2001', 1, 1.0, 706.0, u'', 11774.7, u'Measured', 1.64, u'Calculated', 0.359, u'Measured', 2577.369, u'Calculated', 736.6, u'Measured', 0.103, u'Calculated', 7179.3, u'WA', u'Centralia', 3845, u'BW21', 2001, u'Lewis', u'WA041', 46.7559, -122.8578, u'', u'TransAlta', u'ARP : Woolley, Richard C (350) (Ended Sep 20, 2001)<br>Chambers, Linda  (2423) (Started Sep 21, 2001)', u'ARP : Enns, Lonnie S (1870)', u'Tangentially-fired', u'Coal', u'', u''),\n",
       " (u'WA', u'Centralia', 3845, u'BW21', u'01-01-2001', 2, 1.0, 704.0, u'', 11156.9, u'Measured', 1.592, u'Calculated', 0.372, u'Measured', 2606.306, u'Calculated', 718.8, u'Measured', 0.103, u'Calculated', 7006.2, u'WA', u'Centralia', 3845, u'BW21', 2001, u'Lewis', u'WA041', 46.7559, -122.8578, u'', u'TransAlta', u'ARP : Woolley, Richard C (350) (Ended Sep 20, 2001)<br>Chambers, Linda  (2423) (Started Sep 21, 2001)', u'ARP : Enns, Lonnie S (1870)', u'Tangentially-fired', u'Coal', u'', u''),\n",
       " (u'WA', u'Centralia', 3845, u'BW21', u'01-01-2001', 3, 1.0, 702.0, u'', 10990.0, u'Measured', 1.574, u'Calculated', 0.367, u'Measured', 2561.697, u'Calculated', 716.2, u'Measured', 0.103, u'Calculated', 6980.1, u'WA', u'Centralia', 3845, u'BW21', 2001, u'Lewis', u'WA041', 46.7559, -122.8578, u'', u'TransAlta', u'ARP : Woolley, Richard C (350) (Ended Sep 20, 2001)<br>Chambers, Linda  (2423) (Started Sep 21, 2001)', u'ARP : Enns, Lonnie S (1870)', u'Tangentially-fired', u'Coal', u'', u''),\n",
       " (u'WA', u'Centralia', 3845, u'BW21', u'01-01-2001', 4, 1.0, 702.0, u'', 11027.6, u'Measured', 1.58, u'Calculated', 0.377, u'Measured', 2631.762, u'Calculated', 716.2, u'Measured', 0.103, u'Calculated', 6980.8, u'WA', u'Centralia', 3845, u'BW21', 2001, u'Lewis', u'WA041', 46.7559, -122.8578, u'', u'TransAlta', u'ARP : Woolley, Richard C (350) (Ended Sep 20, 2001)<br>Chambers, Linda  (2423) (Started Sep 21, 2001)', u'ARP : Enns, Lonnie S (1870)', u'Tangentially-fired', u'Coal', u'', u''),\n",
       " (u'WA', u'Centralia', 3845, u'BW21', u'01-01-2001', 5, 1.0, 699.0, u'', 11258.5, u'Measured', 1.601, u'Calculated', 0.381, u'Measured', 2678.697, u'Calculated', 721.4, u'Measured', 0.103, u'Calculated', 7030.7, u'WA', u'Centralia', 3845, u'BW21', 2001, u'Lewis', u'WA041', 46.7559, -122.8578, u'', u'TransAlta', u'ARP : Woolley, Richard C (350) (Ended Sep 20, 2001)<br>Chambers, Linda  (2423) (Started Sep 21, 2001)', u'ARP : Enns, Lonnie S (1870)', u'Tangentially-fired', u'Coal', u'', u'')]"
      ]
     },
     "execution_count": 29,
     "metadata": {},
     "output_type": "execute_result"
    }
   ],
   "source": [
    "% sql select * from data limit 5"
   ]
  },
  {
   "cell_type": "code",
   "execution_count": 30,
   "metadata": {},
   "outputs": [
    {
     "name": "stdout",
     "output_type": "stream",
     "text": [
      "Done.\n"
     ]
    },
    {
     "data": {
      "text/html": [
       "<table>\n",
       "    <tr>\n",
       "        <th>count(*)</th>\n",
       "    </tr>\n",
       "    <tr>\n",
       "        <td>120815737</td>\n",
       "    </tr>\n",
       "</table>"
      ],
      "text/plain": [
       "[(120815737,)]"
      ]
     },
     "execution_count": 30,
     "metadata": {},
     "output_type": "execute_result"
    }
   ],
   "source": [
    "%sql select count(*) from data"
   ]
  },
  {
   "cell_type": "code",
   "execution_count": 3,
   "metadata": {},
   "outputs": [
    {
     "data": {
      "text/plain": [
       "u'Connected: None@smaller.db'"
      ]
     },
     "execution_count": 3,
     "metadata": {},
     "output_type": "execute_result"
    }
   ],
   "source": [
    "%sql sqlite:///smaller.db\n"
   ]
  },
  {
   "cell_type": "code",
   "execution_count": 4,
   "metadata": {},
   "outputs": [
    {
     "name": "stdout",
     "output_type": "stream",
     "text": [
      "(sqlite3.OperationalError) no such table: data [SQL: u'drop table data']\n"
     ]
    }
   ],
   "source": [
    "%sql drop table data"
   ]
  },
  {
   "cell_type": "code",
   "execution_count": null,
   "metadata": {},
   "outputs": [],
   "source": [
    "%sql sqlite:///cems.db\n",
    "%sql select * from data where state is UPPER('wa') limit 5"
   ]
  },
  {
   "cell_type": "code",
   "execution_count": 6,
   "metadata": {},
   "outputs": [
    {
     "name": "stdout",
     "output_type": "stream",
     "text": [
      "Done.\n"
     ]
    },
    {
     "data": {
      "text/plain": [
       "[]"
      ]
     },
     "execution_count": 6,
     "metadata": {},
     "output_type": "execute_result"
    }
   ],
   "source": [
    "%sql ATTACH DATABASE 'smaller.db' AS other;"
   ]
  },
  {
   "cell_type": "code",
   "execution_count": null,
   "metadata": {},
   "outputs": [
    {
     "name": "stdout",
     "output_type": "stream",
     "text": [
      "Done.\n"
     ]
    },
    {
     "data": {
      "text/plain": [
       "[]"
      ]
     },
     "execution_count": 7,
     "metadata": {},
     "output_type": "execute_result"
    }
   ],
   "source": [
    "%%sql\n",
    "create table other.data as\n",
    "select state, facility_name as name, orispl_code, unitid, op_date, op_hour, op_time, gload, SO2_MASS, NOX_MASS, CO2_MASS,\n",
    "HEAT_INPUT as heat_input, county, latitude, longitude, fuel_type from data"
   ]
  },
  {
   "cell_type": "code",
   "execution_count": null,
   "metadata": {
    "collapsed": true
   },
   "outputs": [],
   "source": []
  },
  {
   "cell_type": "code",
   "execution_count": 6,
   "metadata": {},
   "outputs": [
    {
     "ename": "OperationalError",
     "evalue": "no such column: wa",
     "output_type": "error",
     "traceback": [
      "\u001b[1;31m---------------------------------------------------------------------------\u001b[0m",
      "\u001b[1;31mOperationalError\u001b[0m                          Traceback (most recent call last)",
      "\u001b[1;32m<ipython-input-6-0541d7ad823e>\u001b[0m in \u001b[0;36m<module>\u001b[1;34m()\u001b[0m\n\u001b[0;32m      4\u001b[0m     \u001b[0mcur\u001b[0m \u001b[1;33m=\u001b[0m \u001b[0mcon\u001b[0m\u001b[1;33m.\u001b[0m\u001b[0mcursor\u001b[0m\u001b[1;33m(\u001b[0m\u001b[1;33m)\u001b[0m\u001b[1;33m\u001b[0m\u001b[0m\n\u001b[0;32m      5\u001b[0m     \u001b[0mcur\u001b[0m\u001b[1;33m.\u001b[0m\u001b[0mexecute\u001b[0m\u001b[1;33m(\u001b[0m\u001b[1;34m\"attach database '\"\u001b[0m \u001b[1;33m+\u001b[0m \u001b[0mstate\u001b[0m \u001b[1;33m+\u001b[0m \u001b[1;34m\".db' AS \"\u001b[0m \u001b[1;33m+\u001b[0m \u001b[0mstate\u001b[0m \u001b[1;33m+\u001b[0m \u001b[1;34m\";\"\u001b[0m\u001b[1;33m)\u001b[0m\u001b[1;33m\u001b[0m\u001b[0m\n\u001b[1;32m----> 6\u001b[1;33m     \u001b[0mcur\u001b[0m\u001b[1;33m.\u001b[0m\u001b[0mexecute\u001b[0m\u001b[1;33m(\u001b[0m\u001b[1;34m\"create table \"\u001b[0m \u001b[1;33m+\u001b[0m \u001b[0mstate\u001b[0m \u001b[1;33m+\u001b[0m \u001b[1;34m\".data as     select state, facility_name as name, orispl_code, unitid, op_date, op_hour, op_time, gload, SO2_MASS, NOX_MASS, CO2_MASS, HEAT_INPUT as heat_input, county, latitude, longitude, fuel_type from data where data.state = \"\u001b[0m \u001b[1;33m+\u001b[0m \u001b[0mstate\u001b[0m \u001b[1;33m+\u001b[0m \u001b[1;34m\";\"\u001b[0m\u001b[1;33m)\u001b[0m\u001b[1;33m\u001b[0m\u001b[0m\n\u001b[0m",
      "\u001b[1;31mOperationalError\u001b[0m: no such column: wa"
     ]
    }
   ],
   "source": [
    "for state in ['wa', 'or', 'ca', 'id', 'nv', 'ut', 'az', 'nm', 'co', 'wy', 'mt', 'tx']:\n",
    "    con = sqlite3.connect(state + \".db\")\n",
    "    con = sqlite3.connect(\"cems.db\")\n",
    "    cur = con.cursor()\n",
    "    cur.execute(\"attach database '\" + state + \".db' AS \" + state + \";\")\n",
    "    cur.execute(\"create table \" + state + \".data as \\\n",
    "    select state, facility_name as name, orispl_code, unitid, op_date, op_hour, op_time, gload, SO2_MASS, NOX_MASS, CO2_MASS, \\\n",
    "HEAT_INPUT as heat_input, county, latitude, longitude, fuel_type from data where data.state = \" + UPPER('state') + \";\")"
   ]
  },
  {
   "cell_type": "code",
   "execution_count": null,
   "metadata": {
    "collapsed": true
   },
   "outputs": [],
   "source": []
  }
 ],
 "metadata": {
  "kernelspec": {
   "display_name": "Python 2",
   "language": "python",
   "name": "python2"
  },
  "language_info": {
   "codemirror_mode": {
    "name": "ipython",
    "version": 2
   },
   "file_extension": ".py",
   "mimetype": "text/x-python",
   "name": "python",
   "nbconvert_exporter": "python",
   "pygments_lexer": "ipython2",
   "version": "2.7.13"
  }
 },
 "nbformat": 4,
 "nbformat_minor": 2
}
