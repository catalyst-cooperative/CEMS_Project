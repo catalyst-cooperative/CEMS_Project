{
 "cells": [
  {
   "cell_type": "code",
   "execution_count": 10,
   "metadata": {},
   "outputs": [],
   "source": [
    "# Step 1: loading data\n",
    "import csv\n",
    "to_ml = []\n",
    "with open('cf/87_1_2001.csv', 'rb') as csvfile:\n",
    "    dr = csv.DictReader(csvfile)\n",
    "    to_insert = []\n",
    "    for row in dr:\n",
    "        to_insert.append(row['capacity_factor'])\n",
    "        if int(row['']) % 24 is 23:\n",
    "            to_ml.append(to_insert)\n",
    "            to_insert = []\n",
    "with open('cf/6481_1SGA_2016.csv', 'rb') as csvfile:\n",
    "    dr = csv.DictReader(csvfile)\n",
    "    to_insert = []\n",
    "    for row in dr:\n",
    "        to_insert.append(row['capacity_factor'])\n",
    "        if int(row['']) % 24 is 23:\n",
    "            to_ml.append(to_insert)\n",
    "            to_insert = []\n"
   ]
  },
  {
   "cell_type": "code",
   "execution_count": 11,
   "metadata": {},
   "outputs": [],
   "source": [
    "# Step 2: normalize data\n",
    "from sklearn.preprocessing import normalize\n",
    "normalized = normalize(to_ml)"
   ]
  },
  {
   "cell_type": "code",
   "execution_count": 14,
   "metadata": {},
   "outputs": [],
   "source": [
    "# Step 3: run kmeans\n",
    "from sklearn.cluster import KMeans\n",
    "kmeans = KMeans(n_clusters=3, random_state=0).fit(normalized)"
   ]
  },
  {
   "cell_type": "code",
   "execution_count": null,
   "metadata": {
    "collapsed": true
   },
   "outputs": [],
   "source": [
    "kmeans.lab"
   ]
  }
 ],
 "metadata": {
  "kernelspec": {
   "display_name": "Python 2",
   "language": "python",
   "name": "python2"
  },
  "language_info": {
   "codemirror_mode": {
    "name": "ipython",
    "version": 2
   },
   "file_extension": ".py",
   "mimetype": "text/x-python",
   "name": "python",
   "nbconvert_exporter": "python",
   "pygments_lexer": "ipython2",
   "version": "2.7.13"
  }
 },
 "nbformat": 4,
 "nbformat_minor": 2
}
