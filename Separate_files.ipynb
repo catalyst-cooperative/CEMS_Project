{
 "cells": [
  {
   "cell_type": "code",
   "execution_count": 1,
   "metadata": {
    "collapsed": true
   },
   "outputs": [],
   "source": [
    "%load_ext sql"
   ]
  },
  {
   "cell_type": "code",
   "execution_count": 2,
   "metadata": {},
   "outputs": [
    {
     "data": {
      "text/plain": [
       "u'Connected: None@smaller.db'"
      ]
     },
     "execution_count": 2,
     "metadata": {},
     "output_type": "execute_result"
    }
   ],
   "source": [
    "\n",
    "%sql sqlite:///smaller.db"
   ]
  },
  {
   "cell_type": "code",
   "execution_count": 3,
   "metadata": {},
   "outputs": [
    {
     "name": "stdout",
     "output_type": "stream",
     "text": [
      "Done.\n"
     ]
    },
    {
     "data": {
      "text/html": [
       "<table>\n",
       "    <tr>\n",
       "        <th>state</th>\n",
       "        <th>facility_name</th>\n",
       "        <th>orispl_code</th>\n",
       "        <th>unitid</th>\n",
       "        <th>op_date</th>\n",
       "        <th>op_hour</th>\n",
       "        <th>op_time</th>\n",
       "        <th>gload</th>\n",
       "        <th>SO2_MASS</th>\n",
       "        <th>NOX_MASS</th>\n",
       "        <th>CO2_MASS</th>\n",
       "        <th>HEAT_INPUT</th>\n",
       "        <th>state:1</th>\n",
       "        <th>facility_name:1</th>\n",
       "        <th>orispl_code:1</th>\n",
       "        <th>unitid:1</th>\n",
       "        <th>year</th>\n",
       "        <th>county</th>\n",
       "        <th>latitude</th>\n",
       "        <th>longitude</th>\n",
       "        <th>fuel_type</th>\n",
       "        <th>fule_type_secondary</th>\n",
       "        <th>fuel_actual</th>\n",
       "    </tr>\n",
       "    <tr>\n",
       "        <td>WA</td>\n",
       "        <td>Centralia</td>\n",
       "        <td>3845</td>\n",
       "        <td>BW21</td>\n",
       "        <td>01-01-2001</td>\n",
       "        <td>0</td>\n",
       "        <td>1.0</td>\n",
       "        <td>704.0</td>\n",
       "        <td>11493.6</td>\n",
       "        <td>2506.854</td>\n",
       "        <td>720.5</td>\n",
       "        <td>7022.0</td>\n",
       "        <td>WA</td>\n",
       "        <td>Centralia</td>\n",
       "        <td>3845</td>\n",
       "        <td>BW21</td>\n",
       "        <td>2001</td>\n",
       "        <td>Lewis</td>\n",
       "        <td>46.7559</td>\n",
       "        <td>-122.8578</td>\n",
       "        <td>Coal</td>\n",
       "        <td></td>\n",
       "        <td>Coal</td>\n",
       "    </tr>\n",
       "    <tr>\n",
       "        <td>WA</td>\n",
       "        <td>Centralia</td>\n",
       "        <td>3845</td>\n",
       "        <td>BW21</td>\n",
       "        <td>01-01-2001</td>\n",
       "        <td>1</td>\n",
       "        <td>1.0</td>\n",
       "        <td>706.0</td>\n",
       "        <td>11774.7</td>\n",
       "        <td>2577.369</td>\n",
       "        <td>736.6</td>\n",
       "        <td>7179.3</td>\n",
       "        <td>WA</td>\n",
       "        <td>Centralia</td>\n",
       "        <td>3845</td>\n",
       "        <td>BW21</td>\n",
       "        <td>2001</td>\n",
       "        <td>Lewis</td>\n",
       "        <td>46.7559</td>\n",
       "        <td>-122.8578</td>\n",
       "        <td>Coal</td>\n",
       "        <td></td>\n",
       "        <td>Coal</td>\n",
       "    </tr>\n",
       "    <tr>\n",
       "        <td>WA</td>\n",
       "        <td>Centralia</td>\n",
       "        <td>3845</td>\n",
       "        <td>BW21</td>\n",
       "        <td>01-01-2001</td>\n",
       "        <td>2</td>\n",
       "        <td>1.0</td>\n",
       "        <td>704.0</td>\n",
       "        <td>11156.9</td>\n",
       "        <td>2606.306</td>\n",
       "        <td>718.8</td>\n",
       "        <td>7006.2</td>\n",
       "        <td>WA</td>\n",
       "        <td>Centralia</td>\n",
       "        <td>3845</td>\n",
       "        <td>BW21</td>\n",
       "        <td>2001</td>\n",
       "        <td>Lewis</td>\n",
       "        <td>46.7559</td>\n",
       "        <td>-122.8578</td>\n",
       "        <td>Coal</td>\n",
       "        <td></td>\n",
       "        <td>Coal</td>\n",
       "    </tr>\n",
       "    <tr>\n",
       "        <td>WA</td>\n",
       "        <td>Centralia</td>\n",
       "        <td>3845</td>\n",
       "        <td>BW21</td>\n",
       "        <td>01-01-2001</td>\n",
       "        <td>3</td>\n",
       "        <td>1.0</td>\n",
       "        <td>702.0</td>\n",
       "        <td>10990.0</td>\n",
       "        <td>2561.697</td>\n",
       "        <td>716.2</td>\n",
       "        <td>6980.1</td>\n",
       "        <td>WA</td>\n",
       "        <td>Centralia</td>\n",
       "        <td>3845</td>\n",
       "        <td>BW21</td>\n",
       "        <td>2001</td>\n",
       "        <td>Lewis</td>\n",
       "        <td>46.7559</td>\n",
       "        <td>-122.8578</td>\n",
       "        <td>Coal</td>\n",
       "        <td></td>\n",
       "        <td>Coal</td>\n",
       "    </tr>\n",
       "    <tr>\n",
       "        <td>WA</td>\n",
       "        <td>Centralia</td>\n",
       "        <td>3845</td>\n",
       "        <td>BW21</td>\n",
       "        <td>01-01-2001</td>\n",
       "        <td>4</td>\n",
       "        <td>1.0</td>\n",
       "        <td>702.0</td>\n",
       "        <td>11027.6</td>\n",
       "        <td>2631.762</td>\n",
       "        <td>716.2</td>\n",
       "        <td>6980.8</td>\n",
       "        <td>WA</td>\n",
       "        <td>Centralia</td>\n",
       "        <td>3845</td>\n",
       "        <td>BW21</td>\n",
       "        <td>2001</td>\n",
       "        <td>Lewis</td>\n",
       "        <td>46.7559</td>\n",
       "        <td>-122.8578</td>\n",
       "        <td>Coal</td>\n",
       "        <td></td>\n",
       "        <td>Coal</td>\n",
       "    </tr>\n",
       "</table>"
      ],
      "text/plain": [
       "[(u'WA', u'Centralia', 3845, u'BW21', u'01-01-2001', 0, 1.0, 704.0, 11493.6, 2506.854, 720.5, 7022.0, u'WA', u'Centralia', 3845, u'BW21', 2001, u'Lewis', 46.7559, -122.8578, u'Coal', u'', u'Coal'),\n",
       " (u'WA', u'Centralia', 3845, u'BW21', u'01-01-2001', 1, 1.0, 706.0, 11774.7, 2577.369, 736.6, 7179.3, u'WA', u'Centralia', 3845, u'BW21', 2001, u'Lewis', 46.7559, -122.8578, u'Coal', u'', u'Coal'),\n",
       " (u'WA', u'Centralia', 3845, u'BW21', u'01-01-2001', 2, 1.0, 704.0, 11156.9, 2606.306, 718.8, 7006.2, u'WA', u'Centralia', 3845, u'BW21', 2001, u'Lewis', 46.7559, -122.8578, u'Coal', u'', u'Coal'),\n",
       " (u'WA', u'Centralia', 3845, u'BW21', u'01-01-2001', 3, 1.0, 702.0, 10990.0, 2561.697, 716.2, 6980.1, u'WA', u'Centralia', 3845, u'BW21', 2001, u'Lewis', 46.7559, -122.8578, u'Coal', u'', u'Coal'),\n",
       " (u'WA', u'Centralia', 3845, u'BW21', u'01-01-2001', 4, 1.0, 702.0, 11027.6, 2631.762, 716.2, 6980.8, u'WA', u'Centralia', 3845, u'BW21', 2001, u'Lewis', 46.7559, -122.8578, u'Coal', u'', u'Coal')]"
      ]
     },
     "execution_count": 3,
     "metadata": {},
     "output_type": "execute_result"
    }
   ],
   "source": [
    "%sql select * from data limit 5"
   ]
  },
  {
   "cell_type": "code",
   "execution_count": null,
   "metadata": {
    "collapsed": true
   },
   "outputs": [],
   "source": [
    "%sql select count(*) from data"
   ]
  },
  {
   "cell_type": "code",
   "execution_count": 3,
   "metadata": {},
   "outputs": [
    {
     "name": "stdout",
     "output_type": "stream",
     "text": [
      "Done.\n"
     ]
    },
    {
     "data": {
      "text/html": [
       "<table>\n",
       "    <tr>\n",
       "        <th>state</th>\n",
       "        <th>name</th>\n",
       "        <th>orispl_code</th>\n",
       "        <th>unitid</th>\n",
       "        <th>op_date</th>\n",
       "        <th>op_hour</th>\n",
       "        <th>op_time</th>\n",
       "        <th>gload</th>\n",
       "        <th>SO2_MASS</th>\n",
       "        <th>NOX_MASS</th>\n",
       "        <th>CO2_MASS</th>\n",
       "        <th>heat_input</th>\n",
       "        <th>county</th>\n",
       "        <th>latitude</th>\n",
       "        <th>longitude</th>\n",
       "        <th>fuel_type</th>\n",
       "    </tr>\n",
       "    <tr>\n",
       "        <td>WA</td>\n",
       "        <td>Centralia</td>\n",
       "        <td>3845</td>\n",
       "        <td>BW21</td>\n",
       "        <td>01-01-2001</td>\n",
       "        <td>1</td>\n",
       "        <td>1.0</td>\n",
       "        <td>706.0</td>\n",
       "        <td>11774.7</td>\n",
       "        <td>2577.369</td>\n",
       "        <td>736.6</td>\n",
       "        <td>7179.3</td>\n",
       "        <td>Lewis</td>\n",
       "        <td>46.7559</td>\n",
       "        <td>-122.8578</td>\n",
       "        <td>Coal</td>\n",
       "    </tr>\n",
       "    <tr>\n",
       "        <td>WA</td>\n",
       "        <td>Centralia</td>\n",
       "        <td>3845</td>\n",
       "        <td>BW21</td>\n",
       "        <td>01-01-2001</td>\n",
       "        <td>2</td>\n",
       "        <td>1.0</td>\n",
       "        <td>704.0</td>\n",
       "        <td>11156.9</td>\n",
       "        <td>2606.306</td>\n",
       "        <td>718.8</td>\n",
       "        <td>7006.2</td>\n",
       "        <td>Lewis</td>\n",
       "        <td>46.7559</td>\n",
       "        <td>-122.8578</td>\n",
       "        <td>Coal</td>\n",
       "    </tr>\n",
       "    <tr>\n",
       "        <td>WA</td>\n",
       "        <td>Centralia</td>\n",
       "        <td>3845</td>\n",
       "        <td>BW21</td>\n",
       "        <td>01-01-2001</td>\n",
       "        <td>3</td>\n",
       "        <td>1.0</td>\n",
       "        <td>702.0</td>\n",
       "        <td>10990.0</td>\n",
       "        <td>2561.697</td>\n",
       "        <td>716.2</td>\n",
       "        <td>6980.1</td>\n",
       "        <td>Lewis</td>\n",
       "        <td>46.7559</td>\n",
       "        <td>-122.8578</td>\n",
       "        <td>Coal</td>\n",
       "    </tr>\n",
       "    <tr>\n",
       "        <td>WA</td>\n",
       "        <td>Centralia</td>\n",
       "        <td>3845</td>\n",
       "        <td>BW21</td>\n",
       "        <td>01-01-2001</td>\n",
       "        <td>4</td>\n",
       "        <td>1.0</td>\n",
       "        <td>702.0</td>\n",
       "        <td>11027.6</td>\n",
       "        <td>2631.762</td>\n",
       "        <td>716.2</td>\n",
       "        <td>6980.8</td>\n",
       "        <td>Lewis</td>\n",
       "        <td>46.7559</td>\n",
       "        <td>-122.8578</td>\n",
       "        <td>Coal</td>\n",
       "    </tr>\n",
       "    <tr>\n",
       "        <td>WA</td>\n",
       "        <td>Centralia</td>\n",
       "        <td>3845</td>\n",
       "        <td>BW21</td>\n",
       "        <td>01-01-2001</td>\n",
       "        <td>5</td>\n",
       "        <td>1.0</td>\n",
       "        <td>699.0</td>\n",
       "        <td>11258.5</td>\n",
       "        <td>2678.697</td>\n",
       "        <td>721.4</td>\n",
       "        <td>7030.7</td>\n",
       "        <td>Lewis</td>\n",
       "        <td>46.7559</td>\n",
       "        <td>-122.8578</td>\n",
       "        <td>Coal</td>\n",
       "    </tr>\n",
       "</table>"
      ],
      "text/plain": [
       "[(u'WA', u'Centralia', 3845, u'BW21', u'01-01-2001', 1, 1.0, 706.0, 11774.7, 2577.369, 736.6, 7179.3, u'Lewis', 46.7559, -122.8578, u'Coal'),\n",
       " (u'WA', u'Centralia', 3845, u'BW21', u'01-01-2001', 2, 1.0, 704.0, 11156.9, 2606.306, 718.8, 7006.2, u'Lewis', 46.7559, -122.8578, u'Coal'),\n",
       " (u'WA', u'Centralia', 3845, u'BW21', u'01-01-2001', 3, 1.0, 702.0, 10990.0, 2561.697, 716.2, 6980.1, u'Lewis', 46.7559, -122.8578, u'Coal'),\n",
       " (u'WA', u'Centralia', 3845, u'BW21', u'01-01-2001', 4, 1.0, 702.0, 11027.6, 2631.762, 716.2, 6980.8, u'Lewis', 46.7559, -122.8578, u'Coal'),\n",
       " (u'WA', u'Centralia', 3845, u'BW21', u'01-01-2001', 5, 1.0, 699.0, 11258.5, 2678.697, 721.4, 7030.7, u'Lewis', 46.7559, -122.8578, u'Coal')]"
      ]
     },
     "execution_count": 3,
     "metadata": {},
     "output_type": "execute_result"
    }
   ],
   "source": [
    "%sql select * from data where state is UPPER('wa') limit 5"
   ]
  },
  {
   "cell_type": "code",
   "execution_count": 19,
   "metadata": {
    "collapsed": true
   },
   "outputs": [],
   "source": [
    "import sqlite3\n",
    "for state in ['or', 'ca', 'id', 'nv', 'ut', 'az', 'nm', 'co', 'wy', 'mt', 'tx']:\n",
    "    con = sqlite3.connect(state + \".db\")\n",
    "    con = sqlite3.connect(\"smaller.db\")\n",
    "    cur = con.cursor()\n",
    "    cur.execute(\"attach database '\" + state + \".db' AS \" + state + \"db;\")\n",
    "    cur.execute(\"create table \" + state + \"db.data as \\\n",
    "    select * from data where data.state = UPPER('\" + state + \"');\")"
   ]
  },
  {
   "cell_type": "code",
   "execution_count": 16,
   "metadata": {},
   "outputs": [
    {
     "name": "stdout",
     "output_type": "stream",
     "text": [
      "Done.\n"
     ]
    },
    {
     "data": {
      "text/plain": [
       "[]"
      ]
     },
     "execution_count": 16,
     "metadata": {},
     "output_type": "execute_result"
    }
   ],
   "source": []
  },
  {
   "cell_type": "code",
   "execution_count": 17,
   "metadata": {},
   "outputs": [
    {
     "name": "stdout",
     "output_type": "stream",
     "text": [
      "Done.\n"
     ]
    },
    {
     "data": {
      "text/plain": [
       "[]"
      ]
     },
     "execution_count": 17,
     "metadata": {},
     "output_type": "execute_result"
    }
   ],
   "source": [
    "%sql create table wash.data as select * from data where state is UPPER('wa');"
   ]
  },
  {
   "cell_type": "code",
   "execution_count": 21,
   "metadata": {},
   "outputs": [
    {
     "name": "stdout",
     "output_type": "stream",
     "text": [
      "Done.\n"
     ]
    },
    {
     "data": {
      "text/plain": [
       "[]"
      ]
     },
     "execution_count": 21,
     "metadata": {},
     "output_type": "execute_result"
    }
   ],
   "source": [
    "%%sql\n",
    "ATTACH DATABASE '2016.db' AS other;"
   ]
  },
  {
   "cell_type": "code",
   "execution_count": 22,
   "metadata": {},
   "outputs": [
    {
     "name": "stdout",
     "output_type": "stream",
     "text": [
      "Done.\n"
     ]
    },
    {
     "data": {
      "text/plain": [
       "[]"
      ]
     },
     "execution_count": 22,
     "metadata": {},
     "output_type": "execute_result"
    }
   ],
   "source": [
    "%sql create table other.data as select * from data where substr(op_date, -4) is '2016';"
   ]
  },
  {
   "cell_type": "code",
   "execution_count": null,
   "metadata": {
    "collapsed": true
   },
   "outputs": [],
   "source": [
    "import sqlite3\n",
    "con = sqlite3.connect(\"smaller.db\")\n",
    "for year in range(2001, 2017):\n",
    "    con = sqlite3.connect(str(year) + \".db\")\n",
    "    cur = con.cursor()\n",
    "    cur.execute(\"drop table if exists data;\")\n",
    "    con = sqlite3.connect(\"smaller.db\")\n",
    "    cur = con.cursor()\n",
    "    cur.execute(\"attach database '\" + str(year) + \".db' AS db\" + str(year) + \";\")\n",
    "    cur.execute(\"create table db\" + str(year) + \".data as \\\n",
    "    select * from data where substr(op_date, -4) is cast(\" + str(year) + \" as varchar);\")"
   ]
  },
  {
   "cell_type": "code",
   "execution_count": 29,
   "metadata": {},
   "outputs": [
    {
     "name": "stdout",
     "output_type": "stream",
     "text": [
      "Done.\n",
      "Done.\n"
     ]
    },
    {
     "data": {
      "text/plain": [
       "[]"
      ]
     },
     "execution_count": 29,
     "metadata": {},
     "output_type": "execute_result"
    }
   ],
   "source": [
    "%%sql\n",
    "ATTACH DATABASE 'intermountain.db' AS jyoung;\n",
    "create table jyoung.data as select *, substr(op_date, -4) as year from data where name is 'Intermountain';"
   ]
  },
  {
   "cell_type": "code",
   "execution_count": 31,
   "metadata": {
    "collapsed": true
   },
   "outputs": [],
   "source": [
    "import sqlite3\n",
    "import pandas\n",
    "con = sqlite3.connect('intermountain.db')\n",
    "table = pandas.read_sql(\"select unitid, op_date, op_hour, op_time, gload, SO2_MASS, NOX_MASS, CO2_MASS, heat_input, year from data\", con)\n",
    "table.to_csv('intermountain.csv')"
   ]
  },
  {
   "cell_type": "code",
   "execution_count": null,
   "metadata": {
    "collapsed": true
   },
   "outputs": [],
   "source": []
  }
 ],
 "metadata": {
  "kernelspec": {
   "display_name": "Python 2",
   "language": "python",
   "name": "python2"
  },
  "language_info": {
   "codemirror_mode": {
    "name": "ipython",
    "version": 2
   },
   "file_extension": ".py",
   "mimetype": "text/x-python",
   "name": "python",
   "nbconvert_exporter": "python",
   "pygments_lexer": "ipython2",
   "version": "2.7.13"
  }
 },
 "nbformat": 4,
 "nbformat_minor": 2
}
