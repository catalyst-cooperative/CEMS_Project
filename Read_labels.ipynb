{
 "cells": [
  {
   "cell_type": "code",
   "execution_count": 1,
   "metadata": {
    "collapsed": true
   },
   "outputs": [],
   "source": [
    "import csv, sqlite3\n",
    "import os.path"
   ]
  },
  {
   "cell_type": "code",
   "execution_count": 2,
   "metadata": {
    "collapsed": true
   },
   "outputs": [],
   "source": [
    "con = sqlite3.connect(\"cems.db\")\n",
    "cur = con.cursor()"
   ]
  },
  {
   "cell_type": "code",
   "execution_count": 13,
   "metadata": {},
   "outputs": [
    {
     "data": {
      "text/plain": [
       "<sqlite3.Cursor at 0x3539f60>"
      ]
     },
     "execution_count": 13,
     "metadata": {},
     "output_type": "execute_result"
    }
   ],
   "source": [
    "cur.execute('drop table if exists labels;')\n",
    "cur.execute(\n",
    "\"create table labels( \\\n",
    "    state varchar, \\\n",
    "    facility_name varchar, \\\n",
    "    orispl_code int, \\\n",
    "    unitid varchar, \\\n",
    "    year int, \\\n",
    "    county varhcar, \\\n",
    "    county_code varchar, \\\n",
    "    latitude float, \\\n",
    "    longitude float, \\\n",
    "    owner varchar, \\\n",
    "    operator varchar, \\\n",
    "    representative_primary varchar, \\\n",
    "    representative_second varchar, \\\n",
    "    unit_type varchar, \\\n",
    "    fuel_type varchar, \\\n",
    "    fule_type_secondary varchar, \\\n",
    "    max_hourly_rate float, \\\n",
    "    PRIMARY KEY(orispl_code, unitid, year) \\\n",
    ");\")"
   ]
  },
  {
   "cell_type": "code",
   "execution_count": 14,
   "metadata": {},
   "outputs": [],
   "source": [
    "with open('facility_06-23-2017_144111628.csv', 'rb') as fin:\n",
    "    dr = csv.DictReader(fin)\n",
    "    to_db = [(i['State'],  i[' Facility Name'], i[' Facility ID (ORISPL)'], i[' Unit ID'], i[' Year'], i[' County'], i[' County Code'], \n",
    "              i[' Facility Latitude'], i[' Facility Longitude'], i[' Owner'], i[' Operator'], i[' Representative (Primary)'],\n",
    "              i[' Representative (Secondary)'], i[' Unit Type'], i[' Fuel Type (Primary)'], i[' Fuel Type (Secondary)'],\n",
    "              i[' Max Hourly HI Rate (MMBtu/hr)']) for i in dr]\n",
    "cur.executemany(\"insert into labels (    state, facility_name, orispl_code, unitid, year, \\\n",
    "    county, county_code, latitude, longitude, owner, operator, representative_primary, representative_second, \\\n",
    "    unit_type, fuel_type, fule_type_secondary, max_hourly_rate \\\n",
    ") VALUES (?, ?, ?, ?, ?, ?, ?, ?, ?, ?, ?, ?, ?, ?, ?, ?, ?);\", to_db)\n",
    "con.commit()"
   ]
  },
  {
   "cell_type": "code",
   "execution_count": null,
   "metadata": {
    "collapsed": true
   },
   "outputs": [],
   "source": []
  }
 ],
 "metadata": {
  "kernelspec": {
   "display_name": "Python 2",
   "language": "python",
   "name": "python2"
  },
  "language_info": {
   "codemirror_mode": {
    "name": "ipython",
    "version": 2
   },
   "file_extension": ".py",
   "mimetype": "text/x-python",
   "name": "python",
   "nbconvert_exporter": "python",
   "pygments_lexer": "ipython2",
   "version": "2.7.13"
  }
 },
 "nbformat": 4,
 "nbformat_minor": 2
}
