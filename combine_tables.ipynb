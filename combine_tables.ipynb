{
 "cells": [
  {
   "cell_type": "code",
   "execution_count": 1,
   "metadata": {
    "collapsed": true
   },
   "outputs": [],
   "source": [
    "import sqlite3"
   ]
  },
  {
   "cell_type": "code",
   "execution_count": 2,
   "metadata": {
    "collapsed": true
   },
   "outputs": [],
   "source": [
    "con = sqlite3.connect(\"cems.db\")\n",
    "cur = con.cursor()"
   ]
  },
  {
   "cell_type": "code",
   "execution_count": 20,
   "metadata": {},
   "outputs": [
    {
     "name": "stdout",
     "output_type": "stream",
     "text": [
      "[(u'WA', u'Centralia', 3845, u'BW21', u'01-01-2001', 1, 1.0, 706.0, u'', 11774.7, u'Measured', 1.64, u'Calculated', 0.359, u'Measured', 2577.369, u'Calculated', 736.6, u'Measured', 0.103, u'Calculated', 7179.3), (u'WA', u'Centralia', 3845, u'BW21', u'01-01-2001', 2, 1.0, 704.0, u'', 11156.9, u'Measured', 1.592, u'Calculated', 0.372, u'Measured', 2606.306, u'Calculated', 718.8, u'Measured', 0.103, u'Calculated', 7006.2), (u'WA', u'Centralia', 3845, u'BW21', u'01-01-2001', 3, 1.0, 702.0, u'', 10990.0, u'Measured', 1.574, u'Calculated', 0.367, u'Measured', 2561.697, u'Calculated', 716.2, u'Measured', 0.103, u'Calculated', 6980.1), (u'WA', u'Centralia', 3845, u'BW21', u'01-01-2001', 4, 1.0, 702.0, u'', 11027.6, u'Measured', 1.58, u'Calculated', 0.377, u'Measured', 2631.762, u'Calculated', 716.2, u'Measured', 0.103, u'Calculated', 6980.8), (u'WA', u'Centralia', 3845, u'BW21', u'01-01-2001', 5, 1.0, 699.0, u'', 11258.5, u'Measured', 1.601, u'Calculated', 0.381, u'Measured', 2678.697, u'Calculated', 721.4, u'Measured', 0.103, u'Calculated', 7030.7)]\n"
     ]
    }
   ],
   "source": [
    "cur.execute(\"select * from test where substr(test.op_date, -4) is cast(2001 as varchar) LIMIT 5\" )\n",
    "print(cur.fetchall())"
   ]
  },
  {
   "cell_type": "code",
   "execution_count": 7,
   "metadata": {},
   "outputs": [
    {
     "data": {
      "text/plain": [
       "<sqlite3.Cursor at 0x3716c20>"
      ]
     },
     "execution_count": 7,
     "metadata": {},
     "output_type": "execute_result"
    }
   ],
   "source": [
    "cur.execute(\"select * from test where strftime('%Y', test.op_date) = 2001 LIMIT 5\" )"
   ]
  },
  {
   "cell_type": "code",
   "execution_count": 12,
   "metadata": {},
   "outputs": [
    {
     "name": "stdout",
     "output_type": "stream",
     "text": [
      "[(u'01-01-2008',), (u'01-01-2008',), (u'01-01-2008',), (u'01-01-2008',), (u'01-01-2008',)]\n"
     ]
    }
   ],
   "source": [
    "print(cur.fetchall())"
   ]
  },
  {
   "cell_type": "code",
   "execution_count": 22,
   "metadata": {},
   "outputs": [
    {
     "name": "stdout",
     "output_type": "stream",
     "text": [
      "[(u'WA', u'Centralia', 3845, u'BW21', u'01-01-2001', 1, 1.0, 706.0, u'', 11774.7, u'Measured', 1.64, u'Calculated', 0.359, u'Measured', 2577.369, u'Calculated', 736.6, u'Measured', 0.103, u'Calculated', 7179.3, u'WA', u'Centralia', 3845, u'BW21', 2001, u'Lewis', u'WA041', 46.7559, -122.8578, u'', u'TransAlta', u'ARP : Woolley, Richard C (350) (Ended Sep 20, 2001)<br>Chambers, Linda  (2423) (Started Sep 21, 2001)', u'ARP : Enns, Lonnie S (1870)', u'Tangentially-fired', u'Coal', u'', u'')]\n"
     ]
    }
   ],
   "source": [
    "cur.execute(\"select * from test, labels where substr(test.op_date, -4) is cast(labels.year as varchar) \\\n",
    "AND labels.orispl_code is test.orispl_code AND test.unitid is labels.unitid\")"
   ]
  },
  {
   "cell_type": "code",
   "execution_count": 1,
   "metadata": {
    "collapsed": true
   },
   "outputs": [],
   "source": [
    "%load_ext sql"
   ]
  },
  {
   "cell_type": "code",
   "execution_count": 6,
   "metadata": {},
   "outputs": [
    {
     "name": "stdout",
     "output_type": "stream",
     "text": [
      "Done.\n"
     ]
    },
    {
     "data": {
      "text/html": [
       "<table>\n",
       "    <tr>\n",
       "        <th>state</th>\n",
       "        <th>facility_name</th>\n",
       "        <th>orispl_code</th>\n",
       "        <th>unitid</th>\n",
       "        <th>year</th>\n",
       "        <th>county</th>\n",
       "        <th>latitude</th>\n",
       "        <th>longitude</th>\n",
       "        <th>fuel_type</th>\n",
       "        <th>fule_type_secondary</th>\n",
       "    </tr>\n",
       "</table>"
      ],
      "text/plain": [
       "[]"
      ]
     },
     "execution_count": 6,
     "metadata": {},
     "output_type": "execute_result"
    }
   ],
   "source": []
  },
  {
   "cell_type": "code",
   "execution_count": 2,
   "metadata": {},
   "outputs": [
    {
     "name": "stdout",
     "output_type": "stream",
     "text": [
      "Done.\n",
      "Done.\n",
      "Done.\n",
      "Done.\n",
      "(sqlite3.OperationalError) no such column: facility_name [SQL: u\"delete from data where state is 'TX' and (county is not 'El Paso' or facility_name is 'Montana Power Station');\"]\n"
     ]
    }
   ],
   "source": [
    "%%sql\n",
    "sqlite:///smaller.db\n",
    "drop table if exists data;\n",
    "ATTACH DATABASE 'cems.db' as cems;\n",
    "ATTACH DATABASE 'labels.db' as labels_db;\n",
    "create table data as\n",
    "select test.state as state, test.facility_name as name, test.orispl_code as orispl_code, test.unitid as unitid, op_date, year, op_hour, op_time, gload, SO2_MASS, NOX_MASS, CO2_MASS,\n",
    "HEAT_INPUT as heat_input, county, latitude, longitude, fuel_type, fule_type_secondary as fuel_type_2, \n",
    "CASE WHEN (fuel_type is 'Natural Gas' or fuel_type is 'Pipeline Natural Gas' or fuel_type is 'Natural Gas, Pipeline Natural Gas')    THEN ('NG') ELSE (fuel_type) END as fuel_actual \n",
    "from cems.test as test, labels_db.labels as labels where substr(test.op_date, -4) is cast(labels.year as varchar) \n",
    "AND labels.orispl_code is test.orispl_code AND test.unitid is labels.unitid;"
   ]
  },
  {
   "cell_type": "code",
   "execution_count": 4,
   "metadata": {},
   "outputs": [
    {
     "name": "stdout",
     "output_type": "stream",
     "text": [
      "47604813 rows affected.\n",
      "Done.\n"
     ]
    },
    {
     "data": {
      "text/plain": [
       "[]"
      ]
     },
     "execution_count": 4,
     "metadata": {},
     "output_type": "execute_result"
    }
   ],
   "source": [
    "%%sql\n",
    "delete from data where state is 'TX' and (county is not 'El Paso' or name is 'Montana Power Station');\n",
    "vacuum;"
   ]
  },
  {
   "cell_type": "code",
   "execution_count": null,
   "metadata": {
    "collapsed": true
   },
   "outputs": [],
   "source": []
  },
  {
   "cell_type": "code",
   "execution_count": 6,
   "metadata": {},
   "outputs": [
    {
     "name": "stdout",
     "output_type": "stream",
     "text": [
      "Done.\n"
     ]
    },
    {
     "data": {
      "text/html": [
       "<table>\n",
       "    <tr>\n",
       "        <th>state</th>\n",
       "        <th>name</th>\n",
       "        <th>orispl_code</th>\n",
       "        <th>unitid</th>\n",
       "        <th>op_date</th>\n",
       "        <th>year</th>\n",
       "        <th>op_hour</th>\n",
       "        <th>op_time</th>\n",
       "        <th>gload</th>\n",
       "        <th>SO2_MASS</th>\n",
       "        <th>NOX_MASS</th>\n",
       "        <th>CO2_MASS</th>\n",
       "        <th>heat_input</th>\n",
       "        <th>county</th>\n",
       "        <th>latitude</th>\n",
       "        <th>longitude</th>\n",
       "        <th>fuel_type</th>\n",
       "        <th>fuel_type_2</th>\n",
       "        <th>fuel_actual</th>\n",
       "    </tr>\n",
       "    <tr>\n",
       "        <td>WA</td>\n",
       "        <td>Centralia</td>\n",
       "        <td>3845</td>\n",
       "        <td>BW21</td>\n",
       "        <td>01-01-2001</td>\n",
       "        <td>2001</td>\n",
       "        <td>0</td>\n",
       "        <td>1.0</td>\n",
       "        <td>704.0</td>\n",
       "        <td>11493.6</td>\n",
       "        <td>2506.854</td>\n",
       "        <td>720.5</td>\n",
       "        <td>7022.0</td>\n",
       "        <td>Lewis</td>\n",
       "        <td>46.7559</td>\n",
       "        <td>-122.8578</td>\n",
       "        <td>Coal</td>\n",
       "        <td></td>\n",
       "        <td>Coal</td>\n",
       "    </tr>\n",
       "    <tr>\n",
       "        <td>WA</td>\n",
       "        <td>Centralia</td>\n",
       "        <td>3845</td>\n",
       "        <td>BW21</td>\n",
       "        <td>01-01-2001</td>\n",
       "        <td>2001</td>\n",
       "        <td>1</td>\n",
       "        <td>1.0</td>\n",
       "        <td>706.0</td>\n",
       "        <td>11774.7</td>\n",
       "        <td>2577.369</td>\n",
       "        <td>736.6</td>\n",
       "        <td>7179.3</td>\n",
       "        <td>Lewis</td>\n",
       "        <td>46.7559</td>\n",
       "        <td>-122.8578</td>\n",
       "        <td>Coal</td>\n",
       "        <td></td>\n",
       "        <td>Coal</td>\n",
       "    </tr>\n",
       "    <tr>\n",
       "        <td>WA</td>\n",
       "        <td>Centralia</td>\n",
       "        <td>3845</td>\n",
       "        <td>BW21</td>\n",
       "        <td>01-01-2001</td>\n",
       "        <td>2001</td>\n",
       "        <td>2</td>\n",
       "        <td>1.0</td>\n",
       "        <td>704.0</td>\n",
       "        <td>11156.9</td>\n",
       "        <td>2606.306</td>\n",
       "        <td>718.8</td>\n",
       "        <td>7006.2</td>\n",
       "        <td>Lewis</td>\n",
       "        <td>46.7559</td>\n",
       "        <td>-122.8578</td>\n",
       "        <td>Coal</td>\n",
       "        <td></td>\n",
       "        <td>Coal</td>\n",
       "    </tr>\n",
       "    <tr>\n",
       "        <td>WA</td>\n",
       "        <td>Centralia</td>\n",
       "        <td>3845</td>\n",
       "        <td>BW21</td>\n",
       "        <td>01-01-2001</td>\n",
       "        <td>2001</td>\n",
       "        <td>3</td>\n",
       "        <td>1.0</td>\n",
       "        <td>702.0</td>\n",
       "        <td>10990.0</td>\n",
       "        <td>2561.697</td>\n",
       "        <td>716.2</td>\n",
       "        <td>6980.1</td>\n",
       "        <td>Lewis</td>\n",
       "        <td>46.7559</td>\n",
       "        <td>-122.8578</td>\n",
       "        <td>Coal</td>\n",
       "        <td></td>\n",
       "        <td>Coal</td>\n",
       "    </tr>\n",
       "    <tr>\n",
       "        <td>WA</td>\n",
       "        <td>Centralia</td>\n",
       "        <td>3845</td>\n",
       "        <td>BW21</td>\n",
       "        <td>01-01-2001</td>\n",
       "        <td>2001</td>\n",
       "        <td>4</td>\n",
       "        <td>1.0</td>\n",
       "        <td>702.0</td>\n",
       "        <td>11027.6</td>\n",
       "        <td>2631.762</td>\n",
       "        <td>716.2</td>\n",
       "        <td>6980.8</td>\n",
       "        <td>Lewis</td>\n",
       "        <td>46.7559</td>\n",
       "        <td>-122.8578</td>\n",
       "        <td>Coal</td>\n",
       "        <td></td>\n",
       "        <td>Coal</td>\n",
       "    </tr>\n",
       "</table>"
      ],
      "text/plain": [
       "[(u'WA', u'Centralia', 3845, u'BW21', u'01-01-2001', 2001, 0, 1.0, 704.0, 11493.6, 2506.854, 720.5, 7022.0, u'Lewis', 46.7559, -122.8578, u'Coal', u'', u'Coal'),\n",
       " (u'WA', u'Centralia', 3845, u'BW21', u'01-01-2001', 2001, 1, 1.0, 706.0, 11774.7, 2577.369, 736.6, 7179.3, u'Lewis', 46.7559, -122.8578, u'Coal', u'', u'Coal'),\n",
       " (u'WA', u'Centralia', 3845, u'BW21', u'01-01-2001', 2001, 2, 1.0, 704.0, 11156.9, 2606.306, 718.8, 7006.2, u'Lewis', 46.7559, -122.8578, u'Coal', u'', u'Coal'),\n",
       " (u'WA', u'Centralia', 3845, u'BW21', u'01-01-2001', 2001, 3, 1.0, 702.0, 10990.0, 2561.697, 716.2, 6980.1, u'Lewis', 46.7559, -122.8578, u'Coal', u'', u'Coal'),\n",
       " (u'WA', u'Centralia', 3845, u'BW21', u'01-01-2001', 2001, 4, 1.0, 702.0, 11027.6, 2631.762, 716.2, 6980.8, u'Lewis', 46.7559, -122.8578, u'Coal', u'', u'Coal')]"
      ]
     },
     "execution_count": 6,
     "metadata": {},
     "output_type": "execute_result"
    }
   ],
   "source": [
    "% sql select * from data limit 5"
   ]
  },
  {
   "cell_type": "code",
   "execution_count": 6,
   "metadata": {},
   "outputs": [
    {
     "ename": "OperationalError",
     "evalue": "no such column: wa",
     "output_type": "error",
     "traceback": [
      "\u001b[1;31m---------------------------------------------------------------------------\u001b[0m",
      "\u001b[1;31mOperationalError\u001b[0m                          Traceback (most recent call last)",
      "\u001b[1;32m<ipython-input-6-0541d7ad823e>\u001b[0m in \u001b[0;36m<module>\u001b[1;34m()\u001b[0m\n\u001b[0;32m      4\u001b[0m     \u001b[0mcur\u001b[0m \u001b[1;33m=\u001b[0m \u001b[0mcon\u001b[0m\u001b[1;33m.\u001b[0m\u001b[0mcursor\u001b[0m\u001b[1;33m(\u001b[0m\u001b[1;33m)\u001b[0m\u001b[1;33m\u001b[0m\u001b[0m\n\u001b[0;32m      5\u001b[0m     \u001b[0mcur\u001b[0m\u001b[1;33m.\u001b[0m\u001b[0mexecute\u001b[0m\u001b[1;33m(\u001b[0m\u001b[1;34m\"attach database '\"\u001b[0m \u001b[1;33m+\u001b[0m \u001b[0mstate\u001b[0m \u001b[1;33m+\u001b[0m \u001b[1;34m\".db' AS \"\u001b[0m \u001b[1;33m+\u001b[0m \u001b[0mstate\u001b[0m \u001b[1;33m+\u001b[0m \u001b[1;34m\";\"\u001b[0m\u001b[1;33m)\u001b[0m\u001b[1;33m\u001b[0m\u001b[0m\n\u001b[1;32m----> 6\u001b[1;33m     \u001b[0mcur\u001b[0m\u001b[1;33m.\u001b[0m\u001b[0mexecute\u001b[0m\u001b[1;33m(\u001b[0m\u001b[1;34m\"create table \"\u001b[0m \u001b[1;33m+\u001b[0m \u001b[0mstate\u001b[0m \u001b[1;33m+\u001b[0m \u001b[1;34m\".data as     select state, facility_name as name, orispl_code, unitid, op_date, op_hour, op_time, gload, SO2_MASS, NOX_MASS, CO2_MASS, HEAT_INPUT as heat_input, county, latitude, longitude, fuel_type from data where data.state = \"\u001b[0m \u001b[1;33m+\u001b[0m \u001b[0mstate\u001b[0m \u001b[1;33m+\u001b[0m \u001b[1;34m\";\"\u001b[0m\u001b[1;33m)\u001b[0m\u001b[1;33m\u001b[0m\u001b[0m\n\u001b[0m",
      "\u001b[1;31mOperationalError\u001b[0m: no such column: wa"
     ]
    }
   ],
   "source": [
    "for state in ['wa', 'or', 'ca', 'id', 'nv', 'ut', 'az', 'nm', 'co', 'wy', 'mt', 'tx']:\n",
    "    con = sqlite3.connect(state + \".db\")\n",
    "    con = sqlite3.connect(\"cems.db\")\n",
    "    cur = con.cursor()\n",
    "    cur.execute(\"attach database '\" + state + \".db' AS \" + state + \";\")\n",
    "    cur.execute(\"create table \" + state + \".data as \\\n",
    "    select state, facility_name as name, orispl_code, unitid, op_date, op_hour, op_time, gload, SO2_MASS, NOX_MASS, CO2_MASS, \\\n",
    "HEAT_INPUT as heat_input, county, latitude, longitude, fuel_type from data where data.state = \" + UPPER('state') + \";\")"
   ]
  },
  {
   "cell_type": "code",
   "execution_count": null,
   "metadata": {
    "collapsed": true
   },
   "outputs": [],
   "source": []
  }
 ],
 "metadata": {
  "kernelspec": {
   "display_name": "Python 2",
   "language": "python",
   "name": "python2"
  },
  "language_info": {
   "codemirror_mode": {
    "name": "ipython",
    "version": 2
   },
   "file_extension": ".py",
   "mimetype": "text/x-python",
   "name": "python",
   "nbconvert_exporter": "python",
   "pygments_lexer": "ipython2",
   "version": "2.7.13"
  }
 },
 "nbformat": 4,
 "nbformat_minor": 2
}
