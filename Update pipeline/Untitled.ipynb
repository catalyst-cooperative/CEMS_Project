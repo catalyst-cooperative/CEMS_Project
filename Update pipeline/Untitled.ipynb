{
 "cells": [
  {
   "cell_type": "code",
   "execution_count": 1,
   "metadata": {},
   "outputs": [
    {
     "data": {
      "text/plain": [
       "u'Connected: None@to_insert.db'"
      ]
     },
     "execution_count": 1,
     "metadata": {},
     "output_type": "execute_result"
    }
   ],
   "source": [
    "%load_ext sql\n",
    "%sql sqlite:///to_insert.db"
   ]
  },
  {
   "cell_type": "code",
   "execution_count": 3,
   "metadata": {},
   "outputs": [
    {
     "name": "stdout",
     "output_type": "stream",
     "text": [
      "Done.\n"
     ]
    },
    {
     "data": {
      "text/html": [
       "<table>\n",
       "    <tr>\n",
       "        <th>state</th>\n",
       "        <th>facility_name</th>\n",
       "        <th>orispl_code</th>\n",
       "        <th>unitid</th>\n",
       "        <th>op_date</th>\n",
       "        <th>op_hour</th>\n",
       "        <th>op_time</th>\n",
       "        <th>gload</th>\n",
       "        <th>SO2_MASS</th>\n",
       "        <th>NOX_MASS</th>\n",
       "        <th>CO2_MASS</th>\n",
       "        <th>HEAT_INPUT</th>\n",
       "    </tr>\n",
       "    <tr>\n",
       "        <td>WA</td>\n",
       "        <td>Fredonia Generating Station</td>\n",
       "        <td>607</td>\n",
       "        <td>CT3</td>\n",
       "        <td>01-01-2017</td>\n",
       "        <td>0</td>\n",
       "        <td>0.0</td>\n",
       "        <td></td>\n",
       "        <td></td>\n",
       "        <td></td>\n",
       "        <td></td>\n",
       "        <td></td>\n",
       "    </tr>\n",
       "    <tr>\n",
       "        <td>WA</td>\n",
       "        <td>Fredonia Generating Station</td>\n",
       "        <td>607</td>\n",
       "        <td>CT3</td>\n",
       "        <td>01-01-2017</td>\n",
       "        <td>1</td>\n",
       "        <td>0.0</td>\n",
       "        <td></td>\n",
       "        <td></td>\n",
       "        <td></td>\n",
       "        <td></td>\n",
       "        <td></td>\n",
       "    </tr>\n",
       "    <tr>\n",
       "        <td>WA</td>\n",
       "        <td>Fredonia Generating Station</td>\n",
       "        <td>607</td>\n",
       "        <td>CT3</td>\n",
       "        <td>01-01-2017</td>\n",
       "        <td>2</td>\n",
       "        <td>0.0</td>\n",
       "        <td></td>\n",
       "        <td></td>\n",
       "        <td></td>\n",
       "        <td></td>\n",
       "        <td></td>\n",
       "    </tr>\n",
       "    <tr>\n",
       "        <td>WA</td>\n",
       "        <td>Fredonia Generating Station</td>\n",
       "        <td>607</td>\n",
       "        <td>CT3</td>\n",
       "        <td>01-01-2017</td>\n",
       "        <td>3</td>\n",
       "        <td>0.0</td>\n",
       "        <td></td>\n",
       "        <td></td>\n",
       "        <td></td>\n",
       "        <td></td>\n",
       "        <td></td>\n",
       "    </tr>\n",
       "    <tr>\n",
       "        <td>WA</td>\n",
       "        <td>Fredonia Generating Station</td>\n",
       "        <td>607</td>\n",
       "        <td>CT3</td>\n",
       "        <td>01-01-2017</td>\n",
       "        <td>4</td>\n",
       "        <td>0.0</td>\n",
       "        <td></td>\n",
       "        <td></td>\n",
       "        <td></td>\n",
       "        <td></td>\n",
       "        <td></td>\n",
       "    </tr>\n",
       "</table>"
      ],
      "text/plain": [
       "[(u'WA', u'Fredonia Generating Station', 607, u'CT3', u'01-01-2017', 0, 0.0, u'', u'', u'', u'', u''),\n",
       " (u'WA', u'Fredonia Generating Station', 607, u'CT3', u'01-01-2017', 1, 0.0, u'', u'', u'', u'', u''),\n",
       " (u'WA', u'Fredonia Generating Station', 607, u'CT3', u'01-01-2017', 2, 0.0, u'', u'', u'', u'', u''),\n",
       " (u'WA', u'Fredonia Generating Station', 607, u'CT3', u'01-01-2017', 3, 0.0, u'', u'', u'', u'', u''),\n",
       " (u'WA', u'Fredonia Generating Station', 607, u'CT3', u'01-01-2017', 4, 0.0, u'', u'', u'', u'', u'')]"
      ]
     },
     "execution_count": 3,
     "metadata": {},
     "output_type": "execute_result"
    }
   ],
   "source": [
    "%sql select * from data limit 5"
   ]
  },
  {
   "cell_type": "code",
   "execution_count": null,
   "metadata": {
    "collapsed": true
   },
   "outputs": [],
   "source": []
  }
 ],
 "metadata": {
  "kernelspec": {
   "display_name": "Python 2",
   "language": "python",
   "name": "python2"
  },
  "language_info": {
   "codemirror_mode": {
    "name": "ipython",
    "version": 2
   },
   "file_extension": ".py",
   "mimetype": "text/x-python",
   "name": "python",
   "nbconvert_exporter": "python",
   "pygments_lexer": "ipython2",
   "version": "2.7.13"
  }
 },
 "nbformat": 4,
 "nbformat_minor": 2
}
