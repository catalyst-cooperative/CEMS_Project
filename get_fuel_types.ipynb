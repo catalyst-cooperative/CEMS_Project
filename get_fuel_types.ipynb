{
 "cells": [
  {
   "cell_type": "code",
   "execution_count": 1,
   "metadata": {
    "collapsed": true
   },
   "outputs": [],
   "source": [
    "%load_ext sql"
   ]
  },
  {
   "cell_type": "code",
   "execution_count": 2,
   "metadata": {},
   "outputs": [
    {
     "data": {
      "text/plain": [
       "u'Connected: None@cems.db'"
      ]
     },
     "execution_count": 2,
     "metadata": {},
     "output_type": "execute_result"
    }
   ],
   "source": [
    "%sql sqlite:///cems.db"
   ]
  },
  {
   "cell_type": "code",
   "execution_count": 3,
   "metadata": {},
   "outputs": [
    {
     "name": "stdout",
     "output_type": "stream",
     "text": [
      "Done.\n"
     ]
    },
    {
     "data": {
      "text/html": [
       "<table>\n",
       "    <tr>\n",
       "        <th>fuel_type</th>\n",
       "    </tr>\n",
       "    <tr>\n",
       "        <td>Coal</td>\n",
       "    </tr>\n",
       "    <tr>\n",
       "        <td></td>\n",
       "    </tr>\n",
       "    <tr>\n",
       "        <td>Pipeline Natural Gas</td>\n",
       "    </tr>\n",
       "    <tr>\n",
       "        <td>Coal, Natural Gas</td>\n",
       "    </tr>\n",
       "    <tr>\n",
       "        <td>Coal, Pipeline Natural Gas</td>\n",
       "    </tr>\n",
       "    <tr>\n",
       "        <td>Natural Gas</td>\n",
       "    </tr>\n",
       "    <tr>\n",
       "        <td>Process Gas</td>\n",
       "    </tr>\n",
       "    <tr>\n",
       "        <td>Natural Gas, Pipeline Natural Gas</td>\n",
       "    </tr>\n",
       "    <tr>\n",
       "        <td>Diesel Oil, Pipeline Natural Gas</td>\n",
       "    </tr>\n",
       "    <tr>\n",
       "        <td>Other Gas</td>\n",
       "    </tr>\n",
       "    <tr>\n",
       "        <td>Wood</td>\n",
       "    </tr>\n",
       "    <tr>\n",
       "        <td>Other Gas, Pipeline Natural Gas</td>\n",
       "    </tr>\n",
       "    <tr>\n",
       "        <td>Diesel Oil</td>\n",
       "    </tr>\n",
       "    <tr>\n",
       "        <td>Diesel Oil, Other Oil</td>\n",
       "    </tr>\n",
       "    <tr>\n",
       "        <td>Other Oil</td>\n",
       "    </tr>\n",
       "    <tr>\n",
       "        <td>Residual Oil</td>\n",
       "    </tr>\n",
       "    <tr>\n",
       "        <td>Tire Derived Fuel</td>\n",
       "    </tr>\n",
       "    <tr>\n",
       "        <td>Residual Oil, Process Gas</td>\n",
       "    </tr>\n",
       "    <tr>\n",
       "        <td>Residual Oil, Pipeline Natural Gas</td>\n",
       "    </tr>\n",
       "    <tr>\n",
       "        <td>Coal, Wood</td>\n",
       "    </tr>\n",
       "    <tr>\n",
       "        <td>Coal, Other Gas</td>\n",
       "    </tr>\n",
       "    <tr>\n",
       "        <td>Other Oil, Tire Derived Fuel</td>\n",
       "    </tr>\n",
       "    <tr>\n",
       "        <td>Pipeline Natural Gas, Process Gas</td>\n",
       "    </tr>\n",
       "    <tr>\n",
       "        <td>Diesel Oil, Other Gas</td>\n",
       "    </tr>\n",
       "    <tr>\n",
       "        <td>Petroleum Coke</td>\n",
       "    </tr>\n",
       "    <tr>\n",
       "        <td>Other Oil, Pipeline Natural Gas</td>\n",
       "    </tr>\n",
       "    <tr>\n",
       "        <td>Other Solid Fuel</td>\n",
       "    </tr>\n",
       "    <tr>\n",
       "        <td>Diesel Oil, Residual Oil</td>\n",
       "    </tr>\n",
       "    <tr>\n",
       "        <td>Other Solid Fuel, Wood</td>\n",
       "    </tr>\n",
       "    <tr>\n",
       "        <td>Natural Gas, Process Gas</td>\n",
       "    </tr>\n",
       "    <tr>\n",
       "        <td>Other Oil, Petroleum Coke</td>\n",
       "    </tr>\n",
       "    <tr>\n",
       "        <td>Coal, Coal Refuse</td>\n",
       "    </tr>\n",
       "    <tr>\n",
       "        <td>Coal Refuse</td>\n",
       "    </tr>\n",
       "    <tr>\n",
       "        <td>Residual Oil, Other Oil</td>\n",
       "    </tr>\n",
       "    <tr>\n",
       "        <td>Other Gas, Process Gas</td>\n",
       "    </tr>\n",
       "</table>"
      ],
      "text/plain": [
       "[(u'Coal',),\n",
       " (u'',),\n",
       " (u'Pipeline Natural Gas',),\n",
       " (u'Coal, Natural Gas',),\n",
       " (u'Coal, Pipeline Natural Gas',),\n",
       " (u'Natural Gas',),\n",
       " (u'Process Gas',),\n",
       " (u'Natural Gas, Pipeline Natural Gas',),\n",
       " (u'Diesel Oil, Pipeline Natural Gas',),\n",
       " (u'Other Gas',),\n",
       " (u'Wood',),\n",
       " (u'Other Gas, Pipeline Natural Gas',),\n",
       " (u'Diesel Oil',),\n",
       " (u'Diesel Oil, Other Oil',),\n",
       " (u'Other Oil',),\n",
       " (u'Residual Oil',),\n",
       " (u'Tire Derived Fuel',),\n",
       " (u'Residual Oil, Process Gas',),\n",
       " (u'Residual Oil, Pipeline Natural Gas',),\n",
       " (u'Coal, Wood',),\n",
       " (u'Coal, Other Gas',),\n",
       " (u'Other Oil, Tire Derived Fuel',),\n",
       " (u'Pipeline Natural Gas, Process Gas',),\n",
       " (u'Diesel Oil, Other Gas',),\n",
       " (u'Petroleum Coke',),\n",
       " (u'Other Oil, Pipeline Natural Gas',),\n",
       " (u'Other Solid Fuel',),\n",
       " (u'Diesel Oil, Residual Oil',),\n",
       " (u'Other Solid Fuel, Wood',),\n",
       " (u'Natural Gas, Process Gas',),\n",
       " (u'Other Oil, Petroleum Coke',),\n",
       " (u'Coal, Coal Refuse',),\n",
       " (u'Coal Refuse',),\n",
       " (u'Residual Oil, Other Oil',),\n",
       " (u'Other Gas, Process Gas',)]"
      ]
     },
     "execution_count": 3,
     "metadata": {},
     "output_type": "execute_result"
    }
   ],
   "source": [
    "%sql select distinct fuel_type from labels"
   ]
  },
  {
   "cell_type": "code",
   "execution_count": null,
   "metadata": {
    "collapsed": true
   },
   "outputs": [],
   "source": []
  }
 ],
 "metadata": {
  "kernelspec": {
   "display_name": "Python 2",
   "language": "python",
   "name": "python2"
  },
  "language_info": {
   "codemirror_mode": {
    "name": "ipython",
    "version": 2
   },
   "file_extension": ".py",
   "mimetype": "text/x-python",
   "name": "python",
   "nbconvert_exporter": "python",
   "pygments_lexer": "ipython2",
   "version": "2.7.13"
  }
 },
 "nbformat": 4,
 "nbformat_minor": 2
}
