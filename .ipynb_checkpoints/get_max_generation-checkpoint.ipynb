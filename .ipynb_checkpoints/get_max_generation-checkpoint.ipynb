{
 "cells": [
  {
   "cell_type": "code",
   "execution_count": null,
   "metadata": {
    "collapsed": true
   },
   "outputs": [],
   "source": [
    "%sql select max(CAST(gload as float)) as global_max_generation, max(CAST(heat_input as float)) as global_max_heat_input, name, orispl_code, unitid from data group by name, unitid"
   ]
  },
  {
   "cell_type": "code",
   "execution_count": null,
   "metadata": {
    "collapsed": true
   },
   "outputs": [],
   "source": [
    "def max_generation(dbname, table = \"data\", output = None):\n",
    "    import sqlite3\n",
    "    import pandas\n",
    "    con = sqlite3.connect(dbname)\n",
    "    cur = con.cursor()\n",
    "    if output is None:\n",
    "        output = dbname + \"_max.csv\"\n",
    "    table = pandas.read_sql('select max(CAST(gload as float)) as global_max_generation, \\\n",
    "    max(CAST(heat_input as float)) as global_max_heat_input, name, orispl_code, unitid \\\n",
    "    from ' + table + ' group by name, unitid')\n",
    "    table.to_csv(output)"
   ]
  }
 ],
 "metadata": {
  "kernelspec": {
   "display_name": "Python 2",
   "language": "python",
   "name": "python2"
  },
  "language_info": {
   "codemirror_mode": {
    "name": "ipython",
    "version": 2
   },
   "file_extension": ".py",
   "mimetype": "text/x-python",
   "name": "python",
   "nbconvert_exporter": "python",
   "pygments_lexer": "ipython2",
   "version": "2.7.13"
  }
 },
 "nbformat": 4,
 "nbformat_minor": 2
}
