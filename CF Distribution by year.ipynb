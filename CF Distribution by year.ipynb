{
 "cells": [
  {
   "cell_type": "code",
   "execution_count": 1,
   "metadata": {
    "collapsed": true
   },
   "outputs": [],
   "source": [
    "%load_ext sql"
   ]
  },
  {
   "cell_type": "code",
   "execution_count": 2,
   "metadata": {},
   "outputs": [
    {
     "data": {
      "text/plain": [
       "u'Connected: None@smaller.db'"
      ]
     },
     "execution_count": 2,
     "metadata": {},
     "output_type": "execute_result"
    }
   ],
   "source": [
    "%sql sqlite:///smaller.db"
   ]
  },
  {
   "cell_type": "code",
   "execution_count": 3,
   "metadata": {},
   "outputs": [
    {
     "name": "stdout",
     "output_type": "stream",
     "text": [
      "Done.\n",
      "Done.\n"
     ]
    },
    {
     "data": {
      "text/plain": [
       "[]"
      ]
     },
     "execution_count": 3,
     "metadata": {},
     "output_type": "execute_result"
    }
   ],
   "source": [
    "%%sql\n",
    "ATTACH DATABASE 'coal.db' AS coal;\n",
    "create table coal.data as select *, substr(op_date, -4) as year from data where fuel_type is 'Coal';"
   ]
  },
  {
   "cell_type": "code",
   "execution_count": 8,
   "metadata": {},
   "outputs": [
    {
     "data": {
      "text/plain": [
       "u'Connected: None@coal.db'"
      ]
     },
     "execution_count": 8,
     "metadata": {},
     "output_type": "execute_result"
    }
   ],
   "source": [
    "%sql sqlite:///coal.db"
   ]
  },
  {
   "cell_type": "code",
   "execution_count": 11,
   "metadata": {},
   "outputs": [
    {
     "name": "stdout",
     "output_type": "stream",
     "text": [
      "Done.\n"
     ]
    },
    {
     "data": {
      "text/html": [
       "<table>\n",
       "    <tr>\n",
       "        <th>state</th>\n",
       "        <th>name</th>\n",
       "        <th>orispl_code</th>\n",
       "        <th>unitid</th>\n",
       "        <th>op_date</th>\n",
       "        <th>op_hour</th>\n",
       "        <th>op_time</th>\n",
       "        <th>gload</th>\n",
       "        <th>SO2_MASS</th>\n",
       "        <th>NOX_MASS</th>\n",
       "        <th>CO2_MASS</th>\n",
       "        <th>heat_input</th>\n",
       "        <th>county</th>\n",
       "        <th>latitude</th>\n",
       "        <th>longitude</th>\n",
       "        <th>fuel_type</th>\n",
       "        <th>year</th>\n",
       "    </tr>\n",
       "</table>"
      ],
      "text/plain": [
       "[]"
      ]
     },
     "execution_count": 11,
     "metadata": {},
     "output_type": "execute_result"
    }
   ],
   "source": [
    "%sql select * from data limit 0"
   ]
  },
  {
   "cell_type": "code",
   "execution_count": 12,
   "metadata": {},
   "outputs": [
    {
     "name": "stdout",
     "output_type": "stream",
     "text": [
      "Done.\n"
     ]
    },
    {
     "data": {
      "text/html": [
       "<table>\n",
       "    <tr>\n",
       "        <th>name</th>\n",
       "        <th>unitid</th>\n",
       "        <th>max_gen</th>\n",
       "        <th>capacity_factor</th>\n",
       "        <th>year</th>\n",
       "    </tr>\n",
       "    <tr>\n",
       "        <td>Escalante </td>\n",
       "        <td>1</td>\n",
       "        <td>260.0</td>\n",
       "        <td>669.395411888</td>\n",
       "        <td>2001</td>\n",
       "    </tr>\n",
       "    <tr>\n",
       "        <td>Escalante </td>\n",
       "        <td>1</td>\n",
       "        <td>262.0</td>\n",
       "        <td>838.386143622</td>\n",
       "        <td>2002</td>\n",
       "    </tr>\n",
       "    <tr>\n",
       "        <td>Escalante </td>\n",
       "        <td>1</td>\n",
       "        <td>262.0</td>\n",
       "        <td>974.621601526</td>\n",
       "        <td>2003</td>\n",
       "    </tr>\n",
       "    <tr>\n",
       "        <td>Escalante </td>\n",
       "        <td>1</td>\n",
       "        <td>264.0</td>\n",
       "        <td>858.907640037</td>\n",
       "        <td>2004</td>\n",
       "    </tr>\n",
       "    <tr>\n",
       "        <td>Prewitt Escalante Generating Station</td>\n",
       "        <td>1</td>\n",
       "        <td>265.0</td>\n",
       "        <td>881.917324066</td>\n",
       "        <td>2005</td>\n",
       "    </tr>\n",
       "</table>"
      ],
      "text/plain": [
       "[(u'Escalante ', u'1', 260.0, 669.3954118878012, u'2001'),\n",
       " (u'Escalante ', u'1', 262.0, 838.3861436224213, u'2002'),\n",
       " (u'Escalante ', u'1', 262.0, 974.6216015261315, u'2003'),\n",
       " (u'Escalante ', u'1', 264.0, 858.9076400369883, u'2004'),\n",
       " (u'Prewitt Escalante Generating Station', u'1', 265.0, 881.9173240656943, u'2005')]"
      ]
     },
     "execution_count": 12,
     "metadata": {},
     "output_type": "execute_result"
    }
   ],
   "source": [
    "%%sql\n",
    "select name, unitid, max(CAST(gload as float)) as max_gen, sum(cast(gload as float) / cast(heat_input as float)) as capacity_factor, year\n",
    "from data group by orispl_code, unitid, year limit 5"
   ]
  },
  {
   "cell_type": "code",
   "execution_count": 14,
   "metadata": {},
   "outputs": [
    {
     "name": "stdout",
     "output_type": "stream",
     "text": [
      "Done.\n",
      "Done.\n",
      "Done.\n"
     ]
    },
    {
     "data": {
      "text/html": [
       "<table>\n",
       "    <tr>\n",
       "        <th>name</th>\n",
       "        <th>orispl_code</th>\n",
       "        <th>unitid</th>\n",
       "        <th>state</th>\n",
       "        <th>op_date</th>\n",
       "        <th>op_hour</th>\n",
       "        <th>gload</th>\n",
       "        <th>capacity_factor</th>\n",
       "    </tr>\n",
       "    <tr>\n",
       "        <td>Centralia</td>\n",
       "        <td>3845</td>\n",
       "        <td>BW21</td>\n",
       "        <td>WA</td>\n",
       "        <td>01-01-2001</td>\n",
       "        <td>1</td>\n",
       "        <td>706.0</td>\n",
       "        <td>0.909793814433</td>\n",
       "    </tr>\n",
       "    <tr>\n",
       "        <td>Centralia</td>\n",
       "        <td>3845</td>\n",
       "        <td>BW21</td>\n",
       "        <td>WA</td>\n",
       "        <td>01-01-2001</td>\n",
       "        <td>2</td>\n",
       "        <td>704.0</td>\n",
       "        <td>0.907216494845</td>\n",
       "    </tr>\n",
       "    <tr>\n",
       "        <td>Centralia</td>\n",
       "        <td>3845</td>\n",
       "        <td>BW21</td>\n",
       "        <td>WA</td>\n",
       "        <td>01-01-2001</td>\n",
       "        <td>3</td>\n",
       "        <td>702.0</td>\n",
       "        <td>0.904639175258</td>\n",
       "    </tr>\n",
       "    <tr>\n",
       "        <td>Centralia</td>\n",
       "        <td>3845</td>\n",
       "        <td>BW21</td>\n",
       "        <td>WA</td>\n",
       "        <td>01-01-2001</td>\n",
       "        <td>4</td>\n",
       "        <td>702.0</td>\n",
       "        <td>0.904639175258</td>\n",
       "    </tr>\n",
       "    <tr>\n",
       "        <td>Centralia</td>\n",
       "        <td>3845</td>\n",
       "        <td>BW21</td>\n",
       "        <td>WA</td>\n",
       "        <td>01-01-2001</td>\n",
       "        <td>5</td>\n",
       "        <td>699.0</td>\n",
       "        <td>0.900773195876</td>\n",
       "    </tr>\n",
       "</table>"
      ],
      "text/plain": [
       "[(u'Centralia', 3845, u'BW21', u'WA', u'01-01-2001', 1, 706.0, 0.9097938144329897),\n",
       " (u'Centralia', 3845, u'BW21', u'WA', u'01-01-2001', 2, 704.0, 0.9072164948453608),\n",
       " (u'Centralia', 3845, u'BW21', u'WA', u'01-01-2001', 3, 702.0, 0.904639175257732),\n",
       " (u'Centralia', 3845, u'BW21', u'WA', u'01-01-2001', 4, 702.0, 0.904639175257732),\n",
       " (u'Centralia', 3845, u'BW21', u'WA', u'01-01-2001', 5, 699.0, 0.9007731958762887)]"
      ]
     },
     "execution_count": 14,
     "metadata": {},
     "output_type": "execute_result"
    }
   ],
   "source": [
    "%%sql\n",
    "drop table if exists cf;\n",
    "create table cf as \n",
    "select name, d.orispl_code, d.unitid, state, op_date, op_hour, gload, \n",
    "cast(gload as float) / cast(max_gen as float) as capacity_factor\n",
    "from (select orispl_code, unitid, max(CAST(gload as float)) as max_gen\n",
    "from data group by orispl_code, unitid) as m, data as d\n",
    "where d.orispl_code = m.orispl_code and d.unitid = m.unitid;\n",
    "select * from cf limit 5;"
   ]
  },
  {
   "cell_type": "code",
   "execution_count": 32,
   "metadata": {},
   "outputs": [
    {
     "name": "stdout",
     "output_type": "stream",
     "text": [
      "Done.\n"
     ]
    },
    {
     "data": {
      "text/html": [
       "<table>\n",
       "    <tr>\n",
       "        <th>count(*)</th>\n",
       "        <th>year</th>\n",
       "    </tr>\n",
       "    <tr>\n",
       "        <td>2534</td>\n",
       "        <td>2001</td>\n",
       "    </tr>\n",
       "    <tr>\n",
       "        <td>2412</td>\n",
       "        <td>2002</td>\n",
       "    </tr>\n",
       "    <tr>\n",
       "        <td>2265</td>\n",
       "        <td>2003</td>\n",
       "    </tr>\n",
       "    <tr>\n",
       "        <td>2383</td>\n",
       "        <td>2004</td>\n",
       "    </tr>\n",
       "    <tr>\n",
       "        <td>2307</td>\n",
       "        <td>2005</td>\n",
       "    </tr>\n",
       "    <tr>\n",
       "        <td>2167</td>\n",
       "        <td>2006</td>\n",
       "    </tr>\n",
       "    <tr>\n",
       "        <td>2344</td>\n",
       "        <td>2007</td>\n",
       "    </tr>\n",
       "    <tr>\n",
       "        <td>2501</td>\n",
       "        <td>2008</td>\n",
       "    </tr>\n",
       "    <tr>\n",
       "        <td>2793</td>\n",
       "        <td>2009</td>\n",
       "    </tr>\n",
       "    <tr>\n",
       "        <td>3872</td>\n",
       "        <td>2010</td>\n",
       "    </tr>\n",
       "    <tr>\n",
       "        <td>4198</td>\n",
       "        <td>2011</td>\n",
       "    </tr>\n",
       "    <tr>\n",
       "        <td>4405</td>\n",
       "        <td>2012</td>\n",
       "    </tr>\n",
       "    <tr>\n",
       "        <td>3734</td>\n",
       "        <td>2013</td>\n",
       "    </tr>\n",
       "    <tr>\n",
       "        <td>2877</td>\n",
       "        <td>2014</td>\n",
       "    </tr>\n",
       "    <tr>\n",
       "        <td>4894</td>\n",
       "        <td>2015</td>\n",
       "    </tr>\n",
       "    <tr>\n",
       "        <td>3039</td>\n",
       "        <td>2016</td>\n",
       "    </tr>\n",
       "</table>"
      ],
      "text/plain": [
       "[(2534, u'2001'),\n",
       " (2412, u'2002'),\n",
       " (2265, u'2003'),\n",
       " (2383, u'2004'),\n",
       " (2307, u'2005'),\n",
       " (2167, u'2006'),\n",
       " (2344, u'2007'),\n",
       " (2501, u'2008'),\n",
       " (2793, u'2009'),\n",
       " (3872, u'2010'),\n",
       " (4198, u'2011'),\n",
       " (4405, u'2012'),\n",
       " (3734, u'2013'),\n",
       " (2877, u'2014'),\n",
       " (4894, u'2015'),\n",
       " (3039, u'2016')]"
      ]
     },
     "execution_count": 32,
     "metadata": {},
     "output_type": "execute_result"
    }
   ],
   "source": [
    "%%sql\n",
    "select count(*), substr(op_date, -4) as year from cf where capacity_factor > 0 and capacity_factor <= 0.1 group by year"
   ]
  },
  {
   "cell_type": "code",
   "execution_count": 38,
   "metadata": {},
   "outputs": [
    {
     "name": "stdout",
     "output_type": "stream",
     "text": [
      "name\n",
      "orispl_code\n",
      "unitid\n",
      "state\n",
      "op_date\n",
      "op_hour\n",
      "gload\n",
      "capacity_factor\n"
     ]
    }
   ],
   "source": [
    "import sqlite3\n",
    "import pandas\n",
    "import os.path\n",
    "con = sqlite3.connect('coal.db')\n",
    "labels = pandas.read_sql(\"select orispl_code, unitid from data group by orispl_code, unitid\", con)\n"
   ]
  },
  {
   "cell_type": "code",
   "execution_count": 49,
   "metadata": {
    "scrolled": true
   },
   "outputs": [
    {
     "name": "stdout",
     "output_type": "stream",
     "text": [
      "87 1\n",
      "113 1\n",
      "113 2\n",
      "113 3\n",
      "113 4\n",
      "126 4\n",
      "160 2\n",
      "160 3\n",
      "465 1\n",
      "465 2\n",
      "465 3\n",
      "465 4\n",
      "468 2\n",
      "469 1\n",
      "469 2\n",
      "469 3\n",
      "469 4\n",
      "470 1\n",
      "470 2\n",
      "470 3\n",
      "477 5\n",
      "492 5\n",
      "492 6\n",
      "492 7\n",
      "508 8\n",
      "525 H1\n",
      "525 H2\n",
      "527 1\n",
      "2187 2\n",
      "2324 1\n",
      "2324 2\n",
      "2324 3\n",
      "2324 4\n",
      "2341 1\n",
      "2341 2\n",
      "2442 1\n",
      "2442 2\n",
      "2442 3\n",
      "2442 4\n",
      "2442 5\n",
      "2451 1\n",
      "2451 2\n",
      "2451 3\n",
      "2451 4\n",
      "3644 1\n",
      "3644 2\n",
      "3845 BW21\n",
      "3845 BW22\n",
      "4158 BW41\n",
      "4158 BW42\n",
      "4158 BW43\n",
      "4158 BW44\n",
      "4162 1\n",
      "4162 2\n",
      "4162 3\n",
      "4941 1\n",
      "4941 2\n",
      "4941 3\n",
      "6021 C1\n",
      "6021 C2\n",
      "6021 C3\n",
      "6076 1\n",
      "6076 2\n",
      "6076 3\n",
      "6076 4\n",
      "6089 B1\n",
      "6101 BW91\n",
      "6106 1SG\n",
      "6165 1\n",
      "6165 2\n",
      "6165 3\n",
      "6177 U1B\n",
      "6177 U2B\n",
      "6204 1\n",
      "6204 2\n",
      "6204 3\n",
      "6248 1\n",
      "6481 1SGA\n",
      "6481 2SGA\n",
      "6761 101\n",
      "7504 001\n",
      "7790 1-1\n",
      "8066 BW71\n",
      "8066 BW72\n",
      "8066 BW73\n",
      "8066 BW74\n",
      "8069 1\n",
      "8069 2\n",
      "8219 1\n",
      "8223 1\n",
      "8223 2\n",
      "8223 4\n",
      "8223 TS3\n",
      "8224 1\n",
      "8224 2\n",
      "50951 1\n",
      "55479 001\n",
      "55749 U1\n",
      "56224 001\n",
      "56319 001\n",
      "56596 001\n",
      "56609 01\n"
     ]
    }
   ],
   "source": [
    "# Generates csv file for each unit, for each year, of capacity factors.\n",
    "if not os.path.exists('cf'):\n",
    "    os.makedirs('cf')\n",
    "for i, row in labels.iterrows():\n",
    "    print row['orispl_code'], row['unitid']\n",
    "    for year in range(2001, 2017):\n",
    "        table = pandas.read_sql(\"select name, orispl_code, unitid, op_date, op_hour, capacity_factor from cf\\\n",
    "        where orispl_code is \" + str(row['orispl_code']) + \" and unitid is '\" + row['unitid'] + \"' and \\\n",
    "        substr(op_date, -4) is '\" + str(year) + \"'\", con)\n",
    "        table.to_csv('cf/' + str(row['orispl_code']) + '_' + row['unitid'] + '_' + str(year) + '.csv')"
   ]
  },
  {
   "cell_type": "code",
   "execution_count": null,
   "metadata": {
    "collapsed": true
   },
   "outputs": [],
   "source": [
    "for i, row in labels.iterrows():\n",
    "    for year in range(2001, 2017):\n",
    "        frame = pandas.read_csv('cf/' + str(row['orispl_code']) + '_' + row['unitid'] + '_' + str(year) + '.csv')\n",
    "        data = frame.capacity_factor\n",
    "        \n",
    "            "
   ]
  }
 ],
 "metadata": {
  "kernelspec": {
   "display_name": "Python 2",
   "language": "python",
   "name": "python2"
  },
  "language_info": {
   "codemirror_mode": {
    "name": "ipython",
    "version": 2
   },
   "file_extension": ".py",
   "mimetype": "text/x-python",
   "name": "python",
   "nbconvert_exporter": "python",
   "pygments_lexer": "ipython2",
   "version": "2.7.13"
  }
 },
 "nbformat": 4,
 "nbformat_minor": 2
}
