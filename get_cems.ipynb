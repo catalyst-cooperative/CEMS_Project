{
 "cells": [
  {
   "cell_type": "code",
   "execution_count": 1,
   "metadata": {
    "collapsed": true
   },
   "outputs": [],
   "source": [
    "from ftplib import FTP\n",
    "import os.path"
   ]
  },
  {
   "cell_type": "code",
   "execution_count": 2,
   "metadata": {},
   "outputs": [
    {
     "name": "stdout",
     "output_type": "stream",
     "text": [
      "['1995', '1996', '1997', '1998', '1999', '2000', '2001', '2002', '2003', '2004', '2005', '2006', '2007', '2008', '2009', '2010', '2011', '2012', '2013', '2014', '2015', '2016', '2017']\n"
     ]
    }
   ],
   "source": [
    "ftp = FTP('ftp.epa.gov', timeout=60)\n",
    "ftp.login()\n",
    "ftp.cwd('dmdnload')\n",
    "ftp.cwd('emissions')\n",
    "ftp.cwd('hourly')\n",
    "ftp.cwd('monthly')\n",
    "years = []\n",
    "ftp.retrlines('NLST', years.append)\n",
    "print(years)\n",
    "parent_directory = ftp.pwd()"
   ]
  },
  {
   "cell_type": "code",
   "execution_count": 3,
   "metadata": {
    "collapsed": true
   },
   "outputs": [],
   "source": [
    "def zip_fetch(ftp, entry):\n",
    "    print(entry)\n",
    "    outfile = open('data/' + entry, 'wb')\n",
    "    ftp.retrbinary('RETR ' + entry, outfile.write)\n",
    "    outfile.close()\n",
    "    return\n",
    "states = ['wa', 'or', 'ca', 'id', 'nv', 'ut', 'az', 'nm', 'co', 'wy', 'mt', 'tx']\n",
    "def inWest(string):\n",
    "    return string[4:6] in states"
   ]
  },
  {
   "cell_type": "code",
   "execution_count": 5,
   "metadata": {
    "scrolled": true
   },
   "outputs": [
    {
     "name": "stdout",
     "output_type": "stream",
     "text": [
      "2017az01.zip\n",
      "2017az02.zip\n",
      "2017az03.zip\n",
      "2017ca01.zip\n",
      "2017ca02.zip\n",
      "2017ca03.zip\n",
      "2017co01.zip\n",
      "2017co02.zip\n",
      "2017co03.zip\n",
      "2017id01.zip\n",
      "2017id02.zip\n",
      "2017id03.zip\n",
      "2017mt01.zip\n",
      "2017mt02.zip\n",
      "2017mt03.zip\n",
      "2017nm01.zip\n",
      "2017nm02.zip\n",
      "2017nm03.zip\n",
      "2017nv01.zip\n",
      "2017nv02.zip\n",
      "2017nv03.zip\n",
      "2017or01.zip\n",
      "2017or02.zip\n",
      "2017or03.zip\n",
      "2017tx01.zip\n",
      "2017tx02.zip\n",
      "2017tx03.zip\n",
      "2017ut01.zip\n",
      "2017ut02.zip\n",
      "2017ut03.zip\n",
      "2017wa01.zip\n",
      "2017wa02.zip\n",
      "2017wa03.zip\n",
      "2017wy01.zip\n",
      "2017wy02.zip\n",
      "2017wy03.zip\n"
     ]
    }
   ],
   "source": [
    "ftp.cwd(parent_directory)\n",
    "if not os.path.exists('data'):\n",
    "    os.makedirs('data')\n",
    "visited = []\n",
    "with open(\"successes.txt\", \"r\") as file:\n",
    "    for line in file:\n",
    "        visited.append(line[:-1])\n",
    "\n",
    "\n",
    "for year in range(2001, 2018):\n",
    "    ftp.cwd(str(year))\n",
    "    files = []\n",
    "    ftp.retrlines('NLST', files.append)\n",
    "    for entry in files:\n",
    "        if entry in visited or not inWest(entry):\n",
    "            continue\n",
    "        try:\n",
    "            zip_fetch(ftp, entry)\n",
    "            with open(\"successes.txt\", 'a+') as outfile:\n",
    "                outfile.writelines(entry + '\\n')\n",
    "        except:\n",
    "            pass            \n",
    "    ftp.cwd('..')"
   ]
  },
  {
   "cell_type": "code",
   "execution_count": null,
   "metadata": {
    "collapsed": true
   },
   "outputs": [],
   "source": []
  },
  {
   "cell_type": "code",
   "execution_count": null,
   "metadata": {},
   "outputs": [],
   "source": []
  },
  {
   "cell_type": "code",
   "execution_count": null,
   "metadata": {
    "collapsed": true
   },
   "outputs": [],
   "source": []
  }
 ],
 "metadata": {
  "kernelspec": {
   "display_name": "Python 2",
   "language": "python",
   "name": "python2"
  },
  "language_info": {
   "codemirror_mode": {
    "name": "ipython",
    "version": 2
   },
   "file_extension": ".py",
   "mimetype": "text/x-python",
   "name": "python",
   "nbconvert_exporter": "python",
   "pygments_lexer": "ipython2",
   "version": "2.7.13"
  }
 },
 "nbformat": 4,
 "nbformat_minor": 2
}
