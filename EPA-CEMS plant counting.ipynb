{
 "cells": [
  {
   "cell_type": "code",
   "execution_count": 4,
   "metadata": {
    "collapsed": true
   },
   "outputs": [],
   "source": [
    "import csv"
   ]
  },
  {
   "cell_type": "code",
   "execution_count": 11,
   "metadata": {},
   "outputs": [
    {
     "name": "stdout",
     "output_type": "stream",
     "text": [
      "Things in EPA, not in CEMS\n",
      "6204.2\n",
      "6204.2\n",
      "6204.1\n",
      "50931\n",
      "10002\n",
      "50951\n",
      "10784\n",
      "10768\n",
      "10769\n",
      "10640\n",
      "10373\n",
      "54238\n",
      "2341\n",
      "2341\n",
      "Things in CEMS, not in EPA\n",
      "126\n",
      "508\n",
      "6089\n",
      "6204\n",
      "6204\n",
      "6204\n",
      "\n",
      "\n",
      "\n",
      "\n",
      "\n",
      "\n",
      "\n",
      "\n"
     ]
    }
   ],
   "source": [
    "with open('coal_plants.csv', 'rb') as csvfile:\n",
    "    reader = csv.DictReader(csvfile)\n",
    "    epa = []\n",
    "    cems = []\n",
    "    for row in reader:\n",
    "        epa.append(row['\\xef\\xbb\\xbfORIS Code'])\n",
    "        cems.append(row[' Facility ID (ORISPL)'])\n",
    "    print(\"Things in EPA, not in CEMS\")\n",
    "    for entry in epa:\n",
    "        if entry not in cems:\n",
    "            print(entry)\n",
    "    print(\"Things in CEMS, not in EPA\")\n",
    "    for entry in cems:\n",
    "        if entry not in epa:\n",
    "            print(entry)"
   ]
  },
  {
   "cell_type": "code",
   "execution_count": 15,
   "metadata": {},
   "outputs": [],
   "source": [
    "import sqlite3\n",
    "import pandas\n",
    "con = sqlite3.connect('navajo.db')\n",
    "table = pandas.read_sql('select * from data', con)\n",
    "table.to_csv('output.csv')"
   ]
  },
  {
   "cell_type": "code",
   "execution_count": 16,
   "metadata": {},
   "outputs": [
    {
     "name": "stdout",
     "output_type": "stream",
     "text": [
      "The sql extension is already loaded. To reload it, use:\n",
      "  %reload_ext sql\n"
     ]
    }
   ],
   "source": [
    "%load_ext sql"
   ]
  },
  {
   "cell_type": "code",
   "execution_count": 18,
   "metadata": {},
   "outputs": [
    {
     "name": "stdout",
     "output_type": "stream",
     "text": [
      "Done.\n"
     ]
    },
    {
     "data": {
      "text/html": [
       "<table>\n",
       "    <tr>\n",
       "        <th>state</th>\n",
       "        <th>name</th>\n",
       "        <th>orispl_code</th>\n",
       "        <th>unitid</th>\n",
       "        <th>op_date</th>\n",
       "        <th>op_hour</th>\n",
       "        <th>op_time</th>\n",
       "        <th>gload</th>\n",
       "        <th>SO2_MASS</th>\n",
       "        <th>NOX_MASS</th>\n",
       "        <th>CO2_MASS</th>\n",
       "        <th>heat_input</th>\n",
       "        <th>county</th>\n",
       "        <th>latitude</th>\n",
       "        <th>longitude</th>\n",
       "        <th>fuel_type</th>\n",
       "    </tr>\n",
       "</table>"
      ],
      "text/plain": [
       "[]"
      ]
     },
     "execution_count": 18,
     "metadata": {},
     "output_type": "execute_result"
    }
   ],
   "source": [
    "%sql sqlite:///navajo.db\n",
    "%sql select * from data limit 0"
   ]
  },
  {
   "cell_type": "code",
   "execution_count": 30,
   "metadata": {},
   "outputs": [
    {
     "name": "stdout",
     "output_type": "stream",
     "text": [
      "Done.\n"
     ]
    },
    {
     "data": {
      "text/html": [
       "<table>\n",
       "    <tr>\n",
       "        <th>global_max_generation</th>\n",
       "        <th>global_max_heat_input</th>\n",
       "        <th>name</th>\n",
       "        <th>orispl_code</th>\n",
       "        <th>unitid</th>\n",
       "    </tr>\n",
       "    <tr>\n",
       "        <td>132.0</td>\n",
       "        <td>1653.9</td>\n",
       "        <td>Cholla</td>\n",
       "        <td>113</td>\n",
       "        <td>1</td>\n",
       "    </tr>\n",
       "    <tr>\n",
       "        <td>306.0</td>\n",
       "        <td>3616.46</td>\n",
       "        <td>Cholla</td>\n",
       "        <td>113</td>\n",
       "        <td>2</td>\n",
       "    </tr>\n",
       "    <tr>\n",
       "        <td>307.0</td>\n",
       "        <td>8860.4</td>\n",
       "        <td>Cholla</td>\n",
       "        <td>113</td>\n",
       "        <td>3</td>\n",
       "    </tr>\n",
       "    <tr>\n",
       "        <td>436.0</td>\n",
       "        <td>5182.3</td>\n",
       "        <td>Cholla</td>\n",
       "        <td>113</td>\n",
       "        <td>4</td>\n",
       "    </tr>\n",
       "</table>"
      ],
      "text/plain": [
       "[(132.0, 1653.9, u'Cholla', 113, u'1'),\n",
       " (306.0, 3616.46, u'Cholla', 113, u'2'),\n",
       " (307.0, 8860.4, u'Cholla', 113, u'3'),\n",
       " (436.0, 5182.3, u'Cholla', 113, u'4')]"
      ]
     },
     "execution_count": 30,
     "metadata": {},
     "output_type": "execute_result"
    }
   ],
   "source": [
    "%sql select max(CAST(gload as float)) as global_max_generation, max(CAST(heat_input as float)) as global_max_heat_input, name, orispl_code, unitid from data group by name, unitid"
   ]
  },
  {
   "cell_type": "code",
   "execution_count": null,
   "metadata": {
    "collapsed": true
   },
   "outputs": [],
   "source": []
  }
 ],
 "metadata": {
  "kernelspec": {
   "display_name": "Python 2",
   "language": "python",
   "name": "python2"
  },
  "language_info": {
   "codemirror_mode": {
    "name": "ipython",
    "version": 2
   },
   "file_extension": ".py",
   "mimetype": "text/x-python",
   "name": "python",
   "nbconvert_exporter": "python",
   "pygments_lexer": "ipython2",
   "version": "2.7.13"
  }
 },
 "nbformat": 4,
 "nbformat_minor": 2
}
