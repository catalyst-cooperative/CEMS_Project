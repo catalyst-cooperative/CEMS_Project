{
 "cells": [
  {
   "cell_type": "code",
   "execution_count": 1,
   "metadata": {
    "collapsed": true
   },
   "outputs": [],
   "source": [
    "import csv, sqlite3\n",
    "import os.path"
   ]
  },
  {
   "cell_type": "code",
   "execution_count": 2,
   "metadata": {
    "collapsed": true
   },
   "outputs": [],
   "source": [
    "con = sqlite3.connect(\"cems.db\")\n",
    "cur = con.cursor()"
   ]
  },
  {
   "cell_type": "code",
   "execution_count": 4,
   "metadata": {},
   "outputs": [
    {
     "data": {
      "text/plain": [
       "<sqlite3.Cursor at 0x3539f60>"
      ]
     },
     "execution_count": 4,
     "metadata": {},
     "output_type": "execute_result"
    }
   ],
   "source": [
    "cur.execute('drop table if exists labels;')\n",
    "cur.execute(\n",
    "\"create table labels( \\\n",
    "    state varchar, \\\n",
    "    facility_name varchar, \\\n",
    "    orispl_code int, \\\n",
    "    unitid varchar, \\\n",
    "    year int, \\\n",
    "    county varhcar, \\\n",
    "    county_code varchar, \\\n",
    "    latitude float, \\\n",
    "    longitude float, \\\n",
    "    owner varchar, \\\n",
    "    operator varchar, \\\n",
    "    representative_primary varchar, \\\n",
    "    representative_second varchar, \\\n",
    "    unit_type varchar, \\\n",
    "    fuel_type varchar, \\\n",
    "    fule_type_secondary varchar, \\\n",
    "    max_hourly_rate float, \\\n",
    "    PRIMARY KEY(orispl_code, unitid, year) \\\n",
    ");\")"
   ]
  },
  {
   "cell_type": "code",
   "execution_count": 12,
   "metadata": {},
   "outputs": [
    {
     "ename": "OperationalError",
     "evalue": "17 values for 16 columns",
     "output_type": "error",
     "traceback": [
      "\u001b[1;31m---------------------------------------------------------------------------\u001b[0m",
      "\u001b[1;31mOperationalError\u001b[0m                          Traceback (most recent call last)",
      "\u001b[1;32m<ipython-input-12-2015d80cf953>\u001b[0m in \u001b[0;36m<module>\u001b[1;34m()\u001b[0m\n\u001b[0;32m      5\u001b[0m               \u001b[0mi\u001b[0m\u001b[1;33m[\u001b[0m\u001b[1;34m' Representative (Secondary)'\u001b[0m\u001b[1;33m]\u001b[0m\u001b[1;33m,\u001b[0m \u001b[0mi\u001b[0m\u001b[1;33m[\u001b[0m\u001b[1;34m' Unit Type'\u001b[0m\u001b[1;33m]\u001b[0m\u001b[1;33m,\u001b[0m \u001b[0mi\u001b[0m\u001b[1;33m[\u001b[0m\u001b[1;34m' Fuel Type (Primary)'\u001b[0m\u001b[1;33m]\u001b[0m\u001b[1;33m,\u001b[0m \u001b[0mi\u001b[0m\u001b[1;33m[\u001b[0m\u001b[1;34m' Fuel Type (Secondary)'\u001b[0m\u001b[1;33m]\u001b[0m\u001b[1;33m,\u001b[0m\u001b[1;33m\u001b[0m\u001b[0m\n\u001b[0;32m      6\u001b[0m               i[' Max Hourly HI Rate (MMBtu/hr)']) for i in dr]\n\u001b[1;32m----> 7\u001b[1;33m \u001b[0mcur\u001b[0m\u001b[1;33m.\u001b[0m\u001b[0mexecutemany\u001b[0m\u001b[1;33m(\u001b[0m\u001b[1;34m\"insert into labels (    state, facility_name, orispl_code, unitid, year,     county, county_code, latitude, longitude, owner, operator, representative_primary, representative_second,     fuel_type, fule_type_secondary, max_hourly_rate ) VALUES (?, ?, ?, ?, ?, ?, ?, ?, ?, ?, ?, ?, ?, ?, ?, ?, ?);\"\u001b[0m\u001b[1;33m,\u001b[0m \u001b[0mto_db\u001b[0m\u001b[1;33m)\u001b[0m\u001b[1;33m\u001b[0m\u001b[0m\n\u001b[0m\u001b[0;32m      8\u001b[0m \u001b[0mcon\u001b[0m\u001b[1;33m.\u001b[0m\u001b[0mcommit\u001b[0m\u001b[1;33m(\u001b[0m\u001b[1;33m)\u001b[0m\u001b[1;33m\u001b[0m\u001b[0m\n",
      "\u001b[1;31mOperationalError\u001b[0m: 17 values for 16 columns"
     ]
    }
   ],
   "source": [
    "with open('facility_06-23-2017_144111628.csv', 'rb') as fin:\n",
    "    dr = csv.DictReader(fin)\n",
    "    to_db = [(i['State'],  i[' Facility Name'], i[' Facility ID (ORISPL)'], i[' Unit ID'], i[' Year'], i[' County'], i[' County Code'], \n",
    "              i[' Facility Latitude'], i[' Facility Longitude'], i[' Owner'], i[' Operator'], i[' Representative (Primary)'],\n",
    "              i[' Representative (Secondary)'], i[' Unit Type'], i[' Fuel Type (Primary)'], i[' Fuel Type (Secondary)'],\n",
    "              i[' Max Hourly HI Rate (MMBtu/hr)']) for i in dr]\n",
    "cur.executemany(\"insert into labels (    state, facility_name, orispl_code, unitid, year, \\\n",
    "    county, county_code, latitude, longitude, owner, operator, representative_primary, representative_second, \\\n",
    "    fuel_type, fule_type_secondary, max_hourly_rate \\\n",
    ") VALUES (?, ?, ?, ?, ?, ?, ?, ?, ?, ?, ?, ?, ?, ?, ?, ?, ?);\", to_db)\n",
    "con.commit()"
   ]
  },
  {
   "cell_type": "code",
   "execution_count": null,
   "metadata": {
    "collapsed": true
   },
   "outputs": [],
   "source": []
  }
 ],
 "metadata": {
  "kernelspec": {
   "display_name": "Python 2",
   "language": "python",
   "name": "python2"
  },
  "language_info": {
   "codemirror_mode": {
    "name": "ipython",
    "version": 2
   },
   "file_extension": ".py",
   "mimetype": "text/x-python",
   "name": "python",
   "nbconvert_exporter": "python",
   "pygments_lexer": "ipython2",
   "version": "2.7.13"
  }
 },
 "nbformat": 4,
 "nbformat_minor": 2
}
