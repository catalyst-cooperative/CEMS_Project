{
 "cells": [
  {
   "cell_type": "code",
   "execution_count": 11,
   "metadata": {
    "collapsed": true
   },
   "outputs": [],
   "source": [
    "def max_generation(dbname, table = \"data\", output = None):\n",
    "    import sqlite3\n",
    "    import pandas\n",
    "    con = sqlite3.connect(dbname)\n",
    "    cur = con.cursor()\n",
    "    if output is None:\n",
    "        output = dbname[:-3] + \"_max.csv\"\n",
    "    table = pandas.read_sql(\"select max(CAST(gload as float)) as global_max_generation, \\\n",
    "    max(CAST(heat_input as float)) as global_max_heat_input, name, orispl_code, unitid, \\\n",
    "    CASE WHEN (fuel_type is 'Natural Gas' or fuel_type is 'Pipeline Natural Gas' or fuel_type is 'Natural Gas, Pipeline Natural Gas')    THEN ('NG') ELSE (fuel_type) END as fuel_actual \\\n",
    "    from \" + table + \" group by orispl_code, unitid\", con)\n",
    "    table.to_csv(output)"
   ]
  },
  {
   "cell_type": "code",
   "execution_count": 12,
   "metadata": {},
   "outputs": [],
   "source": [
    "# python script to extract global maximum generation and heat input for every unit in a given database\n",
    "max_generation('smaller.db')"
   ]
  },
  {
   "cell_type": "code",
   "execution_count": null,
   "metadata": {
    "collapsed": true
   },
   "outputs": [],
   "source": []
  }
 ],
 "metadata": {
  "kernelspec": {
   "display_name": "Python 2",
   "language": "python",
   "name": "python2"
  },
  "language_info": {
   "codemirror_mode": {
    "name": "ipython",
    "version": 2
   },
   "file_extension": ".py",
   "mimetype": "text/x-python",
   "name": "python",
   "nbconvert_exporter": "python",
   "pygments_lexer": "ipython2",
   "version": "2.7.13"
  }
 },
 "nbformat": 4,
 "nbformat_minor": 2
}
