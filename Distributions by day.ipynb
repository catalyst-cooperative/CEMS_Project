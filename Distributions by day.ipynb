{
 "cells": [
  {
   "cell_type": "code",
   "execution_count": 1,
   "metadata": {
    "collapsed": true
   },
   "outputs": [],
   "source": [
    "import sqlite3\n",
    "import pandas\n",
    "con = sqlite3.connect('coal.db')\n",
    "labels = pandas.read_sql(\"select orispl_code, unitid from data group by orispl_code, unitid\", con)"
   ]
  },
  {
   "cell_type": "code",
   "execution_count": 2,
   "metadata": {
    "collapsed": true
   },
   "outputs": [],
   "source": [
    "import matplotlib.pyplot as plt\n",
    "import numpy as np\n",
    "names = {}\n",
    "for i, row in labels.iterrows():\n",
    "    key = (row['orispl_code'], row['unitid'])\n",
    "    for year in range(2001, 2017):\n",
    "        frame = pandas.read_csv('cf/' + str(row['orispl_code']) + '_' + row['unitid'] + '_' + str(year) + '.csv')\n",
    "        if len(frame.name) is 0: continue\n",
    "        name = frame.name[0]\n",
    "        names[key] = name\n",
    "#         plt.gcf().clear()\n",
    "#         data = frame.capacity_factor\n",
    "#         plt.hist(data, bins=np.linspace(0, 1, 10))\n",
    "#         plt.xlabel('Capacity factor - hourly generation / max hourly generation')\n",
    "#         plt.ylabel('Frequency')\n",
    "#         plt.title('Capacity Factors at ' + name + ', unit ' + row['unitid'] + ' in ' + str(year))\n",
    "#         plt.savefig('cf/' + str(row['orispl_code']) + '_' + row['unitid'] + '_' + str(year) + '.png')"
   ]
  },
  {
   "cell_type": "code",
   "execution_count": 13,
   "metadata": {},
   "outputs": [],
   "source": [
    "data = {}\n",
    "for i, row in labels.iterrows():\n",
    "    key = (names[(row['orispl_code'], row['unitid'])], row['unitid'])\n",
    "    data[key] = {}\n",
    "    for year in range(2001, 2017):\n",
    "        data[key][year] = []\n",
    "        frame = pandas.read_csv('cf/' + str(row['orispl_code']) + '_' + row['unitid'] + '_' + str(year) + '.csv')\n",
    "        cfs = frame.capacity_factor\n",
    "        dates = frame.op_date.unique()\n",
    "        for date in dates:\n",
    "            col = cfs[(frame.op_date == date)]\n",
    "            if len(col) is 0: continue\n",
    "            data[key][year].append((np.average(col), np.std(col), np.std(col/np.average(col)), len(col), col))\n",
    "#         col = col[(col != 0)] This line removes nonzero values from all columns"
   ]
  },
  {
   "cell_type": "code",
   "execution_count": 32,
   "metadata": {},
   "outputs": [],
   "source": [
    "import math\n",
    "import scipy.stats as stats\n",
    "def compare_years(year1, year2, alpha = .05):\n",
    "    ttests = []\n",
    "    passes_t = []\n",
    "    ftests = []\n",
    "    passes_f = []\n",
    "    passes_list = []\n",
    "    for unit in data:\n",
    "        disregard = False\n",
    "        if year1 not in data[unit]:\n",
    "            disregard = True\n",
    "        if year2 not in data[unit]:\n",
    "            disregard = True\n",
    "        if disregard: continue\n",
    "        \n",
    "        min_year =  data[unit][year1]\n",
    "        max_year = data[unit][year2]    \n",
    "        \n",
    "        averages_min = []\n",
    "        stds_min = []\n",
    "        for day in min_year:\n",
    "            averages_min.append(day[0])\n",
    "            stds_min.append(day[1])\n",
    "        averages_max = []\n",
    "        stds_max = []\n",
    "        for day in max_year:\n",
    "            averages_max.append(day[0])\n",
    "            stds_max.append(day[1])\n",
    "        mean_ttest = stats.ttest_ind(averages_max, averages_min, equal_var=False).pvalue\n",
    "        std_ttest = stats.ttest_ind(stds_max, stds_min, equal_var=False).pvalue\n",
    "        \n",
    "#         plt.gcf().clear()\n",
    "#         plt.hist(stds_min, bins=np.linspace(0, 1, 20))\n",
    "#         plt.xlabel('Std of hourly capacity factor over a day')\n",
    "#         plt.ylabel('Frequency')\n",
    "#         plt.title('Standard Deviation of Capacity Factor at ' + str(unit) + ' in ' + str(year1))\n",
    "#         plt.show()\n",
    "#         plt.gcf().clear()\n",
    "#         plt.hist(stds_max, bins=np.linspace(0, 1, 20))\n",
    "#         plt.xlabel('Std of hourly capacity factor over a day')\n",
    "#         plt.ylabel('Frequency')\n",
    "#         plt.title('Standard Deviation of Capacity Factor at ' + str(unit) + ' in ' + str(year2))\n",
    "#         plt.show()\n",
    "#         break\n",
    "\n",
    "\n",
    "        if math.isnan(mean_ttest) or math.isnan(std_ttest):\n",
    "            continue\n",
    "        passes_t.append(mean_ttest >= alpha)\n",
    "        ttests.append(mean_ttest)\n",
    "        passes_f.append(std_ttest >= alpha)\n",
    "        if (std_ttest >= alpha): passes_list.append(unit)\n",
    "        ftests.append(std_ttest)\n",
    "#     print ttests    \n",
    "        \n",
    "    plt.gcf().clear()\n",
    "    plt.hist(ttests, bins=np.linspace(0, 1, 20))\n",
    "    plt.xlabel('P value from t test')\n",
    "    plt.ylabel('Frequency')\n",
    "    plt.title('P value from t test between years ' + str(year1) + \" and \" + str(year2))\n",
    "    plt.show()\n",
    "    \n",
    "    plt.gcf().clear()\n",
    "    plt.hist(passes_t)\n",
    "    plt.title('P value from t test >= ' + str(alpha))\n",
    "    plt.ylabel('Frequency')\n",
    "    plt.xlabel('True (1) or False (0)')\n",
    "    plt.show()\n",
    "        \n",
    "    plt.gcf().clear()\n",
    "    plt.hist(ftests, bins=np.linspace(0, 1, 20))\n",
    "    plt.xlabel('P value from f test')\n",
    "    plt.ylabel('Frequency')\n",
    "    plt.title('P value from f test between years ' + str(year1) + \" and \" + str(year2))\n",
    "    plt.show()\n",
    "        \n",
    "    plt.gcf().clear()\n",
    "    plt.hist(passes_f)\n",
    "    plt.title('P value from f test >= ' + str(alpha))\n",
    "    plt.ylabel('Frequency')\n",
    "    plt.xlabel('True (1) or False (0)')\n",
    "    plt.show()\n",
    "    \n",
    "    print passes_list\n",
    "\n",
    "        \n",
    "# compare_years(2001, 2011)"
   ]
  },
  {
   "cell_type": "code",
   "execution_count": 38,
   "metadata": {},
   "outputs": [
    {
     "data": {
      "image/png": "[encoded data removed]",
      "text/plain": [
       "<matplotlib.figure.Figure at 0x55d77830>"
      ]
     },
     "metadata": {},
     "output_type": "display_data"
    },
    {
     "data": {
      "image/png": "[encoded data removed]",
      "text/plain": [
       "<matplotlib.figure.Figure at 0x56e7a590>"
      ]
     },
     "metadata": {},
     "output_type": "display_data"
    },
    {
     "data": {
      "image/png": "[encoded data removed]",
      "text/plain": [
       "<matplotlib.figure.Figure at 0x5734d790>"
      ]
     },
     "metadata": {},
     "output_type": "display_data"
    },
    {
     "data": {
      "image/png": "[encoded data removed]",
      "text/plain": [
       "<matplotlib.figure.Figure at 0x573aaa50>"
      ]
     },
     "metadata": {},
     "output_type": "display_data"
    },
    {
     "name": "stdout",
     "output_type": "stream",
     "text": [
      "[('Arapahoe', u'3'), ('Dave Johnston', u'BW44'), ('Jim Bridger', u'BW72'), ('San Juan', u'2'), ('Jim Bridger', u'BW74'), ('Four Corners Steam Elec Station', u'3'), ('Martin Drake', u'5'), ('Comanche (470)', u'1'), ('Four Corners Steam Elec Station', u'1'), ('Rawhide Energy Station', u'101'), ('Coronado Generating Station', u'U1B'), ('Centralia', u'BW22'), ('Springerville Generating Station', u'2'), ('Jim Bridger', u'BW71'), ('Cholla', u'4'), ('Cherokee', u'3'), ('Coronado Generating Station', u'U2B'), ('Four Corners Steam Elec Station', u'2'), ('Nucla', u'1'), ('Naughton', u'1'), ('Centralia', u'BW21'), ('Dave Johnston', u'BW43'), ('Ray D Nixon', u'1'), ('Neil Simpson II', u'001'), ('Reid Gardner', u'1'), ('Naughton', u'3')]\n"
     ]
    }
   ],
   "source": [
    "compare_years(2001, 2012, .0001)"
   ]
  },
  {
   "cell_type": "code",
   "execution_count": null,
   "metadata": {
    "collapsed": true
   },
   "outputs": [],
   "source": []
  }
 ],
 "metadata": {
  "kernelspec": {
   "display_name": "Python 2",
   "language": "python",
   "name": "python2"
  },
  "language_info": {
   "codemirror_mode": {
    "name": "ipython",
    "version": 2
   },
   "file_extension": ".py",
   "mimetype": "text/x-python",
   "name": "python",
   "nbconvert_exporter": "python",
   "pygments_lexer": "ipython2",
   "version": "2.7.13"
  }
 },
 "nbformat": 4,
 "nbformat_minor": 2
}
