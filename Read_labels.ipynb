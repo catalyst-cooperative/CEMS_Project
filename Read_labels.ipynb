{
 "cells": [
  {
   "cell_type": "code",
   "execution_count": 1,
   "metadata": {
    "collapsed": true
   },
   "outputs": [],
   "source": [
    "import csv, sqlite3\n",
    "import os.path"
   ]
  },
  {
   "cell_type": "code",
   "execution_count": 2,
   "metadata": {
    "collapsed": true
   },
   "outputs": [],
   "source": [
    "con = sqlite3.connect(\"labels.db\")\n",
    "cur = con.cursor()"
   ]
  },
  {
   "cell_type": "code",
   "execution_count": 3,
   "metadata": {},
   "outputs": [
    {
     "data": {
      "text/plain": [
       "<sqlite3.Cursor at 0x3851ea0>"
      ]
     },
     "execution_count": 3,
     "metadata": {},
     "output_type": "execute_result"
    }
   ],
   "source": [
    "cur.execute('drop table if exists labels;')\n",
    "cur.execute(\n",
    "\"create table labels( \\\n",
    "    state varchar, \\\n",
    "    facility_name varchar, \\\n",
    "    orispl_code int, \\\n",
    "    unitid varchar, \\\n",
    "    year int, \\\n",
    "    county varhcar, \\\n",
    "    latitude float, \\\n",
    "    longitude float, \\\n",
    "    fuel_type varchar, \\\n",
    "    fule_type_secondary varchar \\\n",
    ");\")"
   ]
  },
  {
   "cell_type": "code",
   "execution_count": 4,
   "metadata": {
    "collapsed": true
   },
   "outputs": [],
   "source": [
    "with open('facility_06-23-2017_144111628.csv', 'rb') as fin:\n",
    "    dr = csv.DictReader(fin)\n",
    "    to_db = [(i['State'],  i[' Facility Name'], i[' Facility ID (ORISPL)'], i[' Unit ID'], i[' Year'], i[' County'],  \n",
    "              i[' Facility Latitude'], i[' Facility Longitude'], i[' Fuel Type (Primary)'], i[' Fuel Type (Secondary)']) for i in dr]\n",
    "cur.executemany(\"insert into labels (    state, facility_name, orispl_code, unitid, year, \\\n",
    "    county, latitude, longitude, fuel_type, fule_type_secondary \\\n",
    ") VALUES (?, ?, ?, ?, ?, ?, ?, ?, ?, ?);\", to_db)\n",
    "con.commit()"
   ]
  },
  {
   "cell_type": "code",
   "execution_count": 10,
   "metadata": {},
   "outputs": [
    {
     "name": "stdout",
     "output_type": "stream",
     "text": [
      "The sql extension is already loaded. To reload it, use:\n",
      "  %reload_ext sql\n"
     ]
    },
    {
     "data": {
      "text/plain": [
       "u'Connected: None@labels.db'"
      ]
     },
     "execution_count": 10,
     "metadata": {},
     "output_type": "execute_result"
    }
   ],
   "source": [
    "%load_ext sql\n",
    "%sql sqlite:///labels.db"
   ]
  },
  {
   "cell_type": "code",
   "execution_count": 11,
   "metadata": {},
   "outputs": [
    {
     "name": "stdout",
     "output_type": "stream",
     "text": [
      "Done.\n"
     ]
    },
    {
     "data": {
      "text/html": [
       "<table>\n",
       "    <tr>\n",
       "        <th>state</th>\n",
       "        <th>facility_name</th>\n",
       "        <th>orispl_code</th>\n",
       "        <th>unitid</th>\n",
       "        <th>year</th>\n",
       "        <th>county</th>\n",
       "        <th>latitude</th>\n",
       "        <th>longitude</th>\n",
       "        <th>fuel_type</th>\n",
       "        <th>fule_type_secondary</th>\n",
       "    </tr>\n",
       "    <tr>\n",
       "        <td>AK</td>\n",
       "        <td>Healy Power Plant</td>\n",
       "        <td>6288</td>\n",
       "        <td>1</td>\n",
       "        <td>2015</td>\n",
       "        <td>Denali (B)</td>\n",
       "        <td>63.8542</td>\n",
       "        <td>-148.95</td>\n",
       "        <td>Coal</td>\n",
       "        <td></td>\n",
       "    </tr>\n",
       "    <tr>\n",
       "        <td>AK</td>\n",
       "        <td>Healy Power Plant</td>\n",
       "        <td>6288</td>\n",
       "        <td>1</td>\n",
       "        <td>2016</td>\n",
       "        <td>Denali (B)</td>\n",
       "        <td>63.8542</td>\n",
       "        <td>-148.95</td>\n",
       "        <td>Coal</td>\n",
       "        <td></td>\n",
       "    </tr>\n",
       "    <tr>\n",
       "        <td>AK</td>\n",
       "        <td>Healy Power Plant</td>\n",
       "        <td>6288</td>\n",
       "        <td>2</td>\n",
       "        <td>2015</td>\n",
       "        <td>Denali (B)</td>\n",
       "        <td>63.8542</td>\n",
       "        <td>-148.95</td>\n",
       "        <td></td>\n",
       "        <td></td>\n",
       "    </tr>\n",
       "    <tr>\n",
       "        <td>AK</td>\n",
       "        <td>Healy Power Plant</td>\n",
       "        <td>6288</td>\n",
       "        <td>2</td>\n",
       "        <td>2016</td>\n",
       "        <td>Denali (B)</td>\n",
       "        <td>63.8542</td>\n",
       "        <td>-148.95</td>\n",
       "        <td></td>\n",
       "        <td></td>\n",
       "    </tr>\n",
       "    <tr>\n",
       "        <td>AL</td>\n",
       "        <td>AMEA Sylacauga Plant</td>\n",
       "        <td>56018</td>\n",
       "        <td>1</td>\n",
       "        <td>2004</td>\n",
       "        <td>Talladega</td>\n",
       "        <td>33.1661</td>\n",
       "        <td>-86.2825</td>\n",
       "        <td>Pipeline Natural Gas</td>\n",
       "        <td></td>\n",
       "    </tr>\n",
       "</table>"
      ],
      "text/plain": [
       "[(u'AK', u'Healy Power Plant', 6288, u'1', 2015, u'Denali (B)', 63.8542, -148.95, u'Coal', u''),\n",
       " (u'AK', u'Healy Power Plant', 6288, u'1', 2016, u'Denali (B)', 63.8542, -148.95, u'Coal', u''),\n",
       " (u'AK', u'Healy Power Plant', 6288, u'2', 2015, u'Denali (B)', 63.8542, -148.95, u'', u''),\n",
       " (u'AK', u'Healy Power Plant', 6288, u'2', 2016, u'Denali (B)', 63.8542, -148.95, u'', u''),\n",
       " (u'AL', u'AMEA Sylacauga Plant', 56018, u'1', 2004, u'Talladega', 33.1661, -86.2825, u'Pipeline Natural Gas', u'')]"
      ]
     },
     "execution_count": 11,
     "metadata": {},
     "output_type": "execute_result"
    }
   ],
   "source": [
    "%sql select * from labels limit 5"
   ]
  },
  {
   "cell_type": "code",
   "execution_count": null,
   "metadata": {
    "collapsed": true
   },
   "outputs": [],
   "source": []
  }
 ],
 "metadata": {
  "kernelspec": {
   "display_name": "Python 2",
   "language": "python",
   "name": "python2"
  },
  "language_info": {
   "codemirror_mode": {
    "name": "ipython",
    "version": 2
   },
   "file_extension": ".py",
   "mimetype": "text/x-python",
   "name": "python",
   "nbconvert_exporter": "python",
   "pygments_lexer": "ipython2",
   "version": "2.7.13"
  }
 },
 "nbformat": 4,
 "nbformat_minor": 2
}
