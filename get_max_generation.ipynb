{
 "cells": [
  {
   "cell_type": "code",
   "execution_count": 43,
   "metadata": {
    "collapsed": true
   },
   "outputs": [],
   "source": [
    "def max_generation(dbname, table = \"data\"):\n",
    "    import sqlite3\n",
    "    import pandas\n",
    "    con = sqlite3.connect(dbname)\n",
    "    cur = con.cursor()\n",
    "    output = dbname[:-3] + \"_max_generation.csv\"\n",
    "    out_table = pandas.read_sql(\"select max_gen as global_max_generation, op_date, op_hour, \\\n",
    "    name, m.orispl_code, m.unitid, \\\n",
    "    CASE WHEN (fuel_type is 'Natural Gas' or fuel_type is 'Pipeline Natural Gas' or fuel_type is 'Natural Gas, Pipeline Natural Gas')    THEN ('NG') ELSE (fuel_type) END as fuel_actual \\\n",
    "    from ( SELECT orispl_code, unitid, MAX(CAST(gload as float)) as max_gen from \" + table + \" Group by orispl_code, unitid) as m \\\n",
    "    , \" + table + \" as t WHERE \\\n",
    "    t.unitid = m.unitid AND t.orispl_code = m.orispl_code AND CAST(t.gload as float) = max_gen\", con)\n",
    "    out_table.to_csv(output)\n",
    "    output = dbname[:-3] + \"_max_heat_in.csv\"\n",
    "    out_table = pandas.read_sql(\"select max_heat as global_max_heat_input, op_date, op_hour, \\\n",
    "    name, m.orispl_code, m.unitid, \\\n",
    "    CASE WHEN (fuel_type is 'Natural Gas' or fuel_type is 'Pipeline Natural Gas' or fuel_type is 'Natural Gas, Pipeline Natural Gas')    THEN ('NG') ELSE (fuel_type) END as fuel_actual \\\n",
    "    from ( SELECT orispl_code, unitid, MAX(CAST(heat_input as float)) as max_heat from \" + table + \" Group by orispl_code, unitid) as m \\\n",
    "    , \" + table + \" as t WHERE \\\n",
    "    t.unitid = m.unitid AND t.orispl_code = m.orispl_code AND CAST(t.heat_input as float) = max_heat\", con)\n",
    "    out_table.to_csv(output)\n"
   ]
  },
  {
   "cell_type": "code",
   "execution_count": 44,
   "metadata": {
    "scrolled": true
   },
   "outputs": [],
   "source": [
    "# python script to extract global maximum generation and heat input for every unit in a given database\n",
    "max_generation('smaller.db')"
   ]
  },
  {
   "cell_type": "code",
   "execution_count": null,
   "metadata": {
    "collapsed": true
   },
   "outputs": [],
   "source": []
  }
 ],
 "metadata": {
  "kernelspec": {
   "display_name": "Python 2",
   "language": "python",
   "name": "python2"
  },
  "language_info": {
   "codemirror_mode": {
    "name": "ipython",
    "version": 2
   },
   "file_extension": ".py",
   "mimetype": "text/x-python",
   "name": "python",
   "nbconvert_exporter": "python",
   "pygments_lexer": "ipython2",
   "version": "2.7.13"
  }
 },
 "nbformat": 4,
 "nbformat_minor": 2
}
