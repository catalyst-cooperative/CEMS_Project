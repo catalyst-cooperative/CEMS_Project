{
 "cells": [
  {
   "cell_type": "code",
   "execution_count": 4,
   "metadata": {
    "collapsed": true
   },
   "outputs": [],
   "source": [
    "from multiprocessing.dummy import Pool as ThreadPool\n",
    "from ftplib import FTP\n",
    "import os.path"
   ]
  },
  {
   "cell_type": "code",
   "execution_count": 5,
   "metadata": {},
   "outputs": [
    {
     "name": "stdout",
     "output_type": "stream",
     "text": [
      "['1995', '1996', '1997', '1998', '1999', '2000', '2001', '2002', '2003', '2004', '2005', '2006', '2007', '2008', '2009', '2010', '2011', '2012', '2013', '2014', '2015', '2016', '2017']\n"
     ]
    }
   ],
   "source": [
    "ftp = FTP('ftp.epa.gov', timeout=60)\n",
    "ftp.login()\n",
    "ftp.cwd('dmdnload')\n",
    "ftp.cwd('emissions')\n",
    "ftp.cwd('hourly')\n",
    "ftp.cwd('monthly')\n",
    "years = []\n",
    "ftp.retrlines('NLST', years.append)\n",
    "print(years)\n",
    "parent_directory = ftp.pwd()"
   ]
  },
  {
   "cell_type": "code",
   "execution_count": null,
   "metadata": {},
   "outputs": [
    {
     "name": "stdout",
     "output_type": "stream",
     "text": [
      "2001al01.zip failed\n"
     ]
    }
   ],
   "source": [
    "ftp.cwd(parent_directory)\n",
    "if not os.path.exists('data'):\n",
    "    os.makedirs('data')\n",
    "visited = []\n",
    "with open(\"successes.txt\", \"r\") as file:\n",
    "    for line in file:\n",
    "        visited.append(line[:-1])\n",
    "for year in range(2001,2017):\n",
    "    ftp.cwd(str(year))\n",
    "    files = []\n",
    "    ftp.retrlines('NLST', files.append)\n",
    "    def zip_fetch(n):\n",
    "        entry = files[n]\n",
    "        if entry in visited:\n",
    "            return\n",
    "        try:\n",
    "            outfile = open('data/' + entry, 'wb')\n",
    "            ftp.retrbinary('RETR ' + entry, outfile.write)\n",
    "            outfile.close()\n",
    "            print(entry + \" succeeded\")\n",
    "            return entry\n",
    "        except:\n",
    "            print(entry + \" failed\")\n",
    "            return\n",
    "    pool = ThreadPool(3)\n",
    "    results = pool.map(zip_fetch, range(len(files)))\n",
    "    pool.close()\n",
    "    pool.join()\n",
    "    for result in results:\n",
    "        with open(\"successes.txt\", 'a+') as outfile:\n",
    "            if result is not None:\n",
    "                outfile.writelines(result + '\\n')\n",
    "    ftp.cwd('..')"
   ]
  },
  {
   "cell_type": "code",
   "execution_count": 2,
   "metadata": {},
   "outputs": [
    {
     "name": "stdout",
     "output_type": "stream",
     "text": [
      "[2001, 2002, 2003, 2004, 2005, 2006, 2007, 2008, 2009, 2010, 2011, 2012, 2013, 2014, 2015, 2016]\n"
     ]
    }
   ],
   "source": []
  },
  {
   "cell_type": "code",
   "execution_count": 3,
   "metadata": {},
   "outputs": [
    {
     "data": {
      "text/plain": [
       "'2001'"
      ]
     },
     "execution_count": 3,
     "metadata": {},
     "output_type": "execute_result"
    }
   ],
   "source": [
    "str(2001\n",
    ")"
   ]
  },
  {
   "cell_type": "code",
   "execution_count": null,
   "metadata": {
    "collapsed": true
   },
   "outputs": [],
   "source": []
  }
 ],
 "metadata": {
  "kernelspec": {
   "display_name": "Python 2",
   "language": "python",
   "name": "python2"
  },
  "language_info": {
   "codemirror_mode": {
    "name": "ipython",
    "version": 2
   },
   "file_extension": ".py",
   "mimetype": "text/x-python",
   "name": "python",
   "nbconvert_exporter": "python",
   "pygments_lexer": "ipython2",
   "version": "2.7.13"
  }
 },
 "nbformat": 4,
 "nbformat_minor": 2
}
