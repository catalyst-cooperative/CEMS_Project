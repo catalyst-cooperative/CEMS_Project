{
 "cells": [
  {
   "cell_type": "code",
   "execution_count": 3,
   "metadata": {},
   "outputs": [
    {
     "data": {
      "text/plain": [
       "'Connected: None@None'"
      ]
     },
     "execution_count": 3,
     "metadata": {},
     "output_type": "execute_result"
    }
   ],
   "source": [
    "%load_ext sql"
   ]
  },
  {
   "cell_type": "code",
   "execution_count": 1,
   "metadata": {
    "collapsed": true
   },
   "outputs": [],
   "source": [
    "import csv, sqlite3\n",
    "import os.path"
   ]
  },
  {
   "cell_type": "code",
   "execution_count": 7,
   "metadata": {
    "collapsed": true
   },
   "outputs": [],
   "source": [
    "con = sqlite3.connect(\"cems.db\")\n",
    "cur = con.cursor()"
   ]
  },
  {
   "cell_type": "code",
   "execution_count": 8,
   "metadata": {},
   "outputs": [
    {
     "data": {
      "text/plain": [
       "<sqlite3.Cursor at 0x9d47d20>"
      ]
     },
     "execution_count": 8,
     "metadata": {},
     "output_type": "execute_result"
    }
   ],
   "source": [
    "# Set up table to receive CEMS data\n",
    "cur.execute('drop table if exists test;')\n",
    "cur.execute(\n",
    "\"create table test( \\\n",
    "    state varchar, \\\n",
    "    facility_name varchar, \\\n",
    "    orispl_code int, \\\n",
    "    unitid varchar, \\\n",
    "    op_date date, \\\n",
    "    op_hour int, \\\n",
    "    op_time float, \\\n",
    "    gload float, \\\n",
    "    SO2_MASS float, \\\n",
    "    NOX_MASS float, \\\n",
    "    CO2_MASS float, \\\n",
    "    HEAT_INPUT float \\\n",
    ");\")"
   ]
  },
  {
   "cell_type": "code",
   "execution_count": 14,
   "metadata": {},
   "outputs": [
    {
     "name": "stdout",
     "output_type": "stream",
     "text": [
      "2001\n",
      "2002\n",
      "2003\n",
      "2004\n",
      "2005\n",
      "2006\n",
      "2007\n",
      "2008\n",
      "2009\n",
      "2010\n",
      "2011\n",
      "2012\n",
      "2013\n",
      "2014\n",
      "2015\n",
      "2016\n",
      "2017\n"
     ]
    }
   ],
   "source": [
    "# Iterate through files to read data into database\n",
    "for year in range(2001, 2018):\n",
    "    print(year)\n",
    "    for n_month in range(1, 13):\n",
    "        for state in ['wa', 'or', 'ca', 'id', 'nv', 'ut', 'az', 'nm', 'co', 'wy', 'mt', 'tx']:\n",
    "            month = str(n_month) if n_month > 9 else \"0\" + str(n_month)\n",
    "            name = \"unzipped/\" + str(year) + state + month + \".csv\"\n",
    "            if os.path.isfile(name):\n",
    "                with open(name, 'rb') as fin:\n",
    "                    dr = csv.DictReader(fin)\n",
    "                    try:\n",
    "                        to_db = [(i['STATE'], i['FACILITY_NAME'], i['ORISPL_CODE'], i['UNITID'], i['OP_DATE'], i['OP_HOUR'], i['OP_TIME'], i['GLOAD (MW)'], \n",
    "                                  i['SO2_MASS (lbs)'], i['NOX_MASS (lbs)'], i['CO2_MASS (tons)'], i['HEAT_INPUT (mmBtu)']) for i in dr]\n",
    "                    except:\n",
    "                        try:\n",
    "                            to_db = [(i['STATE'], i['FACILITY_NAME'], i['ORISPL_CODE'], i['UNITID'], i['OP_DATE'], i['OP_HOUR'], i['OP_TIME'], i['GLOAD'], \n",
    "                                  i['SO2_MASS'], i['NOX_MASS'], i['CO2_MASS'], i['HEAT_INPUT']) for i in dr]\n",
    "                        except:\n",
    "                            print(name)\n",
    "#                     print to_db\n",
    "                    cur.executemany(\"insert into test (STATE, FACILITY_NAME, ORISPL_CODE, UNITID, OP_DATE, \\\n",
    "OP_HOUR, OP_TIME, GLOAD, SO2_MASS, NOX_MASS, CO2_MASS, HEAT_INPUT ) VALUES (?, ?, ?, ?, ?, ?, ?, ?, ?, ?, ?, ?);\", to_db)\n",
    "\n",
    "con.commit()"
   ]
  },
  {
   "cell_type": "code",
   "execution_count": 16,
   "metadata": {},
   "outputs": [
    {
     "name": "stdout",
     "output_type": "stream",
     "text": [
      "Done.\n"
     ]
    },
    {
     "data": {
      "text/html": [
       "<table>\n",
       "    <tr>\n",
       "        <th>state</th>\n",
       "        <th>facility_name</th>\n",
       "        <th>orispl_code</th>\n",
       "        <th>unitid</th>\n",
       "        <th>op_date</th>\n",
       "        <th>op_hour</th>\n",
       "        <th>op_time</th>\n",
       "        <th>gload</th>\n",
       "        <th>SO2_MASS</th>\n",
       "        <th>NOX_MASS</th>\n",
       "        <th>CO2_MASS</th>\n",
       "        <th>HEAT_INPUT</th>\n",
       "    </tr>\n",
       "    <tr>\n",
       "        <td>WA</td>\n",
       "        <td>Centralia</td>\n",
       "        <td>3845</td>\n",
       "        <td>BW21</td>\n",
       "        <td>01-01-2001</td>\n",
       "        <td>0</td>\n",
       "        <td>1.0</td>\n",
       "        <td>704.0</td>\n",
       "        <td>11493.6</td>\n",
       "        <td>2506.854</td>\n",
       "        <td>720.5</td>\n",
       "        <td>7022.0</td>\n",
       "    </tr>\n",
       "    <tr>\n",
       "        <td>WA</td>\n",
       "        <td>Centralia</td>\n",
       "        <td>3845</td>\n",
       "        <td>BW21</td>\n",
       "        <td>01-01-2001</td>\n",
       "        <td>1</td>\n",
       "        <td>1.0</td>\n",
       "        <td>706.0</td>\n",
       "        <td>11774.7</td>\n",
       "        <td>2577.369</td>\n",
       "        <td>736.6</td>\n",
       "        <td>7179.3</td>\n",
       "    </tr>\n",
       "    <tr>\n",
       "        <td>WA</td>\n",
       "        <td>Centralia</td>\n",
       "        <td>3845</td>\n",
       "        <td>BW21</td>\n",
       "        <td>01-01-2001</td>\n",
       "        <td>2</td>\n",
       "        <td>1.0</td>\n",
       "        <td>704.0</td>\n",
       "        <td>11156.9</td>\n",
       "        <td>2606.306</td>\n",
       "        <td>718.8</td>\n",
       "        <td>7006.2</td>\n",
       "    </tr>\n",
       "    <tr>\n",
       "        <td>WA</td>\n",
       "        <td>Centralia</td>\n",
       "        <td>3845</td>\n",
       "        <td>BW21</td>\n",
       "        <td>01-01-2001</td>\n",
       "        <td>3</td>\n",
       "        <td>1.0</td>\n",
       "        <td>702.0</td>\n",
       "        <td>10990.0</td>\n",
       "        <td>2561.697</td>\n",
       "        <td>716.2</td>\n",
       "        <td>6980.1</td>\n",
       "    </tr>\n",
       "    <tr>\n",
       "        <td>WA</td>\n",
       "        <td>Centralia</td>\n",
       "        <td>3845</td>\n",
       "        <td>BW21</td>\n",
       "        <td>01-01-2001</td>\n",
       "        <td>4</td>\n",
       "        <td>1.0</td>\n",
       "        <td>702.0</td>\n",
       "        <td>11027.6</td>\n",
       "        <td>2631.762</td>\n",
       "        <td>716.2</td>\n",
       "        <td>6980.8</td>\n",
       "    </tr>\n",
       "</table>"
      ],
      "text/plain": [
       "[(u'WA', u'Centralia', 3845, u'BW21', u'01-01-2001', 0, 1.0, 704.0, 11493.6, 2506.854, 720.5, 7022.0),\n",
       " (u'WA', u'Centralia', 3845, u'BW21', u'01-01-2001', 1, 1.0, 706.0, 11774.7, 2577.369, 736.6, 7179.3),\n",
       " (u'WA', u'Centralia', 3845, u'BW21', u'01-01-2001', 2, 1.0, 704.0, 11156.9, 2606.306, 718.8, 7006.2),\n",
       " (u'WA', u'Centralia', 3845, u'BW21', u'01-01-2001', 3, 1.0, 702.0, 10990.0, 2561.697, 716.2, 6980.1),\n",
       " (u'WA', u'Centralia', 3845, u'BW21', u'01-01-2001', 4, 1.0, 702.0, 11027.6, 2631.762, 716.2, 6980.8)]"
      ]
     },
     "execution_count": 16,
     "metadata": {},
     "output_type": "execute_result"
    }
   ],
   "source": [
    "%sql sqlite:///cems.db\n",
    "%sql select * from test limit 5"
   ]
  },
  {
   "cell_type": "code",
   "execution_count": null,
   "metadata": {
    "collapsed": true
   },
   "outputs": [],
   "source": []
  }
 ],
 "metadata": {
  "kernelspec": {
   "display_name": "Python 2",
   "language": "python",
   "name": "python2"
  },
  "language_info": {
   "codemirror_mode": {
    "name": "ipython",
    "version": 2
   },
   "file_extension": ".py",
   "mimetype": "text/x-python",
   "name": "python",
   "nbconvert_exporter": "python",
   "pygments_lexer": "ipython2",
   "version": "2.7.13"
  }
 },
 "nbformat": 4,
 "nbformat_minor": 2
}
