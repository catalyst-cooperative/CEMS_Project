{
 "cells": [
  {
   "cell_type": "code",
   "execution_count": 1,
   "metadata": {
    "collapsed": true
   },
   "outputs": [],
   "source": [
    "x = [[698.1612903,602.2580645,535.1612903,515.9677419,507.2258065,513.8709677,608,716,732.9354839,646.483871,522.5483871,494.7419355,484.516129,483.2258065,490.5806452,515.7741935,618.0322581,770.6129032,857.3870968,853.4193548,848.3548387,843.0322581,824.516129,784.7096774], \n",
    "     [686.9032258,588.8387097,524.483871,507.483871,500.0645161,505.7096774,599.9677419,706,722.1290323,636.5483871,536,509.2258065,497.3225806,486.2903226,485.0322581,513.0322581,616.9677419,770.8387097,857.5483871,849.8064516,843.516129,834.0967742,812.3548387,774.2258065], 24*[774]]"
   ]
  },
  {
   "cell_type": "code",
   "execution_count": 2,
   "metadata": {
    "collapsed": true
   },
   "outputs": [],
   "source": [
    "y = [1, 1, 0]"
   ]
  },
  {
   "cell_type": "code",
   "execution_count": 13,
   "metadata": {},
   "outputs": [
    {
     "name": "stdout",
     "output_type": "stream",
     "text": [
      "[[ 0.21628697  0.18657662  0.16579037  0.1598443   0.15713609  0.15919473\n",
      "   0.18835544  0.22181332  0.22705985  0.20027756  0.16188295  0.15326865\n",
      "   0.15010074  0.14970101  0.1519795   0.15978434  0.19146339  0.23873213\n",
      "   0.26561435  0.26438517  0.26281621  0.2611673   0.25543109  0.24309924]\n",
      " [ 0.21434438  0.18374389  0.16366231  0.15835755  0.15604239  0.15780393\n",
      "   0.18721664  0.22030342  0.2253364   0.19863143  0.16725586  0.15890112\n",
      "   0.15518678  0.15174422  0.15135165  0.1600889   0.1925214   0.24053599\n",
      "   0.26759326  0.26517744  0.26321458  0.26027532  0.25349087  0.24159291]\n",
      " [ 0.20412415  0.20412415  0.20412415  0.20412415  0.20412415  0.20412415\n",
      "   0.20412415  0.20412415  0.20412415  0.20412415  0.20412415  0.20412415\n",
      "   0.20412415  0.20412415  0.20412415  0.20412415  0.20412415  0.20412415\n",
      "   0.20412415  0.20412415  0.20412415  0.20412415  0.20412415  0.20412415]]\n"
     ]
    }
   ],
   "source": [
    "from sklearn.preprocessing import normalize\n",
    "x_norm = normalize(x)\n",
    "print x_norm"
   ]
  },
  {
   "cell_type": "code",
   "execution_count": 14,
   "metadata": {},
   "outputs": [
    {
     "data": {
      "text/plain": [
       "SVC(C=1.0, cache_size=200, class_weight=None, coef0=0.0,\n",
       "  decision_function_shape=None, degree=3, gamma='auto', kernel='rbf',\n",
       "  max_iter=-1, probability=False, random_state=None, shrinking=True,\n",
       "  tol=0.001, verbose=False)"
      ]
     },
     "execution_count": 14,
     "metadata": {},
     "output_type": "execute_result"
    }
   ],
   "source": [
    "from sklearn import svm\n",
    "clf = svm.SVC()\n",
    "clf.fit(x_norm, y)\n"
   ]
  },
  {
   "cell_type": "code",
   "execution_count": 15,
   "metadata": {},
   "outputs": [
    {
     "data": {
      "text/plain": [
       "array([1, 1, 1])"
      ]
     },
     "execution_count": 15,
     "metadata": {},
     "output_type": "execute_result"
    }
   ],
   "source": [
    "clf.predict(normalize([[\n",
    "    6366.129032,\n",
    "5492.590323,\n",
    "4975.387097,\n",
    "4851.66129,\n",
    "4780.245161,\n",
    "4866.445161,\n",
    "5798.525806,\n",
    "6693.770968,\n",
    "6754.951613,\n",
    "5919.303226,\n",
    "5105.545161,\n",
    "4919.867742,\n",
    "4804.022581,\n",
    "4689.051613,\n",
    "4672.954839,\n",
    "4964.296774,\n",
    "5944.219355,\n",
    "7304.648387,\n",
    "7972.877419,\n",
    "7882.506452,\n",
    "7850.612903,\n",
    "7753.345161,\n",
    "7555.229032,\n",
    "7177.283871\n",
    "\n",
    "], [1, 2, 3, 4, 5, 6, 7, 8, 9, 10, 11, 12, 13, 14, 15, 16, 17, 18, 19, 20, 21, 22, 23, 24], 24*[700]]))"
   ]
  },
  {
   "cell_type": "code",
   "execution_count": null,
   "metadata": {
    "collapsed": true
   },
   "outputs": [],
   "source": [
    "import pandas\n",
    "frame = pandas.read_csv('cf/' + str(row['orispl_code']) + '_' + row['unitid'] + '_' + str(year) + '.csv')\n",
    "    "
   ]
  }
 ],
 "metadata": {
  "kernelspec": {
   "display_name": "Python 2",
   "language": "python",
   "name": "python2"
  },
  "language_info": {
   "codemirror_mode": {
    "name": "ipython",
    "version": 2
   },
   "file_extension": ".py",
   "mimetype": "text/x-python",
   "name": "python",
   "nbconvert_exporter": "python",
   "pygments_lexer": "ipython2",
   "version": "2.7.13"
  }
 },
 "nbformat": 4,
 "nbformat_minor": 2
}
