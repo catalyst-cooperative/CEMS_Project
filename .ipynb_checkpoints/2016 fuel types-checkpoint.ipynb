{
 "cells": [
  {
   "cell_type": "code",
   "execution_count": 1,
   "metadata": {
    "collapsed": true
   },
   "outputs": [],
   "source": [
    "%load_ext sql"
   ]
  },
  {
   "cell_type": "code",
   "execution_count": 10,
   "metadata": {},
   "outputs": [
    {
     "data": {
      "text/plain": [
       "u'Connected: None@2016.db'"
      ]
     },
     "execution_count": 10,
     "metadata": {},
     "output_type": "execute_result"
    }
   ],
   "source": [
    "%sql sqlite:///2016.db"
   ]
  },
  {
   "cell_type": "code",
   "execution_count": 17,
   "metadata": {},
   "outputs": [
    {
     "name": "stdout",
     "output_type": "stream",
     "text": [
      "Done.\n"
     ]
    },
    {
     "data": {
      "text/html": [
       "<table>\n",
       "    <tr>\n",
       "        <th>num_plants</th>\n",
       "        <th>fuel_type</th>\n",
       "        <th>SUM(heat_input)</th>\n",
       "        <th>SUM(CO2_MASS)</th>\n",
       "    </tr>\n",
       "    <tr>\n",
       "        <td>44</td>\n",
       "        <td>Coal</td>\n",
       "        <td>1828294021.68</td>\n",
       "        <td>190078286.186</td>\n",
       "    </tr>\n",
       "    <tr>\n",
       "        <td>14</td>\n",
       "        <td>Natural Gas</td>\n",
       "        <td>113287674.599</td>\n",
       "        <td>6733549.711</td>\n",
       "    </tr>\n",
       "    <tr>\n",
       "        <td>1</td>\n",
       "        <td>Natural Gas, Pipeline Natural Gas</td>\n",
       "        <td>182723.201</td>\n",
       "        <td>10859.063</td>\n",
       "    </tr>\n",
       "    <tr>\n",
       "        <td>1</td>\n",
       "        <td>Other Gas</td>\n",
       "        <td>27517565.063</td>\n",
       "        <td>1624003.463</td>\n",
       "    </tr>\n",
       "    <tr>\n",
       "        <td>195</td>\n",
       "        <td>Pipeline Natural Gas</td>\n",
       "        <td>1373820199.42</td>\n",
       "        <td>81557792.797</td>\n",
       "    </tr>\n",
       "    <tr>\n",
       "        <td>1</td>\n",
       "        <td>Wood</td>\n",
       "        <td>5528270.88</td>\n",
       "        <td>576296.4</td>\n",
       "    </tr>\n",
       "</table>"
      ],
      "text/plain": [
       "[(44, u'Coal', 1828294021.6818595, 190078286.1859955),\n",
       " (14, u'Natural Gas', 113287674.59899981, 6733549.710999983),\n",
       " (1, u'Natural Gas, Pipeline Natural Gas', 182723.20099999988, 10859.062999999996),\n",
       " (1, u'Other Gas', 27517565.06299996, 1624003.4630000028),\n",
       " (195, u'Pipeline Natural Gas', 1373820199.4159188, 81557792.79700759),\n",
       " (1, u'Wood', 5528270.879999992, 576296.3999999982)]"
      ]
     },
     "execution_count": 17,
     "metadata": {},
     "output_type": "execute_result"
    }
   ],
   "source": [
    "%sql select count(distinct orispl_code) as num_plants, fuel_type, SUM(heat_input), SUM(CO2_MASS) from data group by fuel_type"
   ]
  },
  {
   "cell_type": "code",
   "execution_count": 16,
   "metadata": {},
   "outputs": [
    {
     "name": "stdout",
     "output_type": "stream",
     "text": [
      "Done.\n"
     ]
    },
    {
     "data": {
      "text/html": [
       "<table>\n",
       "    <tr>\n",
       "        <th>num_plants</th>\n",
       "        <th>SUM(heat_input)</th>\n",
       "        <th>SUM(CO2_MASS)</th>\n",
       "        <th>fuel_type</th>\n",
       "    </tr>\n",
       "    <tr>\n",
       "        <td>42</td>\n",
       "        <td>1828294021.68</td>\n",
       "        <td>190078286.186</td>\n",
       "        <td>Coal</td>\n",
       "    </tr>\n",
       "    <tr>\n",
       "        <td>14</td>\n",
       "        <td>113287674.599</td>\n",
       "        <td>6733549.711</td>\n",
       "        <td>Natural Gas</td>\n",
       "    </tr>\n",
       "    <tr>\n",
       "        <td>1</td>\n",
       "        <td>182723.201</td>\n",
       "        <td>10859.063</td>\n",
       "        <td>Natural Gas, Pipeline Natural Gas</td>\n",
       "    </tr>\n",
       "    <tr>\n",
       "        <td>1</td>\n",
       "        <td>27517565.063</td>\n",
       "        <td>1624003.463</td>\n",
       "        <td>Other Gas</td>\n",
       "    </tr>\n",
       "    <tr>\n",
       "        <td>192</td>\n",
       "        <td>1373820199.42</td>\n",
       "        <td>81557792.797</td>\n",
       "        <td>Pipeline Natural Gas</td>\n",
       "    </tr>\n",
       "    <tr>\n",
       "        <td>1</td>\n",
       "        <td>5528270.88</td>\n",
       "        <td>576296.4</td>\n",
       "        <td>Wood</td>\n",
       "    </tr>\n",
       "</table>"
      ],
      "text/plain": [
       "[(42, 1828294021.6818595, 190078286.1859955, u'Coal'),\n",
       " (14, 113287674.59899981, 6733549.710999983, u'Natural Gas'),\n",
       " (1, 182723.20099999988, 10859.062999999996, u'Natural Gas, Pipeline Natural Gas'),\n",
       " (1, 27517565.06299996, 1624003.4630000028, u'Other Gas'),\n",
       " (192, 1373820199.4159188, 81557792.79700759, u'Pipeline Natural Gas'),\n",
       " (1, 5528270.879999992, 576296.3999999982, u'Wood')]"
      ]
     },
     "execution_count": 16,
     "metadata": {},
     "output_type": "execute_result"
    }
   ],
   "source": [
    "%sql select count(distinct orispl_code) as num_plants, fuel_type, SUM(heat_input), SUM(CO2_MASS) from data group by fuel_type, state"
   ]
  },
  {
   "cell_type": "code",
   "execution_count": null,
   "metadata": {
    "collapsed": true
   },
   "outputs": [],
   "source": []
  }
 ],
 "metadata": {
  "kernelspec": {
   "display_name": "Python 2",
   "language": "python",
   "name": "python2"
  },
  "language_info": {
   "codemirror_mode": {
    "name": "ipython",
    "version": 2
   },
   "file_extension": ".py",
   "mimetype": "text/x-python",
   "name": "python",
   "nbconvert_exporter": "python",
   "pygments_lexer": "ipython2",
   "version": "2.7.13"
  }
 },
 "nbformat": 4,
 "nbformat_minor": 2
}
