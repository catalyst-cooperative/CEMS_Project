{
 "cells": [
  {
   "cell_type": "code",
   "execution_count": 1,
   "metadata": {
    "collapsed": true
   },
   "outputs": [],
   "source": [
    "%load_ext sql"
   ]
  },
  {
   "cell_type": "code",
   "execution_count": null,
   "metadata": {},
   "outputs": [
    {
     "name": "stdout",
     "output_type": "stream",
     "text": [
      "Done.\n",
      "Done.\n"
     ]
    },
    {
     "data": {
      "text/plain": [
       "[]"
      ]
     },
     "execution_count": 6,
     "metadata": {},
     "output_type": "execute_result"
    }
   ],
   "source": [
    "%%sql\n",
    "sqlite:///smaller.db\n",
    "ATTACH DATABASE 'coal.db' AS NG;\n",
    "create table NG.data as select * from data where fuel_type is 'Coal';"
   ]
  },
  {
   "cell_type": "code",
   "execution_count": 2,
   "metadata": {},
   "outputs": [
    {
     "name": "stdout",
     "output_type": "stream",
     "text": [
      "Done.\n",
      "Done.\n",
      "Done.\n"
     ]
    },
    {
     "data": {
      "text/html": [
       "<table>\n",
       "    <tr>\n",
       "        <th>name</th>\n",
       "        <th>orispl_code</th>\n",
       "        <th>unitid</th>\n",
       "        <th>state</th>\n",
       "        <th>op_date</th>\n",
       "        <th>op_hour</th>\n",
       "        <th>gload</th>\n",
       "        <th>capacity_factor_hr</th>\n",
       "        <th>capacity_factor_gl</th>\n",
       "    </tr>\n",
       "    <tr>\n",
       "        <td>Centralia</td>\n",
       "        <td>3845</td>\n",
       "        <td>BW21</td>\n",
       "        <td>WA</td>\n",
       "        <td>01-01-2001</td>\n",
       "        <td>0</td>\n",
       "        <td>704.0</td>\n",
       "        <td>0.563378021678</td>\n",
       "        <td>0.907216494845</td>\n",
       "    </tr>\n",
       "    <tr>\n",
       "        <td>Centralia</td>\n",
       "        <td>3845</td>\n",
       "        <td>BW21</td>\n",
       "        <td>WA</td>\n",
       "        <td>01-01-2001</td>\n",
       "        <td>1</td>\n",
       "        <td>706.0</td>\n",
       "        <td>0.575998267023</td>\n",
       "        <td>0.909793814433</td>\n",
       "    </tr>\n",
       "    <tr>\n",
       "        <td>Centralia</td>\n",
       "        <td>3845</td>\n",
       "        <td>BW21</td>\n",
       "        <td>WA</td>\n",
       "        <td>01-01-2001</td>\n",
       "        <td>2</td>\n",
       "        <td>704.0</td>\n",
       "        <td>0.562110381014</td>\n",
       "        <td>0.907216494845</td>\n",
       "    </tr>\n",
       "    <tr>\n",
       "        <td>Centralia</td>\n",
       "        <td>3845</td>\n",
       "        <td>BW21</td>\n",
       "        <td>WA</td>\n",
       "        <td>01-01-2001</td>\n",
       "        <td>3</td>\n",
       "        <td>702.0</td>\n",
       "        <td>0.560016367006</td>\n",
       "        <td>0.904639175258</td>\n",
       "    </tr>\n",
       "    <tr>\n",
       "        <td>Centralia</td>\n",
       "        <td>3845</td>\n",
       "        <td>BW21</td>\n",
       "        <td>WA</td>\n",
       "        <td>01-01-2001</td>\n",
       "        <td>4</td>\n",
       "        <td>702.0</td>\n",
       "        <td>0.560072528301</td>\n",
       "        <td>0.904639175258</td>\n",
       "    </tr>\n",
       "</table>"
      ],
      "text/plain": [
       "[(u'Centralia', 3845, u'BW21', u'WA', u'01-01-2001', 0, 704.0, 0.5633780216782599, 0.9072164948453608),\n",
       " (u'Centralia', 3845, u'BW21', u'WA', u'01-01-2001', 1, 706.0, 0.5759982670228897, 0.9097938144329897),\n",
       " (u'Centralia', 3845, u'BW21', u'WA', u'01-01-2001', 2, 704.0, 0.5621103810142729, 0.9072164948453608),\n",
       " (u'Centralia', 3845, u'BW21', u'WA', u'01-01-2001', 3, 702.0, 0.5600163670060414, 0.904639175257732),\n",
       " (u'Centralia', 3845, u'BW21', u'WA', u'01-01-2001', 4, 702.0, 0.5600725283012813, 0.904639175257732)]"
      ]
     },
     "execution_count": 2,
     "metadata": {},
     "output_type": "execute_result"
    }
   ],
   "source": [
    "%%sql\n",
    "sqlite:///coal.db\n",
    "drop table if exists cf;\n",
    "create table cf as \n",
    "select name, d.orispl_code, d.unitid, state, op_date, op_hour, gload, \n",
    "cast(HEAT_INPUT as float) / cast(max_gen_hr as float) as capacity_factor_hr,\n",
    "cast(gload as float) / cast(max_gen_gl as float) as capacity_factor_gl\n",
    "from (select orispl_code, unitid, max(CAST(HEAT_INPUT as float)) as max_gen_hr,\n",
    "      max(CAST(gload as float)) as max_gen_gl\n",
    "from data group by orispl_code, unitid) as m, data as d\n",
    "where d.orispl_code = m.orispl_code and d.unitid = m.unitid;\n",
    "select * from cf limit 5;"
   ]
  },
  {
   "cell_type": "code",
   "execution_count": 3,
   "metadata": {
    "collapsed": true
   },
   "outputs": [],
   "source": [
    "import sqlite3\n",
    "import pandas\n",
    "import os.path\n",
    "con = sqlite3.connect('coal.db')\n",
    "labels = pandas.read_sql(\"select orispl_code, unitid from cf group by orispl_code, unitid\", con)\n"
   ]
  },
  {
   "cell_type": "code",
   "execution_count": 4,
   "metadata": {
    "scrolled": true
   },
   "outputs": [
    {
     "name": "stdout",
     "output_type": "stream",
     "text": [
      "87 1\n",
      "113 1\n",
      "113 2\n",
      "113 3\n",
      "113 4\n",
      "126 4\n",
      "160 2\n",
      "160 3\n",
      "465 1\n",
      "465 2\n",
      "465 3\n",
      "465 4\n",
      "468 2\n",
      "469 1\n",
      "469 2\n",
      "469 3\n",
      "469 4\n",
      "470 1\n",
      "470 2\n",
      "470 3\n",
      "477 5\n",
      "492 5\n",
      "492 6\n",
      "492 7\n",
      "508 8\n",
      "525 H1\n",
      "525 H2\n",
      "527 1\n",
      "2187 2\n",
      "2324 1\n",
      "2324 2\n",
      "2324 3\n",
      "2324 4\n",
      "2341 1\n",
      "2341 2\n",
      "2442 1\n",
      "2442 2\n",
      "2442 3\n",
      "2442 4\n",
      "2442 5\n",
      "2451 1\n",
      "2451 2\n",
      "2451 3\n",
      "2451 4\n",
      "3644 1\n",
      "3644 2\n",
      "3845 BW21\n",
      "3845 BW22\n",
      "4158 BW41\n",
      "4158 BW42\n",
      "4158 BW43\n",
      "4158 BW44\n",
      "4162 1\n",
      "4162 2\n",
      "4162 3\n",
      "4941 1\n",
      "4941 2\n",
      "4941 3\n",
      "6021 C1\n",
      "6021 C2\n",
      "6021 C3\n",
      "6076 1\n",
      "6076 2\n",
      "6076 3\n",
      "6076 4\n",
      "6089 B1\n",
      "6101 BW91\n",
      "6106 1SG\n",
      "6165 1\n",
      "6165 2\n",
      "6165 3\n",
      "6177 U1B\n",
      "6177 U2B\n",
      "6204 1\n",
      "6204 2\n",
      "6204 3\n",
      "6248 1\n",
      "6481 1SGA\n",
      "6481 2SGA\n",
      "6761 101\n",
      "7504 001\n",
      "7790 1-1\n",
      "8066 BW71\n",
      "8066 BW72\n",
      "8066 BW73\n",
      "8066 BW74\n",
      "8069 1\n",
      "8069 2\n",
      "8219 1\n",
      "8223 1\n",
      "8223 2\n",
      "8223 4\n",
      "8223 TS3\n",
      "8224 1\n",
      "8224 2\n",
      "50951 1\n",
      "55479 001\n",
      "55749 U1\n",
      "56224 001\n",
      "56319 001\n",
      "56596 001\n",
      "56609 01\n"
     ]
    }
   ],
   "source": [
    "# Generates csv file for each unit, for each year, of capacity factors.\n",
    "if not os.path.exists('cf'):\n",
    "    os.makedirs('cf')\n",
    "for i, row in labels.iterrows():\n",
    "    print row['orispl_code'], row['unitid']\n",
    "    for year in range(2001, 2017):\n",
    "        file_name = 'cf/' + str(row['orispl_code']) + '_' + row['unitid'].replace('*', '') + '_' + str(year) + '.csv'\n",
    "        if os.path.isfile(file_name): continue\n",
    "        table = pandas.read_sql(\"select name, orispl_code, unitid, op_date, op_hour, capacity_factor_gl, capacity_factor_hr from cf\\\n",
    "        where orispl_code is \" + str(row['orispl_code']) + \" and unitid is '\" + row['unitid'] + \"' and \\\n",
    "        substr(op_date, -4) is '\" + str(year) + \"'\", con)\n",
    "        table.to_csv(file_name)"
   ]
  },
  {
   "cell_type": "code",
   "execution_count": null,
   "metadata": {
    "collapsed": true
   },
   "outputs": [],
   "source": []
  }
 ],
 "metadata": {
  "kernelspec": {
   "display_name": "Python 2",
   "language": "python",
   "name": "python2"
  },
  "language_info": {
   "codemirror_mode": {
    "name": "ipython",
    "version": 2
   },
   "file_extension": ".py",
   "mimetype": "text/x-python",
   "name": "python",
   "nbconvert_exporter": "python",
   "pygments_lexer": "ipython2",
   "version": "2.7.13"
  }
 },
 "nbformat": 4,
 "nbformat_minor": 2
}
